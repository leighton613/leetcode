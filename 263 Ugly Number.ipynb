{
 "cells": [
  {
   "cell_type": "code",
   "execution_count": 1,
   "metadata": {
    "collapsed": false
   },
   "outputs": [
    {
     "data": {
      "text/plain": [
       "'\\nWrite a program to check whether a given number is an ugly number.\\nUgly numbers are positive numbers whose prime factors only include 2, 3, 5.\\nFor example, 6, 8 are ugly while 14 is not ugly since it includes another prime factor 7\\n'"
      ]
     },
     "execution_count": 1,
     "metadata": {},
     "output_type": "execute_result"
    }
   ],
   "source": [
    "# 263 Ugly Number\n",
    "'''\n",
    "Write a program to check whether a given number is an ugly number.\n",
    "Ugly numbers are positive numbers whose prime factors only include 2, 3, 5.\n",
    "For example, 6, 8 are ugly while 14 is not ugly since it includes another prime factor 7\n",
    "Note that 1 is typically treated as an ugly number.\n",
    "'''"
   ]
  },
  {
   "cell_type": "code",
   "execution_count": 31,
   "metadata": {
    "collapsed": false
   },
   "outputs": [],
   "source": [
    "# very slow too complecated!!!\n",
    "# may get memory error\n",
    "class Solution(object):\n",
    "    def isPrime(self, factor):\n",
    "        \"\"\"\n",
    "        :type factor: int\n",
    "        :rtype: bool\n",
    "        \"\"\"\n",
    "        if factor in [1,2,3]: return True\n",
    "        for i in range(2, factor/2 + 1):\n",
    "            if factor % i == 0: return False\n",
    "        return True\n",
    "    def isUgly(self, num):\n",
    "        \"\"\"\n",
    "        :type num: int\n",
    "        :rtype: bool\n",
    "        \"\"\"\n",
    "        if num == 1: return True\n",
    "        ugly_num = [2,3,5]\n",
    "        for i in range(2, num/2+1):\n",
    "            if num % i == 0 and self.isPrime(i) and not i in ugly_num:\n",
    "                return False\n",
    "        return True"
   ]
  },
  {
   "cell_type": "code",
   "execution_count": 35,
   "metadata": {
    "collapsed": false
   },
   "outputs": [
    {
     "name": "stdout",
     "output_type": "stream",
     "text": [
      "False\n"
     ]
    }
   ],
   "source": [
    "print Solution().isUgly(214797179)"
   ]
  },
  {
   "cell_type": "code",
   "execution_count": 28,
   "metadata": {
    "collapsed": false
   },
   "outputs": [
    {
     "name": "stdout",
     "output_type": "stream",
     "text": [
      "False\n"
     ]
    }
   ],
   "source": [
    "print Solution().isPrime(8)"
   ]
  },
  {
   "cell_type": "code",
   "execution_count": 36,
   "metadata": {
    "collapsed": true
   },
   "outputs": [],
   "source": [
    "# great \n",
    "class Solution(object):\n",
    "    def isUgly(self, num):\n",
    "        \"\"\"\n",
    "        :type num: int\n",
    "        :rtype: bool\n",
    "        \"\"\"\n",
    "        if num == 1: return True\n",
    "        while num % 2 == 0:\n",
    "            num /= 2\n",
    "        while num % 3 == 0:\n",
    "            num /= 3\n",
    "        while num % 5 == 0:\n",
    "            num /= 5\n",
    "        if num == 1: return True\n",
    "        return False"
   ]
  },
  {
   "cell_type": "code",
   "execution_count": 40,
   "metadata": {
    "collapsed": false
   },
   "outputs": [
    {
     "name": "stdout",
     "output_type": "stream",
     "text": [
      "False\n"
     ]
    }
   ],
   "source": [
    "print Solution().isUgly(214797179)"
   ]
  },
  {
   "cell_type": "code",
   "execution_count": null,
   "metadata": {
    "collapsed": true
   },
   "outputs": [],
   "source": [
    "# 43.93"
   ]
  }
 ],
 "metadata": {
  "kernelspec": {
   "display_name": "Python 2",
   "language": "python",
   "name": "python2"
  },
  "language_info": {
   "codemirror_mode": {
    "name": "ipython",
    "version": 2
   },
   "file_extension": ".py",
   "mimetype": "text/x-python",
   "name": "python",
   "nbconvert_exporter": "python",
   "pygments_lexer": "ipython2",
   "version": "2.7.10"
  }
 },
 "nbformat": 4,
 "nbformat_minor": 0
}
