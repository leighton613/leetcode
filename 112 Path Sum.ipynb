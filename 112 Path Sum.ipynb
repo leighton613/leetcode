{
 "cells": [
  {
   "cell_type": "markdown",
   "metadata": {},
   "source": [
    "Given a binary tree and a sum, determine if the tree has a root-to-leaf path such that adding up all the values along the path equals the given sum.\n",
    "\n",
    "For example:\n",
    "* Given the below binary tree and `sum = 22`\n",
    "* return true, as there exist a root-to-leaf path `5->4->11->2` which sum is 22."
   ]
  },
  {
   "cell_type": "code",
   "execution_count": null,
   "metadata": {
    "collapsed": true
   },
   "outputs": [],
   "source": [
    "\n",
    "'''\n",
    "ETT\n",
    "38.29%\n",
    "'''\n",
    "# Definition for a binary tree node.\n",
    "# class TreeNode(object):\n",
    "#     def __init__(self, x):\n",
    "#         self.val = x\n",
    "#         self.left = None\n",
    "#         self.right = None\n",
    "\n",
    "class Solution(object):\n",
    "    def hasPathSum(self, root, sum):\n",
    "        \"\"\"\n",
    "        :type root: TreeNode\n",
    "        :type sum: int\n",
    "        :rtype: bool\n",
    "        \"\"\"\n",
    "        if not root: return False\n",
    "        curr_sum = 0\n",
    "        return True if self._tour(root, curr_sum, sum) else False\n",
    "        \n",
    "    def _tour(self, p, curr_sum, sum):\n",
    "        curr_sum += p.val\n",
    "        if not p.left and not p.right:\n",
    "            if curr_sum == sum: return True\n",
    "        left_flag = self._tour(p.left, curr_sum, sum) if p.left else False\n",
    "        right_flag = self._tour(p.right, curr_sum, sum) if p.right else False\n",
    "        return left_flag or right_flag"
   ]
  }
 ],
 "metadata": {
  "kernelspec": {
   "display_name": "Python 2",
   "language": "python",
   "name": "python2"
  },
  "language_info": {
   "codemirror_mode": {
    "name": "ipython",
    "version": 2
   },
   "file_extension": ".py",
   "mimetype": "text/x-python",
   "name": "python",
   "nbconvert_exporter": "python",
   "pygments_lexer": "ipython2",
   "version": "2.7.11"
  }
 },
 "nbformat": 4,
 "nbformat_minor": 0
}
