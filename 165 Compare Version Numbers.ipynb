{
 "cells": [
  {
   "cell_type": "markdown",
   "metadata": {},
   "source": [
    "Compare two version numbers version1 and version2.\n",
    "If version1 > version2 return 1, if version1 < version2 return -1, otherwise return 0.\n",
    "\n",
    "You may assume that the version strings are non-empty and contain only digits and the . character.\n",
    "The . character does not represent a decimal point and is used to separate number sequences.\n",
    "For instance, 2.5 is not \"two and a half\" or \"half way to version three\", it is the fifth second-level revision of the second first-level revision.\n",
    "\n",
    "Here is an example of version numbers ordering:\n",
    "\n",
    "`0.1 < 1.1 < 1.2 < 13.37`"
   ]
  },
  {
   "cell_type": "code",
   "execution_count": 42,
   "metadata": {
    "collapsed": true
   },
   "outputs": [],
   "source": [
    "class Solution(object):\n",
    "    def compareVersion(self, version1, version2):\n",
    "        \"\"\"\n",
    "        :type version1: str\n",
    "        :type version2: str\n",
    "        :rtype: int\n",
    "        \"\"\"\n",
    "        if version1 and version2:\n",
    "            nums1 = [int(i) for i in version1.split('.')]\n",
    "            nums2 = [int(i) for i in version2.split('.')]\n",
    "            \n",
    "            print nums1\n",
    "            print nums2\n",
    "            \n",
    "            while nums1 and nums2:\n",
    "                n1 = nums1.pop(0)\n",
    "                n2 = nums2.pop(0)\n",
    "                if n1 > n2: return 1\n",
    "                elif n1 < n2 : return -1\n",
    "            else:\n",
    "                if nums1: \n",
    "                    if set(nums1) == set([0]): return 0 \n",
    "                    else: return 1\n",
    "                elif nums2: \n",
    "                    if set(nums2) == set([0]): return 0\n",
    "                    else: return -1    \n",
    "                else:\n",
    "                    return 0\n",
    "        else:\n",
    "            return 0"
   ]
  },
  {
   "cell_type": "code",
   "execution_count": null,
   "metadata": {
    "collapsed": true
   },
   "outputs": [],
   "source": []
  }
 ],
 "metadata": {
  "kernelspec": {
   "display_name": "Python 2",
   "language": "python",
   "name": "python2"
  },
  "language_info": {
   "codemirror_mode": {
    "name": "ipython",
    "version": 2
   },
   "file_extension": ".py",
   "mimetype": "text/x-python",
   "name": "python",
   "nbconvert_exporter": "python",
   "pygments_lexer": "ipython2",
   "version": "2.7.11"
  }
 },
 "nbformat": 4,
 "nbformat_minor": 0
}
