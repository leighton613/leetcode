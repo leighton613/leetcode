{
 "cells": [
  {
   "cell_type": "markdown",
   "metadata": {},
   "source": [
    "Given a pattern and a string str, find if str follows the same pattern.\n",
    "\n",
    "Here follow means a full match, such that there is a bijection between a letter in pattern and a non-empty word in str.\n",
    "\n",
    "Examples:\n",
    "\n",
    "    pattern = \"abba\", str = \"dog cat cat dog\" should return true.\n",
    "    pattern = \"abba\", str = \"dog cat cat fish\" should return false.\n",
    "    pattern = \"aaaa\", str = \"dog cat cat dog\" should return false.\n",
    "    pattern = \"abba\", str = \"dog dog dog dog\" should return false.\n",
    "    \n",
    "Notes:\n",
    "\n",
    "You may assume pattern contains only lowercase letters, and str contains lowercase letters separated by a single space."
   ]
  },
  {
   "cell_type": "code",
   "execution_count": 13,
   "metadata": {
    "collapsed": true
   },
   "outputs": [],
   "source": [
    "class Solution(object):\n",
    "    def wordPattern(self, pattern, str):\n",
    "        \"\"\"\n",
    "        :type pattern: str\n",
    "        :type str: str\n",
    "        :rtype: bool\n",
    "        \"\"\"\n",
    "        \n",
    "        s_list = str.strip().split(' ')\n",
    "        if len(s_list) != len(pattern): return False\n",
    "        pat2word = {}\n",
    "        word2pat = {}\n",
    "        for i in range(len(pattern)):\n",
    "            char = pattern[i]\n",
    "            word = s_list[i]\n",
    "            \n",
    "            if char not in pat2word:\n",
    "                pat2word[char] = word\n",
    "            elif pat2word[char] != word:\n",
    "                return False\n",
    "            \n",
    "            if word not in word2pat:\n",
    "                word2pat[word] = char\n",
    "            elif word2pat[word] != char:\n",
    "                return False\n",
    "            \n",
    "        return True\n",
    "                "
   ]
  },
  {
   "cell_type": "code",
   "execution_count": 14,
   "metadata": {
    "collapsed": false
   },
   "outputs": [
    {
     "data": {
      "text/plain": [
       "False"
      ]
     },
     "execution_count": 14,
     "metadata": {},
     "output_type": "execute_result"
    }
   ],
   "source": [
    "pattern = \"abba\"\n",
    "str = \"dog dog dog dog\"\n",
    "Solution().wordPattern(pattern, str)"
   ]
  },
  {
   "cell_type": "code",
   "execution_count": null,
   "metadata": {
    "collapsed": true
   },
   "outputs": [],
   "source": []
  }
 ],
 "metadata": {
  "kernelspec": {
   "display_name": "Python 2",
   "language": "python",
   "name": "python2"
  },
  "language_info": {
   "codemirror_mode": {
    "name": "ipython",
    "version": 2
   },
   "file_extension": ".py",
   "mimetype": "text/x-python",
   "name": "python",
   "nbconvert_exporter": "python",
   "pygments_lexer": "ipython2",
   "version": "2.7.11"
  }
 },
 "nbformat": 4,
 "nbformat_minor": 0
}
