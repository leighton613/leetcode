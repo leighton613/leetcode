{
 "cells": [
  {
   "cell_type": "markdown",
   "metadata": {},
   "source": [
    "Given a stream of integers and a window size, calculate the moving average of all integers in the sliding window.\n",
    "\n",
    "For example,\n",
    "\n",
    "    MovingAverage m = new MovingAverage(3);\n",
    "    m.next(1) = 1\n",
    "    m.next(10) = (1 + 10) / 2\n",
    "    m.next(3) = (1 + 10 + 3) / 3\n",
    "    m.next(5) = (10 + 3 + 5) / 3"
   ]
  },
  {
   "cell_type": "code",
   "execution_count": 20,
   "metadata": {
    "collapsed": true
   },
   "outputs": [],
   "source": [
    "\"\"\"77%\"\"\"\n",
    "\n",
    "class MovingAverage(object):\n",
    "\n",
    "    def __init__(self, size):\n",
    "        \"\"\"\n",
    "        Initialize your data structure here.\n",
    "        :type size: int\n",
    "        \"\"\"\n",
    "        self.data = []\n",
    "        self.size = size\n",
    "        self.sum = 0\n",
    "        self.num = 0\n",
    "        \n",
    "\n",
    "    def next(self, val):\n",
    "        \"\"\"\n",
    "        :type val: int\n",
    "        :rtype: float\n",
    "        \"\"\"\n",
    "        if self.num < self.size:\n",
    "            self.data.append(val)\n",
    "            self.sum += val\n",
    "            self.num += 1\n",
    "            return self.sum / float(self.num)\n",
    "        else:\n",
    "            idx = self.num % self.size\n",
    "            self.sum -= self.data[idx]\n",
    "            self.sum += val\n",
    "            self.num += 1\n",
    "            self.data[idx] = val\n",
    "            return self.sum / float(self.size)\n",
    "            "
   ]
  }
 ],
 "metadata": {
  "kernelspec": {
   "display_name": "Python 2",
   "language": "python",
   "name": "python2"
  },
  "language_info": {
   "codemirror_mode": {
    "name": "ipython",
    "version": 2
   },
   "file_extension": ".py",
   "mimetype": "text/x-python",
   "name": "python",
   "nbconvert_exporter": "python",
   "pygments_lexer": "ipython2",
   "version": "2.7.11"
  }
 },
 "nbformat": 4,
 "nbformat_minor": 0
}
