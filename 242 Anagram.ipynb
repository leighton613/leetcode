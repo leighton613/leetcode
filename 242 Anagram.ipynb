{
 "cells": [
  {
   "cell_type": "code",
   "execution_count": 1,
   "metadata": {
    "collapsed": false
   },
   "outputs": [
    {
     "data": {
      "text/plain": [
       "'\\nGiven two strings s and t, write a function to determine if t is an anagram of s\\n'"
      ]
     },
     "execution_count": 1,
     "metadata": {},
     "output_type": "execute_result"
    }
   ],
   "source": [
    "#\n",
    "'''\n",
    "Given two strings s and t, write a function to determine if t is an anagram of s\n",
    "'''"
   ]
  },
  {
   "cell_type": "code",
   "execution_count": 11,
   "metadata": {
    "collapsed": true
   },
   "outputs": [],
   "source": [
    "# for alphabet and unicode\n",
    "# O(n log(n))\n",
    "class Solution(object):\n",
    "    def isAnagram(self, s, t):\n",
    "        \"\"\"\n",
    "        :type s: str\n",
    "        :type t: str\n",
    "        :rtype: bool\n",
    "        \"\"\"\n",
    "        if len(s) != len(t): return False\n",
    "        list_s = []\n",
    "        list_t = []\n",
    "        for i in s:\n",
    "            list_s.append(i)\n",
    "        for j in t:\n",
    "            list_t.append(j)\n",
    "        print sorted(list_s)\n",
    "        print sorted(list_t)\n",
    "        return sorted(list_s) == sorted(list_t)"
   ]
  },
  {
   "cell_type": "code",
   "execution_count": 59,
   "metadata": {
    "collapsed": false
   },
   "outputs": [],
   "source": [
    "# for alphabet and unicode\n",
    "class Solution3(object):\n",
    "    def isAnagram(self, s, t):\n",
    "        \"\"\"\n",
    "        :type s: str\n",
    "        :type t: str\n",
    "        :rtype: bool\n",
    "        \"\"\"\n",
    "        while s != '':\n",
    "            if len(s) != len(t): return False\n",
    "            try:\n",
    "                t = t.replace(s[0],'')\n",
    "                s = s.replace(s[0],'')\n",
    "            except:\n",
    "                return False\n",
    "        else:\n",
    "            return True"
   ]
  },
  {
   "cell_type": "code",
   "execution_count": 32,
   "metadata": {
    "collapsed": false
   },
   "outputs": [],
   "source": [
    "# only for a-z\n",
    "# O(n)\n",
    "class Solution2(object):\n",
    "    def isAnagram(self, s, t):\n",
    "        \"\"\"\n",
    "        :type s: str\n",
    "        :type t: str\n",
    "        :rtype: bool\n",
    "        \"\"\"\n",
    "        if len(s) != len(t): return False\n",
    "        list_ch = [0] * 26\n",
    "        for i in s:\n",
    "            list_ch[ord(i) - 97] += 1\n",
    "        print list_ch\n",
    "        for i in t:\n",
    "            list_ch[ord(i) - 97] -= 1\n",
    "        print list_ch\n",
    "        return list_ch == [0] * 26"
   ]
  },
  {
   "cell_type": "code",
   "execution_count": 60,
   "metadata": {
    "collapsed": false
   },
   "outputs": [
    {
     "name": "stdout",
     "output_type": "stream",
     "text": [
      "False\n"
     ]
    }
   ],
   "source": [
    "s = 'abcd!rtyui'\n",
    "t = 'abcd:dfghj'\n",
    "a = Solution3().isAnagram(s,t)\n",
    "print a"
   ]
  },
  {
   "cell_type": "code",
   "execution_count": null,
   "metadata": {
    "collapsed": true
   },
   "outputs": [],
   "source": []
  }
 ],
 "metadata": {
  "kernelspec": {
   "display_name": "Python 2",
   "language": "python",
   "name": "python2"
  },
  "language_info": {
   "codemirror_mode": {
    "name": "ipython",
    "version": 2
   },
   "file_extension": ".py",
   "mimetype": "text/x-python",
   "name": "python",
   "nbconvert_exporter": "python",
   "pygments_lexer": "ipython2",
   "version": "2.7.10"
  }
 },
 "nbformat": 4,
 "nbformat_minor": 0
}
