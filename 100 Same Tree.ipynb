{
 "cells": [
  {
   "cell_type": "code",
   "execution_count": null,
   "metadata": {
    "collapsed": true
   },
   "outputs": [],
   "source": [
    "#\n",
    "'''\n",
    "\n",
    "'''"
   ]
  },
  {
   "cell_type": "code",
   "execution_count": 6,
   "metadata": {
    "collapsed": true
   },
   "outputs": [],
   "source": [
    "class Solution(object):\n",
    "    def isSameTree(self, p, q):\n",
    "        \"\"\"\n",
    "        :type p: TreeNode\n",
    "        :type q: TreeNode\n",
    "        :rtype: bool\n",
    "        \"\"\"\n",
    "        if p == None and q == None: return True\n",
    "        elif p == None: return False\n",
    "        elif q == None: return False\n",
    "        layer_p = [p]\n",
    "        layer_q = [q]\n",
    "        while len(layer_p) > 0 and len(layer_q) > 0:\n",
    "            if len(layer_p) != len(layer_p): return False\n",
    "            temp_p = []\n",
    "            temp_q = []\n",
    "            for i in range(len(layer_p)):\n",
    "                if not (layer_p[i].val == layer_q[i].val and layer_p[i].left == layer_q[i].left and layer_p[i].right == layer_q[i].right):\n",
    "                    return False\n",
    "                if layer_p[i].left != None: temp_p.append(layer_p[i].left)\n",
    "                if layer_p[i].right != None: temp_p.append(layer_p[i].right)\n",
    "                if layer_q[i].left != None: temp_q.append(layer_q[i].left)\n",
    "                if layer_q[i].right != None: temp_q.append(layer_q[i].right)\n",
    "            layer_p = temp_p\n",
    "            layer_q = temp_q\n",
    "        return True"
   ]
  },
  {
   "cell_type": "code",
   "execution_count": null,
   "metadata": {
    "collapsed": false
   },
   "outputs": [],
   "source": [
    "class Solution_right(object):\n",
    "    def isSameTree(self, p, q):\n",
    "        \"\"\"\n",
    "        :type p: TreeNode\n",
    "        :type q: TreeNode\n",
    "        :rtype: bool\n",
    "        \"\"\"\n",
    "        if p == None and q == None: return True\n",
    "        elif p == None or q == None: return False\n",
    "        else:\n",
    "            if p.val == q.val: \n",
    "                return self.isSameTree(p.left,q.left) and self.isSameTree(p.right,q.right)\n",
    "            else: \n",
    "                return False"
   ]
  },
  {
   "cell_type": "code",
   "execution_count": null,
   "metadata": {
    "collapsed": false
   },
   "outputs": [],
   "source": []
  },
  {
   "cell_type": "code",
   "execution_count": null,
   "metadata": {
    "collapsed": true
   },
   "outputs": [],
   "source": []
  }
 ],
 "metadata": {
  "kernelspec": {
   "display_name": "Python 2",
   "language": "python",
   "name": "python2"
  },
  "language_info": {
   "codemirror_mode": {
    "name": "ipython",
    "version": 2
   },
   "file_extension": ".py",
   "mimetype": "text/x-python",
   "name": "python",
   "nbconvert_exporter": "python",
   "pygments_lexer": "ipython2",
   "version": "2.7.10"
  }
 },
 "nbformat": 4,
 "nbformat_minor": 0
}
