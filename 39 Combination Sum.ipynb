{
 "cells": [
  {
   "cell_type": "markdown",
   "metadata": {},
   "source": [
    "Given a set of candidate numbers (C) and a target number (T), find all unique combinations in C where the candidate numbers sums to T.\n",
    "\n",
    "The same repeated number may be chosen from C unlimited number of times.\n",
    "\n",
    "**Note:**\n",
    "- All numbers (including target) will be positive integers.\n",
    "- The solution set must not contain duplicate combinations.\n",
    "- For example, given candidate set [2, 3, 6, 7] and target 7, A solution set is: \n",
    "\n",
    "    [\n",
    "      [7],\n",
    "      [2, 2, 3]\n",
    "    ]"
   ]
  },
  {
   "cell_type": "code",
   "execution_count": 22,
   "metadata": {
    "collapsed": true
   },
   "outputs": [],
   "source": [
    "'''196ms'''\n",
    "class Solution1(object):\n",
    "    def combinationSum(self, candidates, target):\n",
    "        \"\"\"\n",
    "        :type candidates: List[int]\n",
    "        :type target: int\n",
    "        :rtype: List[List[int]]\n",
    "        \"\"\"\n",
    "        candidates = sorted([i for i in candidates if i <= target])\n",
    "        ans = []\n",
    "        prefix = []\n",
    "        return self.recurCS(candidates, target, prefix, ans)\n",
    "        \n",
    "    def recurCS(self, candidates, target, prefix, ans, start=0):\n",
    "        \n",
    "        if target == 0:\n",
    "            ans.append(prefix)\n",
    "            return ans\n",
    "        elif target < 0:\n",
    "            return ans\n",
    "        else:\n",
    "            for i in range(start, len(candidates)):\n",
    "                num = candidates[i]\n",
    "                self.recurCS(candidates, target-num, prefix+[num], ans, start=i)\n",
    "        return ans\n",
    "        "
   ]
  },
  {
   "cell_type": "code",
   "execution_count": 26,
   "metadata": {
    "collapsed": true
   },
   "outputs": [],
   "source": [
    "\"\"\"DP 125ms\"\"\"\n",
    "class Solution(object):\n",
    "    def combinationSum(self, candidates, target):\n",
    "        \"\"\"\n",
    "        :type candidates: List[int]\n",
    "        :type target: int\n",
    "        :rtype: List[List[int]]\n",
    "        \"\"\"\n",
    "        candidates = sorted([i for i in candidates if i <= target])\n",
    "        \n",
    "        N = len(candidates)\n",
    "        table = [[] for  i in range(target)]\n",
    "        for t in range(1, target+1):\n",
    "            for i in range(N):\n",
    "                num = candidates[i]\n",
    "                if num > t:\n",
    "                    break\n",
    "                if num == t:\n",
    "                    table[t-1].append([num])\n",
    "                elif table[t-num-1]:\n",
    "                    for l in table[t-num-1]:\n",
    "                        if l[-1] <= num:\n",
    "                            table[t-1].append(l+[num])\n",
    "        return table[-1]"
   ]
  },
  {
   "cell_type": "code",
   "execution_count": 27,
   "metadata": {
    "collapsed": false
   },
   "outputs": [
    {
     "data": {
      "text/plain": [
       "[[2, 2, 3], [7]]"
      ]
     },
     "execution_count": 27,
     "metadata": {},
     "output_type": "execute_result"
    }
   ],
   "source": [
    "Solution().combinationSum( [2, 3, 6, 7], 7)"
   ]
  },
  {
   "cell_type": "code",
   "execution_count": 25,
   "metadata": {
    "collapsed": false
   },
   "outputs": [
    {
     "data": {
      "text/plain": [
       "[[2, 2, 3], [7]]"
      ]
     },
     "execution_count": 25,
     "metadata": {},
     "output_type": "execute_result"
    }
   ],
   "source": [
    "Solution1().combinationSum( [2, 3, 6, 7], 7)"
   ]
  }
 ],
 "metadata": {
  "kernelspec": {
   "display_name": "Python 2",
   "language": "python",
   "name": "python2"
  },
  "language_info": {
   "codemirror_mode": {
    "name": "ipython",
    "version": 2
   },
   "file_extension": ".py",
   "mimetype": "text/x-python",
   "name": "python",
   "nbconvert_exporter": "python",
   "pygments_lexer": "ipython2",
   "version": "2.7.11"
  }
 },
 "nbformat": 4,
 "nbformat_minor": 0
}
