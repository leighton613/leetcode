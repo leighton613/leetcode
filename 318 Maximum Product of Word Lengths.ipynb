{
 "cells": [
  {
   "cell_type": "markdown",
   "metadata": {},
   "source": [
    "Given a string array words, find the *maximum value* of `length(word[i]) * length(word[j])` where the two words do not share common letters. You may assume that each word will contain only lower case letters. If no such two words exist, return 0.\n",
    "\n",
    "**Example 1:**\n",
    "- Given `[\"abcw\", \"baz\", \"foo\", \"bar\", \"xtfn\", \"abcdef\"]`\n",
    "- Return `16`\n",
    "- The two words can be `\"abcw\", \"xtfn\"`.\n",
    "\n",
    "**Example 2:**\n",
    "- Given `[\"a\", \"ab\", \"abc\", \"d\", \"cd\", \"bcd\", \"abcd\"]`\n",
    "- Return `4`\n",
    "- The two words can be `\"ab\", \"cd\"`.\n",
    "\n",
    "**Example 3:**\n",
    "- Given `[\"a\", \"aa\", \"aaa\", \"aaaa\"]`\n",
    "- Return `0`\n",
    "- No such pair of words."
   ]
  },
  {
   "cell_type": "code",
   "execution_count": 5,
   "metadata": {
    "collapsed": true
   },
   "outputs": [],
   "source": [
    "class Solution(object):\n",
    "    def maxProduct(self, words):\n",
    "        \"\"\"\n",
    "        :type words: List[str]\n",
    "        :rtype: int\n",
    "        \"\"\"\n",
    "        maxProd = 0\n",
    "        bits = [self.word2bits(s) for s in words]\n",
    "        lengths = map(len, words)\n",
    "        for i in range(len(bits)):\n",
    "            for j in range(i+1, len(bits)):\n",
    "                if bits[i] & bits[j] == 0:\n",
    "                    temp_prod = lengths[i] * lengths[j]\n",
    "                    if temp_prod > maxProd:\n",
    "                        maxProd = temp_prod\n",
    "        return maxProd\n",
    "    def word2bits(self, word):\n",
    "        \"\"\"\n",
    "        :type word: str\n",
    "        :rtype int\n",
    "        \"\"\"\n",
    "        bits = 0\n",
    "        for c in word:\n",
    "            bits |= 1<<(ord(c)-ord('a'))\n",
    "        return bits"
   ]
  },
  {
   "cell_type": "code",
   "execution_count": 8,
   "metadata": {
    "collapsed": false
   },
   "outputs": [
    {
     "data": {
      "text/plain": [
       "16"
      ]
     },
     "execution_count": 8,
     "metadata": {},
     "output_type": "execute_result"
    }
   ],
   "source": [
    "words = [\"abcw\", \"baz\", \"foo\", \"bar\", \"xtfn\", \"abcdef\"]\n",
    "Solution().maxProduct(words)"
   ]
  },
  {
   "cell_type": "code",
   "execution_count": null,
   "metadata": {
    "collapsed": true
   },
   "outputs": [],
   "source": []
  }
 ],
 "metadata": {
  "kernelspec": {
   "display_name": "Python 2",
   "language": "python",
   "name": "python2"
  },
  "language_info": {
   "codemirror_mode": {
    "name": "ipython",
    "version": 2
   },
   "file_extension": ".py",
   "mimetype": "text/x-python",
   "name": "python",
   "nbconvert_exporter": "python",
   "pygments_lexer": "ipython2",
   "version": "2.7.11"
  }
 },
 "nbformat": 4,
 "nbformat_minor": 0
}
