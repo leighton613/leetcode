{
 "cells": [
  {
   "cell_type": "code",
   "execution_count": 1,
   "metadata": {
    "collapsed": true
   },
   "outputs": [],
   "source": [
    "# A strobogrammatic number is a number that looks the same when rotated 180 degrees (looked at upside down).\n",
    "# Write a function to determine if a number is strobogrammatic. The number is represented as a string.\n",
    "# For example, the numbers \"69\", \"88\", and \"818\" are all strobogrammatic."
   ]
  },
  {
   "cell_type": "code",
   "execution_count": 19,
   "metadata": {
    "collapsed": true
   },
   "outputs": [],
   "source": [
    "# 18%\n",
    "\n",
    "class Solution(object):\n",
    "    def isStrobogrammatic(self, num):\n",
    "        \"\"\"\n",
    "        :type num: str\n",
    "        :rtype: bool\n",
    "        \"\"\"\n",
    "        mp = {'1':'1', '6':'9', '8':'8', '9':'6', '0': '0'}\n",
    "        N = len(num)\n",
    "        \n",
    "        # odd-len number, and mid is not ok\n",
    "        if (N % 2 != 0) and (num[N/2] not in ['1', '8' ,'0']):\n",
    "            return False\n",
    "        \n",
    "        # even-len number or (ok)-odd number\n",
    "        for i in range(0, N/2):\n",
    "            if (num[i] not in mp) or (mp[num[i]] != num[N-1-i]):\n",
    "                return False\n",
    "        \n",
    "        return True\n",
    "'''\n",
    "ISSUES:\n",
    "    1. complete test case: \"25\"\n",
    "    2. variable type \"str\" not \"int\"\n",
    "'''\n",
    "'''\n",
    "WHAT TO LEARN:\n",
    "    1. collections.deque\n",
    "    2. counter\n",
    "'''"
   ]
  },
  {
   "cell_type": "code",
   "execution_count": 20,
   "metadata": {
    "collapsed": false
   },
   "outputs": [
    {
     "data": {
      "text/plain": [
       "False"
      ]
     },
     "execution_count": 20,
     "metadata": {},
     "output_type": "execute_result"
    }
   ],
   "source": [
    "num = '25'\n",
    "Solution().isStrobogrammatic(num)"
   ]
  },
  {
   "cell_type": "code",
   "execution_count": 6,
   "metadata": {
    "collapsed": false
   },
   "outputs": [
    {
     "data": {
      "text/plain": [
       "'3'"
      ]
     },
     "execution_count": 6,
     "metadata": {},
     "output_type": "execute_result"
    }
   ],
   "source": [
    "a = \"1234\"\n",
    "a[2]"
   ]
  },
  {
   "cell_type": "code",
   "execution_count": 24,
   "metadata": {
    "collapsed": false
   },
   "outputs": [
    {
     "name": "stdout",
     "output_type": "stream",
     "text": [
      "deque([2, 3, 4, 5])\n"
     ]
    }
   ],
   "source": [
    "# deque is a improved version list\n",
    "# generalization of stacks and queues\n",
    "\n",
    "import collections\n",
    "a = [1, 2, 3, 4, 5]\n",
    "a = collections.deque(a)\n",
    "a.popleft()\n",
    "print a"
   ]
  },
  {
   "cell_type": "code",
   "execution_count": 37,
   "metadata": {
    "collapsed": false
   },
   "outputs": [
    {
     "name": "stdout",
     "output_type": "stream",
     "text": [
      "deque(['1'])\n"
     ]
    }
   ],
   "source": [
    "b = \"1\"\n",
    "b = collections.deque(b)\n",
    "print b"
   ]
  },
  {
   "cell_type": "code",
   "execution_count": 25,
   "metadata": {
    "collapsed": true
   },
   "outputs": [],
   "source": [
    "a.appendleft(6)"
   ]
  },
  {
   "cell_type": "code",
   "execution_count": 26,
   "metadata": {
    "collapsed": false
   },
   "outputs": [
    {
     "name": "stdout",
     "output_type": "stream",
     "text": [
      "deque([6, 2, 3, 4, 5])\n"
     ]
    }
   ],
   "source": [
    "print a"
   ]
  },
  {
   "cell_type": "code",
   "execution_count": 27,
   "metadata": {
    "collapsed": false
   },
   "outputs": [
    {
     "name": "stdout",
     "output_type": "stream",
     "text": [
      "deque([2, 3, 4, 5, 6])\n"
     ]
    }
   ],
   "source": [
    "a.rotate(-1)\n",
    "print a"
   ]
  },
  {
   "cell_type": "code",
   "execution_count": 31,
   "metadata": {
    "collapsed": false
   },
   "outputs": [
    {
     "name": "stdout",
     "output_type": "stream",
     "text": [
      "0\n",
      "Counter()\n"
     ]
    }
   ],
   "source": [
    "# counter is an improved version of dict (sub-class)\n",
    "cnt = collections.Counter()\n",
    "print cnt[\"apple\"]   # it will not return error encountering sth unmet\n",
    "print cnt"
   ]
  },
  {
   "cell_type": "code",
   "execution_count": 33,
   "metadata": {
    "collapsed": false
   },
   "outputs": [
    {
     "name": "stdout",
     "output_type": "stream",
     "text": [
      "Counter({'p': 2, 'a': 1, 'e': 1, 'l': 1})\n"
     ]
    }
   ],
   "source": [
    "cnt = collections.Counter(\"apple\") # transfer from an iteral (str, list,)\n",
    "print cnt"
   ]
  },
  {
   "cell_type": "code",
   "execution_count": 34,
   "metadata": {
    "collapsed": false
   },
   "outputs": [
    {
     "name": "stdout",
     "output_type": "stream",
     "text": [
      "Counter({'dogs': 5, 'cats': 4})\n"
     ]
    }
   ],
   "source": [
    "cnt = collections.Counter(cats = 4, dogs = 5) # transfer from keyword args\n",
    "print cnt"
   ]
  },
  {
   "cell_type": "code",
   "execution_count": 48,
   "metadata": {
    "collapsed": true
   },
   "outputs": [],
   "source": [
    "# even slower...\n",
    "\n",
    "from collections import deque\n",
    "class Solution(object):\n",
    "    def isStrobogrammatic(self, num):\n",
    "        \"\"\"\n",
    "        :type num: str\n",
    "        :rtype: bool\n",
    "        \"\"\"\n",
    "        mp = {'1':'1', '6':'9', '8':'8', '9':'6', '0': '0'}\n",
    "        num = deque(num)\n",
    "        \n",
    "        while len(num) >= 2:\n",
    "            try:     # in mp, but not match\n",
    "                if mp[num.pop()] != num.popleft():\n",
    "                    return False\n",
    "            except:  # either one not in mp\n",
    "                return False\n",
    "        # last one or zero\n",
    "        if len(num) == 0 or num[0] in [\"1\", \"8\", \"0\"]:\n",
    "            return True\n",
    "        else:\n",
    "            return False"
   ]
  },
  {
   "cell_type": "code",
   "execution_count": 49,
   "metadata": {
    "collapsed": false
   },
   "outputs": [
    {
     "data": {
      "text/plain": [
       "False"
      ]
     },
     "execution_count": 49,
     "metadata": {},
     "output_type": "execute_result"
    }
   ],
   "source": [
    "num = '2'\n",
    "Solution().isStrobogrammatic(num)"
   ]
  },
  {
   "cell_type": "code",
   "execution_count": null,
   "metadata": {
    "collapsed": true
   },
   "outputs": [],
   "source": []
  },
  {
   "cell_type": "code",
   "execution_count": null,
   "metadata": {
    "collapsed": true
   },
   "outputs": [],
   "source": []
  }
 ],
 "metadata": {
  "kernelspec": {
   "display_name": "Python 2",
   "language": "python",
   "name": "python2"
  },
  "language_info": {
   "codemirror_mode": {
    "name": "ipython",
    "version": 2
   },
   "file_extension": ".py",
   "mimetype": "text/x-python",
   "name": "python",
   "nbconvert_exporter": "python",
   "pygments_lexer": "ipython2",
   "version": "2.7.11"
  }
 },
 "nbformat": 4,
 "nbformat_minor": 0
}
