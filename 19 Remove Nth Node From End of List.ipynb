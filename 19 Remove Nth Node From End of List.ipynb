{
 "cells": [
  {
   "cell_type": "code",
   "execution_count": null,
   "metadata": {
    "collapsed": true
   },
   "outputs": [],
   "source": [
    "'''\n",
    "Tranverse and store the total number\n",
    "65.5%\n",
    "'''\n",
    "\n",
    "# Definition for singly-linked list.\n",
    "# class ListNode(object):\n",
    "#     def __init__(self, x):\n",
    "#         self.val = x\n",
    "#         self.next = None\n",
    "\n",
    "class Solution(object):\n",
    "    def removeNthFromEnd(self, head, n):\n",
    "        \"\"\"\n",
    "        :type head: ListNode\n",
    "        :type n: int\n",
    "        :rtype: ListNode\n",
    "        \"\"\"\n",
    "        if head == None: return None\n",
    "        \n",
    "        # tranverse\n",
    "        cnt = 0\n",
    "        node = head\n",
    "        while node:\n",
    "            node = node.next\n",
    "            cnt += 1\n",
    "        pos = cnt - n + 1\n",
    "        \n",
    "        # find and delete\n",
    "            # delete the first\n",
    "        if cnt == n:\n",
    "            return head.next\n",
    "            # not the first\n",
    "        cnt = 1\n",
    "        node = head\n",
    "        while cnt < pos - 1:\n",
    "            node = node.next\n",
    "            cnt += 1\n",
    "        node.next = node.next.next\n",
    "        return head"
   ]
  },
  {
   "cell_type": "code",
   "execution_count": null,
   "metadata": {
    "collapsed": true
   },
   "outputs": [],
   "source": [
    "'''\n",
    "distance difference\n",
    "19.50%\n",
    "'''\n",
    "\n",
    "# Definition for singly-linked list.\n",
    "# class ListNode(object):\n",
    "#     def __init__(self, x):\n",
    "#         self.val = x\n",
    "#         self.next = None\n",
    "\n",
    "class Solution(object):\n",
    "    def removeNthFromEnd(self, head, n):\n",
    "        \"\"\"\n",
    "        :type head: ListNode\n",
    "        :type n: int\n",
    "        :rtype: ListNode\n",
    "        \"\"\"\n",
    "        \n",
    "        slow = fast = head\n",
    "        while n:\n",
    "            if fast.next != None:\n",
    "                fast = fast.next\n",
    "                n -= 1\n",
    "            else:\n",
    "                return head.next\n",
    "        while fast.next: # guarantee to have \"next\" to go\n",
    "            fast = fast.next\n",
    "            slow = slow.next\n",
    "        # slow is at prev of the target \n",
    "        slow.next = slow.next.next\n",
    "        return head"
   ]
  },
  {
   "cell_type": "code",
   "execution_count": null,
   "metadata": {
    "collapsed": true
   },
   "outputs": [],
   "source": [
    "'''\n",
    "tranverse and distance\n",
    "1.00%\n",
    "???\n",
    "'''\n",
    "class Solution(object):\n",
    "    def removeNthFromEnd(self, head, n):\n",
    "        \"\"\"\n",
    "        :type head: ListNode\n",
    "        :type n: int\n",
    "        :rtype: ListNode\n",
    "        \"\"\"\n",
    "        N =0\n",
    "        slow = fast = ptr = head\n",
    "        while ptr:\n",
    "            N += 1\n",
    "            if N == n+1: # distance = n+1, 1 for prev of slow\n",
    "                fast = ptr\n",
    "            ptr = ptr.next\n",
    "        \n",
    "        # delete first one\n",
    "        if N == n:\n",
    "            return head.next\n",
    "        while fast.next:\n",
    "            fast = fast.next\n",
    "            slow = slow.next\n",
    "        slow.next = slow.next.next\n",
    "        return head"
   ]
  }
 ],
 "metadata": {
  "kernelspec": {
   "display_name": "Python 2",
   "language": "python",
   "name": "python2"
  },
  "language_info": {
   "codemirror_mode": {
    "name": "ipython",
    "version": 2
   },
   "file_extension": ".py",
   "mimetype": "text/x-python",
   "name": "python",
   "nbconvert_exporter": "python",
   "pygments_lexer": "ipython2",
   "version": "2.7.11"
  }
 },
 "nbformat": 4,
 "nbformat_minor": 0
}
