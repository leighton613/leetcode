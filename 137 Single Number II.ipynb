{
 "cells": [
  {
   "cell_type": "markdown",
   "metadata": {},
   "source": [
    "Given an array of integers, every element appears three times except for one. Find that single one.\n",
    "\n",
    "**Note:**\n",
    "\n",
    "Your algorithm should have a linear runtime complexity. Could you implement it without using extra memory?"
   ]
  },
  {
   "cell_type": "code",
   "execution_count": 34,
   "metadata": {
    "collapsed": true
   },
   "outputs": [],
   "source": [
    "class Solution(object):\n",
    "    def singleNumber(self, nums):\n",
    "        \"\"\"\n",
    "        :type nums: List[int]\n",
    "        :rtype: int\n",
    "        \"\"\"\n",
    "        single = 0\n",
    "        for i in range(32):\n",
    "            mask = 1 << i\n",
    "            bitSum = 0\n",
    "            for num in nums:\n",
    "                bitSum += (num & mask) >> i\n",
    "                # print 'bitSum =', bitSum\n",
    "            single |= (bitSum % 3) << i\n",
    "            # print i, single\n",
    "            \n",
    "        # determine negative\n",
    "        if single & 1<<31:\n",
    "            single = - (single ^ 0xffffffff) - 1\n",
    "\n",
    "        \n",
    "        return single"
   ]
  },
  {
   "cell_type": "code",
   "execution_count": 36,
   "metadata": {
    "collapsed": false
   },
   "outputs": [
    {
     "data": {
      "text/plain": [
       "-6"
      ]
     },
     "execution_count": 36,
     "metadata": {},
     "output_type": "execute_result"
    }
   ],
   "source": [
    "Solution().singleNumber([3,3,3,-11,-11,-11,-6])"
   ]
  }
 ],
 "metadata": {
  "kernelspec": {
   "display_name": "Python 2",
   "language": "python",
   "name": "python2"
  },
  "language_info": {
   "codemirror_mode": {
    "name": "ipython",
    "version": 2
   },
   "file_extension": ".py",
   "mimetype": "text/x-python",
   "name": "python",
   "nbconvert_exporter": "python",
   "pygments_lexer": "ipython2",
   "version": "2.7.11"
  }
 },
 "nbformat": 4,
 "nbformat_minor": 0
}
