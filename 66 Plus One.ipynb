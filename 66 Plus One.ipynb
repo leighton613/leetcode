{
 "cells": [
  {
   "cell_type": "code",
   "execution_count": 1,
   "metadata": {
    "collapsed": true
   },
   "outputs": [],
   "source": [
    "# Given a non-negative number represented as an array of digits, plus one to the number.\n",
    "# The digits are stored such that the most significant digit is at the head of the list."
   ]
  },
  {
   "cell_type": "code",
   "execution_count": 24,
   "metadata": {
    "collapsed": true
   },
   "outputs": [],
   "source": [
    "# 30.36%\n",
    "class Solution(object):\n",
    "    def plusOne(self, digits):\n",
    "        \"\"\"\n",
    "        :type digits: List[int]\n",
    "        :rtype: List[int]\n",
    "        \"\"\"\n",
    "        if len(digits) == 0:\n",
    "            return []\n",
    "        \n",
    "        # detect 9 digits\n",
    "        cnt = 0                     # cnt store number of 9s\n",
    "        pt = len(digits) - 1        # pointer that start from -1\n",
    "        while digits[pt] == 9:\n",
    "            cnt += 1\n",
    "            if cnt != len(digits):  # in case all 9s, then out of index\n",
    "                pt -= 1\n",
    "            else:\n",
    "                break\n",
    "        \n",
    "        # deal with 9 digits\n",
    "        for i in range(cnt):  # change to 0\n",
    "            digits[-i-1] = 0\n",
    "            \n",
    "        if cnt < len(digits):\n",
    "            digits[-cnt-1] += 1\n",
    "        else:       \n",
    "            digits.insert(0,1)\n",
    "        \n",
    "        return digits\n",
    "        \n",
    "        "
   ]
  },
  {
   "cell_type": "code",
   "execution_count": 27,
   "metadata": {
    "collapsed": true
   },
   "outputs": [],
   "source": [
    "digits = [9]"
   ]
  },
  {
   "cell_type": "code",
   "execution_count": 28,
   "metadata": {
    "collapsed": false
   },
   "outputs": [
    {
     "data": {
      "text/plain": [
       "[1, 0]"
      ]
     },
     "execution_count": 28,
     "metadata": {},
     "output_type": "execute_result"
    }
   ],
   "source": [
    "Solution().plusOne(digits)"
   ]
  },
  {
   "cell_type": "code",
   "execution_count": null,
   "metadata": {
    "collapsed": true
   },
   "outputs": [],
   "source": []
  }
 ],
 "metadata": {
  "kernelspec": {
   "display_name": "Python 2",
   "language": "python",
   "name": "python2"
  },
  "language_info": {
   "codemirror_mode": {
    "name": "ipython",
    "version": 2
   },
   "file_extension": ".py",
   "mimetype": "text/x-python",
   "name": "python",
   "nbconvert_exporter": "python",
   "pygments_lexer": "ipython2",
   "version": "2.7.11"
  }
 },
 "nbformat": 4,
 "nbformat_minor": 0
}
