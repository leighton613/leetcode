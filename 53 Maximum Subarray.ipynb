{
 "cells": [
  {
   "cell_type": "markdown",
   "metadata": {
    "collapsed": true
   },
   "source": [
    "Find the contiguous subarray within an array (containing at least one number) which has the largest sum.\n",
    "\n",
    "For example, given the array `[−2,1,−3,4,−1,2,1,−5,4]`\n",
    "the contiguous subarray `[4,−1,2,1]` has the largest `sum = 6`."
   ]
  },
  {
   "cell_type": "code",
   "execution_count": 41,
   "metadata": {
    "collapsed": false
   },
   "outputs": [],
   "source": [
    "'''\n",
    "O(n) time\n",
    "'''\n",
    "'''82.23%'''\n",
    "class Solution(object):\n",
    "    def maxSubArray(self, nums):\n",
    "        \"\"\"\n",
    "        :type nums: List[int]\n",
    "        :rtype: int\n",
    "        \"\"\"\n",
    "        sums = []\n",
    "        cur_sum = 0\n",
    "        for i in nums:\n",
    "            cur_sum += i\n",
    "            sums.append(cur_sum)\n",
    "            \n",
    "        # reduce to buy and sale stocks\n",
    "        minVal = 0\n",
    "        maxDif = max(nums) if nums else None  # !!!\n",
    "        flag = True\n",
    "        for i in sums:\n",
    "            # print i\n",
    "            flag = True # avoid minus itself\n",
    "            if i < minVal:\n",
    "                minVal = i\n",
    "                flag = False\n",
    "            if flag and i - minVal > maxDif:\n",
    "                maxDif = i - minVal\n",
    "        return maxDif"
   ]
  },
  {
   "cell_type": "code",
   "execution_count": 43,
   "metadata": {
    "collapsed": false
   },
   "outputs": [
    {
     "data": {
      "text/plain": [
       "-1"
      ]
     },
     "execution_count": 43,
     "metadata": {},
     "output_type": "execute_result"
    }
   ],
   "source": [
    "nums = [-2,-1]\n",
    "Solution().maxSubArray(nums)"
   ]
  },
  {
   "cell_type": "code",
   "execution_count": null,
   "metadata": {
    "collapsed": true
   },
   "outputs": [],
   "source": []
  }
 ],
 "metadata": {
  "kernelspec": {
   "display_name": "Python 2",
   "language": "python",
   "name": "python2"
  },
  "language_info": {
   "codemirror_mode": {
    "name": "ipython",
    "version": 2
   },
   "file_extension": ".py",
   "mimetype": "text/x-python",
   "name": "python",
   "nbconvert_exporter": "python",
   "pygments_lexer": "ipython2",
   "version": "2.7.11"
  }
 },
 "nbformat": 4,
 "nbformat_minor": 0
}
