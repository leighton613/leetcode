{
 "cells": [
  {
   "cell_type": "markdown",
   "metadata": {},
   "source": [
    "Suppose a sorted array is rotated at some pivot unknown to you beforehand.\n",
    "\n",
    "(i.e., 0 1 2 4 5 6 7 might become 4 5 6 7 0 1 2).\n",
    "\n",
    "You are given a target value to search. If found in the array return its index, otherwise return -1.\n",
    "\n",
    "You may assume no duplicate exists in the array."
   ]
  },
  {
   "cell_type": "code",
   "execution_count": 61,
   "metadata": {
    "collapsed": false
   },
   "outputs": [
    {
     "name": "stdout",
     "output_type": "stream",
     "text": [
      "\n"
     ]
    }
   ],
   "source": [
    "\"\"\"25.06\"\"\"\n",
    "class Solution(object):\n",
    "    def search(self, nums, target):\n",
    "        \"\"\"\n",
    "        :type nums: List[int]\n",
    "        :type target: int\n",
    "        :rtype: int\n",
    "        \"\"\"\n",
    "        low, high = 0, len(nums)-1\n",
    "        while low <= high:\n",
    "            \n",
    "            if nums[low] == target: \n",
    "                return low\n",
    "            if nums[high] == target:\n",
    "                return high\n",
    "            if low == high: return -1\n",
    "            \n",
    "            mid = low + (high - low)/2\n",
    "            # print low, mid, high\n",
    "            if nums[high] > nums[low]:     # no rotation\n",
    "                if target > nums[high] or target < nums[low]: return -1\n",
    "                if target >= nums[mid]:\n",
    "                    low = mid\n",
    "                    high -= 1\n",
    "                else:\n",
    "                    high = mid-1\n",
    "                    low += 1\n",
    "            else:                          # with rotation\n",
    "                if nums[mid] > nums[high]: # extreme part on the left\n",
    "                    if target >= nums[mid] or target <nums[high]:\n",
    "                        low = mid\n",
    "                        high -= 1\n",
    "                    else:\n",
    "                        high = mid-1\n",
    "                        low += 1\n",
    "                \n",
    "                else:                      # extreme part on the right\n",
    "                    if target > nums[low] or target <= nums[mid]:\n",
    "                        high = mid\n",
    "                        low += 1\n",
    "                    else:\n",
    "                        low = mid+1\n",
    "                        high -= 1\n",
    "                        \n",
    "                \n",
    "                \n",
    "        return -1"
   ]
  },
  {
   "cell_type": "code",
   "execution_count": 62,
   "metadata": {
    "collapsed": true
   },
   "outputs": [],
   "source": [
    "nums = [5,6,7,8,1]"
   ]
  },
  {
   "cell_type": "code",
   "execution_count": 63,
   "metadata": {
    "collapsed": false
   },
   "outputs": [
    {
     "data": {
      "text/plain": [
       "4"
      ]
     },
     "execution_count": 63,
     "metadata": {},
     "output_type": "execute_result"
    }
   ],
   "source": [
    "Solution().search(nums,1)"
   ]
  },
  {
   "cell_type": "code",
   "execution_count": 64,
   "metadata": {
    "collapsed": false
   },
   "outputs": [
    {
     "name": "stdout",
     "output_type": "stream",
     "text": [
      "0 -1\n",
      "1 4\n",
      "2 -1\n",
      "3 -1\n",
      "4 -1\n",
      "5 0\n",
      "6 1\n",
      "7 2\n",
      "8 3\n",
      "9 -1\n"
     ]
    }
   ],
   "source": [
    "for i in range(10):\n",
    "    print i, Solution().search(nums,i)"
   ]
  },
  {
   "cell_type": "code",
   "execution_count": null,
   "metadata": {
    "collapsed": true
   },
   "outputs": [],
   "source": []
  }
 ],
 "metadata": {
  "kernelspec": {
   "display_name": "Python 2",
   "language": "python",
   "name": "python2"
  },
  "language_info": {
   "codemirror_mode": {
    "name": "ipython",
    "version": 2
   },
   "file_extension": ".py",
   "mimetype": "text/x-python",
   "name": "python",
   "nbconvert_exporter": "python",
   "pygments_lexer": "ipython2",
   "version": "2.7.11"
  }
 },
 "nbformat": 4,
 "nbformat_minor": 0
}
