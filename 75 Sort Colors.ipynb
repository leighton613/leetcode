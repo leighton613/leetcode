{
 "cells": [
  {
   "cell_type": "markdown",
   "metadata": {},
   "source": [
    "Given an array with n objects colored red, white or blue, sort them so that objects of the same color are adjacent, with the colors in the order red, white and blue.\n",
    "\n",
    "Here, we will use the integers 0, 1, and 2 to represent the color red, white, and blue respectively.\n",
    "\n",
    "**Note:**\n",
    "You are not suppose to use the library's sort function for this problem.\n",
    "\n",
    "click to show follow up.\n",
    "\n",
    "**Follow up:**\n",
    "A rather straight forward solution is a two-pass algorithm using counting sort.\n",
    "First, iterate the array counting number of 0's, 1's, and 2's, then overwrite array with total number of 0's, then 1's and followed by 2's.\n",
    "\n",
    "Could you come up with an one-pass algorithm using only constant space?"
   ]
  },
  {
   "cell_type": "code",
   "execution_count": 1,
   "metadata": {
    "collapsed": true
   },
   "outputs": [],
   "source": [
    "class Solution(object):\n",
    "    def sortColors(self, nums):\n",
    "        \"\"\"\n",
    "        :type nums: List[int]\n",
    "        :rtype: void Do not return anything, modify nums in-place instead.\n",
    "        \"\"\"\n",
    "        mapping = {0:0, 1:0, 2:0}\n",
    "        for i in nums:\n",
    "            mapping[i] += 1\n",
    "        idx = 0\n",
    "        for (k,v) in mapping.items():\n",
    "            for i in range(v):\n",
    "                nums[idx] = k\n",
    "                idx += 1\n",
    "            "
   ]
  },
  {
   "cell_type": "code",
   "execution_count": 43,
   "metadata": {
    "collapsed": true
   },
   "outputs": [],
   "source": [
    "'''49ms'''\n",
    "class Solution(object):\n",
    "    def sortColors(self, nums):\n",
    "        \"\"\"\n",
    "        :type nums: List[int]\n",
    "        :rtype: void Do not return anything, modify nums in-place instead.\n",
    "        \"\"\"\n",
    "        N = len(nums)\n",
    "        if N <= 1: return\n",
    "        \n",
    "        ptr0 = 0\n",
    "        ptr2 = N-1\n",
    "        ptr = 0\n",
    "        OneIn = False\n",
    "        while ptr <= ptr2:\n",
    "#             print nums, ptr0, ptr, ptr2\n",
    "            if nums[ptr] == 0:\n",
    "                nums[ptr], nums[ptr0] = nums[ptr0], nums[ptr]\n",
    "                ptr0 += 1\n",
    "                if ptr0 > ptr:\n",
    "                    ptr = ptr0\n",
    "#                 if OneIn == True:\n",
    "#                     ptr += 1\n",
    "            elif nums[ptr] == 2:\n",
    "                nums[ptr], nums[ptr2] = nums[ptr2], nums[ptr]\n",
    "                ptr2 -= 1\n",
    "            else:\n",
    "#                 if OneIn == False:\n",
    "#                     OneIn = True\n",
    "                ptr += 1\n",
    "        print nums"
   ]
  },
  {
   "cell_type": "code",
   "execution_count": 44,
   "metadata": {
    "collapsed": false
   },
   "outputs": [
    {
     "name": "stdout",
     "output_type": "stream",
     "text": [
      "[0, 1, 1]\n"
     ]
    }
   ],
   "source": [
    "Solution().sortColors([1,1,0])"
   ]
  },
  {
   "cell_type": "code",
   "execution_count": null,
   "metadata": {
    "collapsed": true
   },
   "outputs": [],
   "source": []
  }
 ],
 "metadata": {
  "kernelspec": {
   "display_name": "Python 2",
   "language": "python",
   "name": "python2"
  },
  "language_info": {
   "codemirror_mode": {
    "name": "ipython",
    "version": 2
   },
   "file_extension": ".py",
   "mimetype": "text/x-python",
   "name": "python",
   "nbconvert_exporter": "python",
   "pygments_lexer": "ipython2",
   "version": "2.7.11"
  }
 },
 "nbformat": 4,
 "nbformat_minor": 0
}
