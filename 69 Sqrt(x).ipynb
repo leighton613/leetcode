{
 "cells": [
  {
   "cell_type": "markdown",
   "metadata": {},
   "source": [
    "Implement `int sqrt(int x)`.\n",
    "\n",
    "Compute and return the square root of `x`."
   ]
  },
  {
   "cell_type": "code",
   "execution_count": 1,
   "metadata": {
    "collapsed": true
   },
   "outputs": [],
   "source": [
    "\n",
    "'''\n",
    "Binary search for right int\n",
    "6.28%\n",
    "'''\n",
    "import math\n",
    "class Solution(object):\n",
    "    def mySqrt(self, x):\n",
    "        \"\"\"\n",
    "        :type x: int\n",
    "        :rtype: int\n",
    "        \"\"\"\n",
    "        if x == 1 or 0: return x\n",
    "        length = x\n",
    "        root = x / 2\n",
    "        \n",
    "        while length > 1:\n",
    "            temp = root ** 2\n",
    "            if temp > x:                 # too large\n",
    "                length = math.floor(length / 2.)\n",
    "                root = root - math.ceil(length / 2.)\n",
    "            elif temp < x:               # too small\n",
    "                length = math.ceil(length / 2.)\n",
    "                root = root + math.floor(length / 2.)\n",
    "            else:\n",
    "                break\n",
    "        return int(root)\n",
    "            "
   ]
  },
  {
   "cell_type": "code",
   "execution_count": 2,
   "metadata": {
    "collapsed": false
   },
   "outputs": [
    {
     "data": {
      "text/plain": [
       "3"
      ]
     },
     "execution_count": 2,
     "metadata": {},
     "output_type": "execute_result"
    }
   ],
   "source": [
    "int(3.8)"
   ]
  },
  {
   "cell_type": "code",
   "execution_count": null,
   "metadata": {
    "collapsed": true
   },
   "outputs": [],
   "source": []
  }
 ],
 "metadata": {
  "kernelspec": {
   "display_name": "Python 2",
   "language": "python",
   "name": "python2"
  },
  "language_info": {
   "codemirror_mode": {
    "name": "ipython",
    "version": 2
   },
   "file_extension": ".py",
   "mimetype": "text/x-python",
   "name": "python",
   "nbconvert_exporter": "python",
   "pygments_lexer": "ipython2",
   "version": "2.7.11"
  }
 },
 "nbformat": 4,
 "nbformat_minor": 0
}
