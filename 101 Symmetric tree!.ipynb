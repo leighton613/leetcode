{
 "cells": [
  {
   "cell_type": "code",
   "execution_count": 1,
   "metadata": {
    "collapsed": false
   },
   "outputs": [
    {
     "data": {
      "text/plain": [
       "'\\nGiven a binary tree, check whether it is a mirror of itself (ie, symmetric around its center).\\n\\n'"
      ]
     },
     "execution_count": 1,
     "metadata": {},
     "output_type": "execute_result"
    }
   ],
   "source": [
    "# 101\n",
    "'''\n",
    "Given a binary tree, check whether it is a mirror of itself (ie, symmetric around its center).\n",
    "\n",
    "'''"
   ]
  },
  {
   "cell_type": "code",
   "execution_count": 4,
   "metadata": {
    "collapsed": true
   },
   "outputs": [],
   "source": [
    "# Definition for a binary tree node.\n",
    "# class TreeNode(object):\n",
    "#     def __init__(self, x):\n",
    "#         self.val = x\n",
    "#         self.left = None\n",
    "#         self.right = None\n",
    "'''\n",
    "recursive answer\n",
    "by checking two nodes if they are mirrored\n",
    "'''\n",
    "class Solution(object):\n",
    "    def twoSymetricNode(self, first, second):\n",
    "        '''\n",
    "        :rtype: bool\n",
    "        '''\n",
    "        if first == second == None: return True\n",
    "        elif first == None or second == None: return False\n",
    "        elif first.val == second.val:\n",
    "            return self.twoSymetricNode(first.left, second.right) and self.twoSymetricNode(first.right, second.left)\n",
    "        else:\n",
    "            return False\n",
    "    def isSymmetric(self, root):\n",
    "        \"\"\"\n",
    "        :type root: TreeNode\n",
    "        :rtype: bool\n",
    "        \"\"\"\n",
    "        if root == None: return True\n",
    "        return self.twoSymetricNode(root.left, root.right)\n",
    "# 32,73%"
   ]
  },
  {
   "cell_type": "code",
   "execution_count": 6,
   "metadata": {
    "collapsed": false
   },
   "outputs": [],
   "source": [
    "# Definition for a binary tree node.\n",
    "# class TreeNode(object):\n",
    "#     def __init__(self, x):\n",
    "#         self.val = x\n",
    "#         self.left = None\n",
    "#         self.right = None\n",
    "\n",
    "class Solution(object):\n",
    "    def isSymmetric(self, root):\n",
    "        \"\"\"\n",
    "        :type root: TreeNode\n",
    "        :rtype: bool\n",
    "        \"\"\"\n",
    "        if root == None: return True\n",
    "        if root.left == root.right == None: return True\n",
    "        elif root.left == None or root.right == None: return False\n",
    "        \n",
    "        # left and right != None\n",
    "        # traversal left side\n",
    "        layer_left = [root.left]\n",
    "        layer_right = [root.right]\n",
    "        while layer_left != []:\n",
    "            temp_left = []\n",
    "            temp_right = []\n",
    "            for item1 in layer_left:\n",
    "                if item1.left != None:\n",
    "                    temp_left.append(item1.left)\n",
    "                if item1.right != None:\n",
    "                    temp_left.append(item1.right)\n",
    "            for item2 in layer_right:\n",
    "                if item2.right != None:\n",
    "                    temp_right.append(item2.right)\n",
    "                if item2.left != None:\n",
    "                    temp_right.append(item2.left)\n",
    "            if temp_left != temp_right: return False\n",
    "            layer_left = temp_left\n",
    "            layer_right = temp_right\n",
    "        if layer_right != []:return False\n",
    "        return True\n",
    "# cant work         "
   ]
  },
  {
   "cell_type": "code",
   "execution_count": null,
   "metadata": {
    "collapsed": true
   },
   "outputs": [],
   "source": []
  }
 ],
 "metadata": {
  "kernelspec": {
   "display_name": "Python 2",
   "language": "python",
   "name": "python2"
  },
  "language_info": {
   "codemirror_mode": {
    "name": "ipython",
    "version": 2
   },
   "file_extension": ".py",
   "mimetype": "text/x-python",
   "name": "python",
   "nbconvert_exporter": "python",
   "pygments_lexer": "ipython2",
   "version": "2.7.10"
  }
 },
 "nbformat": 4,
 "nbformat_minor": 0
}
