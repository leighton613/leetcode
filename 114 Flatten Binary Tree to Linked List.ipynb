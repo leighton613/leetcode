{
 "cells": [
  {
   "cell_type": "markdown",
   "metadata": {},
   "source": [
    "Given a binary tree, flatten it to a linked list `in-place`.\n",
    "\n",
    "For example,\n",
    "Given ..."
   ]
  },
  {
   "cell_type": "code",
   "execution_count": null,
   "metadata": {
    "collapsed": true
   },
   "outputs": [],
   "source": [
    "'''\n",
    "preorder tranversal\n",
    "40.24%\n",
    "'''\n",
    "\n",
    "# Definition for a binary tree node.\n",
    "# class TreeNode(object):\n",
    "#     def __init__(self, x):\n",
    "#         self.val = x\n",
    "#         self.left = None\n",
    "#         self.right = None\n",
    "\n",
    "class Solution(object):\n",
    "    def flatten(self, root):\n",
    "        \"\"\"\n",
    "        :type root: TreeNode\n",
    "        :rtype: void Do not return anything, modify root in-place instead.\n",
    "        \"\"\"\n",
    "        if not root: return root\n",
    "        left_tree, root.left = root.left, None\n",
    "        right_tree, root.right = root.right, None\n",
    "        self._tour(root, left_tree, right_tree)\n",
    "        \n",
    "    def _tour(self, p, left, right):\n",
    "        if left:\n",
    "            p.right = left\n",
    "            p = p.right\n",
    "            lleft, left.left = left.left, None\n",
    "            lright, left.right = left.right, None\n",
    "            p = self._tour(p, lleft, lright)\n",
    "        if right:\n",
    "            p.right = right\n",
    "            p = p.right\n",
    "            rleft, right.left = right.left, None\n",
    "            rright, right.right = right.right, None\n",
    "            p = self._tour(p, rleft, rright)\n",
    "        return p\n",
    "        "
   ]
  },
  {
   "cell_type": "markdown",
   "metadata": {},
   "source": [
    "#### Note: \n",
    "p as a parameter in function `_tour`, all the changes in function happens in stack and will be wiped out after calling. Thus, need to return p, which is modified and will be used in another recursion"
   ]
  },
  {
   "cell_type": "code",
   "execution_count": null,
   "metadata": {
    "collapsed": true
   },
   "outputs": [],
   "source": []
  }
 ],
 "metadata": {
  "kernelspec": {
   "display_name": "Python 2",
   "language": "python",
   "name": "python2"
  },
  "language_info": {
   "codemirror_mode": {
    "name": "ipython",
    "version": 2
   },
   "file_extension": ".py",
   "mimetype": "text/x-python",
   "name": "python",
   "nbconvert_exporter": "python",
   "pygments_lexer": "ipython2",
   "version": "2.7.11"
  }
 },
 "nbformat": 4,
 "nbformat_minor": 0
}
