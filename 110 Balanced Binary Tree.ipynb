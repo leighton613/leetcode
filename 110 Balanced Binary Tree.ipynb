{
 "cells": [
  {
   "cell_type": "markdown",
   "metadata": {
    "collapsed": false
   },
   "source": [
    "#### 110\n",
    "\n",
    "Given a binary tree, determine if it is height-balanced.\n",
    "For this problem, a height-balanced binary tree is defined as a binary tree \n",
    "  in which the depth of the two subtrees of every node never differ by more than 1.\n"
   ]
  },
  {
   "cell_type": "code",
   "execution_count": 2,
   "metadata": {
    "collapsed": true
   },
   "outputs": [],
   "source": [
    "# 110\n",
    "# Definition for a binary tree node.\n",
    "# class TreeNode(object):\n",
    "#     def __init__(self, x):\n",
    "#         self.val = x\n",
    "#         self.left = None\n",
    "#         self.right = None\n",
    "\n",
    "class Solution(object):\n",
    "    def depth(self, node):\n",
    "        '''\n",
    "        :rtype: int (including node itself)\n",
    "        '''\n",
    "        if node == None : return 0\n",
    "        layer = [node]\n",
    "        depth = 0\n",
    "        while layer != []:\n",
    "            depth += 1\n",
    "            temp = []\n",
    "            for item in layer:\n",
    "                if item.left != None:\n",
    "                    temp.append(item.left)\n",
    "                if item.right != None:\n",
    "                    temp.append(item.right)\n",
    "            layer = temp\n",
    "        return depth\n",
    "    def isBalanced(self, root):\n",
    "        \"\"\"\n",
    "        :type root: TreeNode\n",
    "        :rtype: bool\n",
    "        \"\"\"\n",
    "        if root == None: return True\n",
    "        if abs(self.depth(root.left) - self.depth(root.right)) > 1:\n",
    "            return False\n",
    "        else:\n",
    "            return self.isBalanced(root.left) and self.isBalanced(root.right)\n",
    "# 45.18%"
   ]
  },
  {
   "cell_type": "code",
   "execution_count": null,
   "metadata": {
    "collapsed": true
   },
   "outputs": [],
   "source": [
    "print Solution().isBalance([])"
   ]
  },
  {
   "cell_type": "code",
   "execution_count": 3,
   "metadata": {
    "collapsed": true
   },
   "outputs": [],
   "source": [
    "# 110\n",
    "# Definition for a binary tree node.\n",
    "# class TreeNode(object):\n",
    "#     def __init__(self, x):\n",
    "#         self.val = x\n",
    "#         self.left = None\n",
    "#         self.right = None\n",
    "\n",
    "class Solution(object):\n",
    "    def balanceAandDepth(self, node):\n",
    "        if node == None: return 0, True\n",
    "        # check left==balanced right==balanced and current point == balanced\n",
    "        left_depth, left_balan = self.balanceAandDepth(node.left)\n",
    "        right_depth, right_balan = self.balanceAandDepth(node.right)\n",
    "        curr_balan = abs(left_depth - right_depth) <= 1\n",
    "        return max(left_depth,right_depth)+1, left_balan and right_balan and curr_balan\n",
    "    def isBalanced(self, root):\n",
    "        \"\"\"\n",
    "        :type root: TreeNode\n",
    "        :rtype: bool\n",
    "        \"\"\"\n",
    "        depth, balance = self.balanceAandDepth(root)\n",
    "        return balance\n",
    "# 81.58%"
   ]
  },
  {
   "cell_type": "markdown",
   "metadata": {},
   "source": [
    "Apr 15 2016"
   ]
  },
  {
   "cell_type": "code",
   "execution_count": null,
   "metadata": {
    "collapsed": true
   },
   "outputs": [],
   "source": [
    "class Solution(object):\n",
    "    def balanceAndDepth(self, node):\n",
    "        '''\n",
    "        rtype: balance boolean\n",
    "        rtype: depth   int\n",
    "        '''\n",
    "        if node == None: return True\n",
    "        \n",
    "        bal_left,  dep_left  = self.balanceAndDepth(node.left)\n",
    "        bal_right, dep_right = self.balanceAndDepth(node.right)\n",
    "        balance = bal_left and bal_right and ((dep_left - dep_right) <= 1)\n",
    "        depth = max(dep_left, dep_right) + 1\n",
    "        return balance, depth\n",
    "    def isBalanced(self, root):\n",
    "        balance, depth = self.balanceAndDepth(root)\n",
    "        return balance"
   ]
  }
 ],
 "metadata": {
  "kernelspec": {
   "display_name": "Python 2",
   "language": "python",
   "name": "python2"
  },
  "language_info": {
   "codemirror_mode": {
    "name": "ipython",
    "version": 2
   },
   "file_extension": ".py",
   "mimetype": "text/x-python",
   "name": "python",
   "nbconvert_exporter": "python",
   "pygments_lexer": "ipython2",
   "version": "2.7.11"
  }
 },
 "nbformat": 4,
 "nbformat_minor": 0
}
