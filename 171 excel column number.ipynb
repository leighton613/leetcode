{
 "cells": [
  {
   "cell_type": "code",
   "execution_count": null,
   "metadata": {
    "collapsed": true
   },
   "outputs": [],
   "source": [
    "# 171\n",
    "'''\n",
    "Given a column title as appear in an Excel sheet, return its corresponding column number.\n",
    "'A' -> 1\n",
    "'B' -> 2\n",
    "...\n",
    "'AA' -> 27\n",
    "'''"
   ]
  },
  {
   "cell_type": "code",
   "execution_count": 3,
   "metadata": {
    "collapsed": false
   },
   "outputs": [
    {
     "name": "stdout",
     "output_type": "stream",
     "text": [
      "26\n",
      "28\n"
     ]
    }
   ],
   "source": [
    "class Solution(object):\n",
    "    def titleToNumber(self, s):\n",
    "        \"\"\"\n",
    "        :type s: str\n",
    "        :rtype: int\n",
    "        \"\"\"\n",
    "        alphabet = {'A': 1, \n",
    "            'B': 2,\n",
    "            'C': 3,\n",
    "            'D': 4,\n",
    "            'E': 5,\n",
    "            'F': 6,\n",
    "            'G': 7,\n",
    "            'H': 8,\n",
    "            'I': 9,\n",
    "            'J': 10,\n",
    "            'K': 11,\n",
    "            'L': 12,\n",
    "            'M': 13,\n",
    "            'N': 14,\n",
    "            'O': 15,\n",
    "            'P': 16,\n",
    "            'Q': 17,\n",
    "            'R': 18,\n",
    "            'S': 19,\n",
    "            'T': 20,\n",
    "            'U': 21,\n",
    "            'V': 22,\n",
    "            'W': 23,\n",
    "            'X': 24,\n",
    "            'Y': 25,\n",
    "            'Z': 26}\n",
    "        result = 0\n",
    "        for i in range(1,len(s)+1):\n",
    "            result += 26 ** (len(s) - i) * alphabet[s[i-1]]\n",
    "        return result"
   ]
  },
  {
   "cell_type": "code",
   "execution_count": 8,
   "metadata": {
    "collapsed": false
   },
   "outputs": [
    {
     "name": "stdout",
     "output_type": "stream",
     "text": [
      "65\n"
     ]
    },
    {
     "data": {
      "text/plain": [
       "49"
      ]
     },
     "execution_count": 8,
     "metadata": {},
     "output_type": "execute_result"
    }
   ],
   "source": [
    "# ASCII\n",
    "'''\n",
    "0~255\n",
    "65~90 A-Z\n",
    "97~122 a-z\n",
    "'''\n",
    "# ASCII - character\n",
    "'''\n",
    "chr(.) -> character\n",
    "ord(. -> ASCII (str 2 int)\n",
    "'''\n",
    "chr(65)\n",
    "print ord('A')\n",
    "ord('1')"
   ]
  },
  {
   "cell_type": "code",
   "execution_count": 9,
   "metadata": {
    "collapsed": true
   },
   "outputs": [],
   "source": [
    "class Solution_faster(object):\n",
    "    def titleToNumber(self, s):\n",
    "        \"\"\"\n",
    "        :type s: str\n",
    "        :rtype: int\n",
    "        \"\"\"\n",
    "        result = 0\n",
    "        for i in range(1,len(s)+1):\n",
    "            result += 26 ** (len(s) - i) * (ord(s[i-1])-64)\n",
    "        return result\n",
    "# 43.69%"
   ]
  },
  {
   "cell_type": "code",
   "execution_count": 10,
   "metadata": {
    "collapsed": false
   },
   "outputs": [
    {
     "data": {
      "text/plain": [
       "'\\nsum(10**(i-1)*x_i)\\n'"
      ]
     },
     "execution_count": 10,
     "metadata": {},
     "output_type": "execute_result"
    }
   ],
   "source": [
    "# arbitrary module convertion\n",
    "'''\n",
    "sum(10**(i-1)*x_i)\n",
    "''' "
   ]
  },
  {
   "cell_type": "code",
   "execution_count": null,
   "metadata": {
    "collapsed": true
   },
   "outputs": [],
   "source": [
    "# list comprehension\n",
    "class Solution(object):\n",
    "    def titleToNumber(self, s):\n",
    "        \"\"\"\n",
    "        :type s: str\n",
    "        :rtype: int\n",
    "        \"\"\"\n",
    "        # result = 0\n",
    "        # for i in :\n",
    "        #     result += 26 ** (len(s) - i) * (ord(s[i-1])-64)\n",
    "        # return result\n",
    "        return sum(26 ** (len(s) - i) * (ord(s[i-1])-64) for i in range(1,len(s)+1))\n",
    "# 28.98%"
   ]
  }
 ],
 "metadata": {
  "kernelspec": {
   "display_name": "Python 2",
   "language": "python",
   "name": "python2"
  },
  "language_info": {
   "codemirror_mode": {
    "name": "ipython",
    "version": 2
   },
   "file_extension": ".py",
   "mimetype": "text/x-python",
   "name": "python",
   "nbconvert_exporter": "python",
   "pygments_lexer": "ipython2",
   "version": "2.7.10"
  }
 },
 "nbformat": 4,
 "nbformat_minor": 0
}
