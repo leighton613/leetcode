{
 "cells": [
  {
   "cell_type": "markdown",
   "metadata": {},
   "source": [
    "Given two strings s and t, determine if they are isomorphic.\n",
    "\n",
    "Two strings are isomorphic if the characters in s can be replaced to get t.\n",
    "\n",
    "All occurrences of a character must be replaced with another character while preserving the order of characters. No two characters may map to the same character but a character may map to itself.\n",
    "\n",
    "\n",
    "For example,\n",
    "\n",
    "    Given \"egg\", \"add\", return true.\n",
    "    Given \"foo\", \"bar\", return false.\n",
    "    Given \"paper\", \"title\", return true.\n",
    "\n"
   ]
  },
  {
   "cell_type": "code",
   "execution_count": 5,
   "metadata": {
    "collapsed": true
   },
   "outputs": [],
   "source": [
    "'''\n",
    "use two dict\n",
    "15.32\n",
    "'''\n",
    "class Solution(object):\n",
    "    def isIsomorphic(self, s, t):\n",
    "        \"\"\"\n",
    "        :type s: str\n",
    "        :type t: str\n",
    "        :rtype: bool\n",
    "        \"\"\"\n",
    "        mapping_s = {}\n",
    "        mapping_t = {}\n",
    "        n = len(s) # assume same length\n",
    "        for i in range(n):\n",
    "            s_i = s[i]\n",
    "            t_i = t[i]\n",
    "            if mapping_s.get(s_i) == None:\n",
    "                mapping_s[s_i] = t_i\n",
    "            elif mapping_s[s_i] != t_i:\n",
    "                return False\n",
    "            \n",
    "            if mapping_t.get(t_i) == None:\n",
    "                mapping_t[t_i] = s_i\n",
    "            elif mapping_t[t_i] != s_i:\n",
    "                return False\n",
    "        return True"
   ]
  },
  {
   "cell_type": "code",
   "execution_count": null,
   "metadata": {
    "collapsed": true
   },
   "outputs": [],
   "source": [
    "'''\n",
    "use set and dict\n",
    "54.04%\n",
    "'''\n",
    "class Solution(object):\n",
    "    def isIsomorphic(self, s, t):\n",
    "        \"\"\"\n",
    "        :type s: str\n",
    "        :type t: str\n",
    "        :rtype: bool\n",
    "        \"\"\"\n",
    "        mapping = {}\n",
    "        targets = set()\n",
    "        for c1, c2 in zip(s, t):\n",
    "            if c1 in mapping:\n",
    "                if mapping[c1] != c2:\n",
    "                    return False\n",
    "            else:\n",
    "                if c2 in targets:\n",
    "                    return False\n",
    "                mapping[c1] = c2\n",
    "                targets.add(c2)\n",
    "                \n",
    "        return True"
   ]
  }
 ],
 "metadata": {
  "kernelspec": {
   "display_name": "Python 2",
   "language": "python",
   "name": "python2"
  },
  "language_info": {
   "codemirror_mode": {
    "name": "ipython",
    "version": 2
   },
   "file_extension": ".py",
   "mimetype": "text/x-python",
   "name": "python",
   "nbconvert_exporter": "python",
   "pygments_lexer": "ipython2",
   "version": "2.7.11"
  }
 },
 "nbformat": 4,
 "nbformat_minor": 0
}
