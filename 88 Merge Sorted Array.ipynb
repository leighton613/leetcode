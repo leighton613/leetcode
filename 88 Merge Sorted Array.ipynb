{
 "cells": [
  {
   "cell_type": "code",
   "execution_count": 42,
   "metadata": {
    "collapsed": true
   },
   "outputs": [],
   "source": [
    "\"\"\"\n",
    "75.19%\n",
    "\"\"\"\n",
    "class Solution(object):\n",
    "    def merge(self, nums1, m, nums2, n):\n",
    "        \"\"\"\n",
    "        :type nums1: List[int]\n",
    "        :type m: int\n",
    "        :type nums2: List[int]\n",
    "        :type n: int\n",
    "        :rtype: void Do not return anything, modify nums1 in-place instead.\n",
    "        \"\"\"\n",
    "        i = m+n-1\n",
    "        j = m-1\n",
    "        k = n-1\n",
    "        while j >= 0 and k >= 0:\n",
    "            if nums1[j] > nums2[k]:\n",
    "                nums1[i] = nums1[j]\n",
    "                j -= 1\n",
    "            else:\n",
    "                nums1[i] = nums2[k]\n",
    "                k -= 1\n",
    "            i -= 1\n",
    "        while k >= 0:\n",
    "            nums1[i] = nums2[k]\n",
    "            k -= 1\n",
    "            i -= 1\n",
    "        print nums1"
   ]
  },
  {
   "cell_type": "code",
   "execution_count": 30,
   "metadata": {
    "collapsed": false
   },
   "outputs": [],
   "source": [
    "\"\"\"\n",
    "9.60%\n",
    "\"\"\"\n",
    "class Solution(object):\n",
    "    def merge(self, nums1, m, nums2, n):\n",
    "        \"\"\"\n",
    "        :type nums1: List[int]\n",
    "        :type m: int\n",
    "        :type nums2: List[int]\n",
    "        :type n: int\n",
    "        :rtype: void Do not return anything, modify nums1 in-place instead.\n",
    "        \"\"\"\n",
    "        if len(nums1) < m + n:\n",
    "            for i in range(m + n - len(nums1)):\n",
    "                nums1.append(None)\n",
    "        k = n-1\n",
    "        j = m-1\n",
    "        for i in range(m+n-1, -1, -1):\n",
    "            if k < 0:\n",
    "                nums1[i] = nums1[j]\n",
    "                j -= 1\n",
    "            elif j < 0 or nums1[j] <= nums2[k]:\n",
    "                nums1[i] = nums2[k]\n",
    "                k -= 1\n",
    "            elif nums1[j] > nums2[k]:\n",
    "                nums1[i] = nums1[j]\n",
    "                j -= 1\n",
    "            else:\n",
    "                raise ValueError(\"???\")\n",
    "                \n",
    "        print nums1"
   ]
  }
 ],
 "metadata": {
  "kernelspec": {
   "display_name": "Python 2",
   "language": "python",
   "name": "python2"
  },
  "language_info": {
   "codemirror_mode": {
    "name": "ipython",
    "version": 2
   },
   "file_extension": ".py",
   "mimetype": "text/x-python",
   "name": "python",
   "nbconvert_exporter": "python",
   "pygments_lexer": "ipython2",
   "version": "2.7.11"
  }
 },
 "nbformat": 4,
 "nbformat_minor": 0
}
