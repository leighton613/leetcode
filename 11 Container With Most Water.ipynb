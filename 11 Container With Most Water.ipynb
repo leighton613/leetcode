{
 "cells": [
  {
   "cell_type": "markdown",
   "metadata": {},
   "source": [
    "Given n non-negative integers $a_1$, $a_2$, ..., $a_n$, where each represents a point at coordinate (i, ai). n vertical lines are drawn such that the two endpoints of line i is at (i, $a_i$) and (i, 0). Find two lines, which together with x-axis forms a container, such that the container contains the most water.\n",
    "\n",
    "Note: You may not slant the container."
   ]
  },
  {
   "cell_type": "code",
   "execution_count": 11,
   "metadata": {
    "collapsed": true
   },
   "outputs": [],
   "source": [
    "\"\"\"62.56 two pointers\"\"\"\n",
    "class Solution(object):\n",
    "    def maxArea(self, height):\n",
    "        \"\"\"\n",
    "        :type height: List[int]\n",
    "        :rtype: int\n",
    "        \"\"\"\n",
    "        start = 0 \n",
    "        end = len(height) - 1\n",
    "        mostWater = 0\n",
    "        while start != end:\n",
    "            if (end - start) * min(height[start], height[end]) > mostWater:\n",
    "                mostWater = (end - start) * min(height[start], height[end])\n",
    "            if height[end] > height[start]:# or height[start+1] + height[end] > height[end-1] + height[start]:\n",
    "                start += 1\n",
    "            else:\n",
    "                end -= 1\n",
    "            \n",
    "        return mostWater"
   ]
  },
  {
   "cell_type": "code",
   "execution_count": 12,
   "metadata": {
    "collapsed": false
   },
   "outputs": [
    {
     "data": {
      "text/plain": [
       "15423"
      ]
     },
     "execution_count": 12,
     "metadata": {},
     "output_type": "execute_result"
    }
   ],
   "source": [
    "\n",
    "h = [159,157,139,51,98,71,4,125,48,125,64,4,105,79,136,169,\n",
    "     113,13,95,88,190,5,148,17,152,20,196,141,35,42,188,147,\n",
    "     199,127,198,49,150,154,175,199,80,191,3,137,22,92,58,87,\n",
    "     57,153,175,199,110,75,16,62,96,12,3,83,55,144,30,6,23,28,\n",
    "     56,174,183,183,173,15,126,128,104,148,172,163,35,181,68,\n",
    "     162,181,179,37,197,193,85,10,197,169,17,141,199,175,164,180,183,90,115]\n",
    "Solution().maxArea(h)"
   ]
  }
 ],
 "metadata": {
  "kernelspec": {
   "display_name": "Python 2",
   "language": "python",
   "name": "python2"
  },
  "language_info": {
   "codemirror_mode": {
    "name": "ipython",
    "version": 2
   },
   "file_extension": ".py",
   "mimetype": "text/x-python",
   "name": "python",
   "nbconvert_exporter": "python",
   "pygments_lexer": "ipython2",
   "version": "2.7.11"
  }
 },
 "nbformat": 4,
 "nbformat_minor": 0
}
