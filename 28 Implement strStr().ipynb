{
 "cells": [
  {
   "cell_type": "markdown",
   "metadata": {},
   "source": [
    "Implement strStr().\n",
    "\n",
    "Returns the index of the first occurrence of `needle` in `haystack`, or `-1` if `needle` is not part of `haystack`."
   ]
  },
  {
   "cell_type": "code",
   "execution_count": 14,
   "metadata": {
    "collapsed": true
   },
   "outputs": [],
   "source": [
    "class Solution(object):\n",
    "    def strStr(self, haystack, needle):\n",
    "        \"\"\"\n",
    "        :type haystack: str\n",
    "        :type needle: str\n",
    "        :rtype: int\n",
    "        \"\"\"\n",
    "        if not needle: return 0\n",
    "        ptrH = 0\n",
    "        ptrN = 0\n",
    "        lenH = len(haystack)\n",
    "        lenN = len(needle)\n",
    "        while ptrH < lenH:\n",
    "            if haystack[ptrH] == needle[ptrN]:\n",
    "                idx = ptrH\n",
    "                if lenN+ptrH <= lenH:\n",
    "                    if haystack[ptrH:ptrH+lenN] == needle:\n",
    "                        return idx\n",
    "                    else:\n",
    "                        ptrH += 1\n",
    "                else:\n",
    "                    return -1\n",
    "                \n",
    "            else:\n",
    "                ptrH += 1\n",
    "        return -1"
   ]
  },
  {
   "cell_type": "code",
   "execution_count": 15,
   "metadata": {
    "collapsed": false
   },
   "outputs": [
    {
     "data": {
      "text/plain": [
       "4"
      ]
     },
     "execution_count": 15,
     "metadata": {},
     "output_type": "execute_result"
    }
   ],
   "source": [
    "haystack = 'abcde'\n",
    "needle = ''\n",
    "Solution().strStr(\"mississippi\",\"issip\")"
   ]
  },
  {
   "cell_type": "code",
   "execution_count": null,
   "metadata": {
    "collapsed": true
   },
   "outputs": [],
   "source": []
  }
 ],
 "metadata": {
  "kernelspec": {
   "display_name": "Python 2",
   "language": "python",
   "name": "python2"
  },
  "language_info": {
   "codemirror_mode": {
    "name": "ipython",
    "version": 2
   },
   "file_extension": ".py",
   "mimetype": "text/x-python",
   "name": "python",
   "nbconvert_exporter": "python",
   "pygments_lexer": "ipython2",
   "version": "2.7.11"
  }
 },
 "nbformat": 4,
 "nbformat_minor": 0
}
