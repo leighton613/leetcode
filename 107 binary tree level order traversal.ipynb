{
 "cells": [
  {
   "cell_type": "code",
   "execution_count": 1,
   "metadata": {
    "collapsed": false
   },
   "outputs": [
    {
     "data": {
      "text/plain": [
       "\"\\nGiven a binary tree, return the bottom-up level order traversal of its nodes' values. \\n(ie, from left to right, level by level from leaf to root).\\n\""
      ]
     },
     "execution_count": 1,
     "metadata": {},
     "output_type": "execute_result"
    }
   ],
   "source": [
    "# 107\n",
    "'''\n",
    "Given a binary tree, return the bottom-up level order traversal of its nodes' values. \n",
    "(ie, from left to right, level by level from leaf to root).\n",
    "'''"
   ]
  },
  {
   "cell_type": "code",
   "execution_count": 2,
   "metadata": {
    "collapsed": true
   },
   "outputs": [],
   "source": [
    "# Definition for a binary tree node.\n",
    "# class TreeNode(object):\n",
    "#     def __init__(self, x):\n",
    "#         self.val = x\n",
    "#         self.left = None\n",
    "#         self.right = None\n",
    "\n",
    "class Solution(object):\n",
    "    def levelOrderBottom(self, root):\n",
    "        \"\"\"\n",
    "        :type root: TreeNode\n",
    "        :rtype: List[List[int]]\n",
    "        \"\"\"\n",
    "        result = []\n",
    "        if root == None: return result\n",
    "        layer = [root]\n",
    "        while layer != []:\n",
    "            result.insert(0,[i.val for i in layer])\n",
    "            temp = []\n",
    "            for leaf in layer:\n",
    "                if leaf.left != None:\n",
    "                    temp.append(leaf.left)\n",
    "                if leaf.right != None:\n",
    "                    temp.append(leaf.right)\n",
    "            layer = temp\n",
    "        return result"
   ]
  },
  {
   "cell_type": "code",
   "execution_count": null,
   "metadata": {
    "collapsed": true
   },
   "outputs": [],
   "source": [
    "# 1 point\n",
    "'''\n",
    "list.insert(pos,element)\n",
    "eg: insert(0,x)\n",
    "add an element x in the front\n",
    "'''\n",
    "# 2 point\n",
    "'''\n",
    "what you want to put into list is a list of nodes' values, i.e. not the nodes per se\n",
    "'''\n",
    "# 3 point\n",
    "'''\n",
    "list.r\n",
    "'''"
   ]
  }
 ],
 "metadata": {
  "kernelspec": {
   "display_name": "Python 2",
   "language": "python",
   "name": "python2"
  },
  "language_info": {
   "codemirror_mode": {
    "name": "ipython",
    "version": 2
   },
   "file_extension": ".py",
   "mimetype": "text/x-python",
   "name": "python",
   "nbconvert_exporter": "python",
   "pygments_lexer": "ipython2",
   "version": "2.7.10"
  }
 },
 "nbformat": 4,
 "nbformat_minor": 0
}
