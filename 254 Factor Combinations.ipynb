{
 "cells": [
  {
   "cell_type": "markdown",
   "metadata": {},
   "source": [
    "Numbers can be regarded as product of its factors. For example,\n",
    "\n",
    "    8 = 2 x 2 x 2;\n",
    "      = 2 x 4.\n",
    "      \n",
    "Write a function that takes an integer n and return all possible combinations of its factors.\n",
    "\n",
    "**Note:**\n",
    "\n",
    "You may assume that n is always positive.\n",
    "Factors should be greater than 1 and less than n.\n",
    "\n",
    "**Examples:**\n",
    "\n",
    "input: 1\n",
    "output: \n",
    "\n",
    "    []\n",
    "\n",
    "input: 37\n",
    "output: \n",
    "\n",
    "    []\n",
    "\n",
    "input: 12\n",
    "output:\n",
    "\n",
    "    [\n",
    "      [2, 6],\n",
    "      [2, 2, 3],\n",
    "      [3, 4]\n",
    "    ]\n",
    "    \n",
    "input: 32\n",
    "output:\n",
    "\n",
    "    [\n",
    "      [2, 16],\n",
    "      [2, 2, 8],\n",
    "      [2, 2, 2, 4],\n",
    "      [2, 2, 2, 2, 2],\n",
    "      [2, 4, 4],\n",
    "      [4, 8]\n",
    "    ]"
   ]
  },
  {
   "cell_type": "code",
   "execution_count": 48,
   "metadata": {
    "collapsed": false
   },
   "outputs": [],
   "source": [
    "import math\n",
    "class Solution(object):\n",
    "    def getFactors(self, n):\n",
    "        \"\"\"\n",
    "        :type n: int\n",
    "        :rtype: List[List[int]]\n",
    "        \"\"\"\n",
    "        ans = []\n",
    "        prefix = []\n",
    "        depth = 1\n",
    "        return self.findFactors(n, prefix, ans)\n",
    "\n",
    "        \n",
    "    def findFactors(self, n, prefix, ans, start=2):\n",
    "        for i in range(start, int(math.sqrt(n))+1):\n",
    "            if n % i == 0:\n",
    "                ans.append(prefix + [i, n/i])\n",
    "                self.findFactors(n/i, prefix+[i], ans, start=i)\n",
    "        return ans"
   ]
  },
  {
   "cell_type": "code",
   "execution_count": 49,
   "metadata": {
    "collapsed": false
   },
   "outputs": [
    {
     "name": "stdout",
     "output_type": "stream",
     "text": [
      "[[2, 6], [2, 2, 3], [3, 4]]\n"
     ]
    }
   ],
   "source": [
    "print Solution().getFactors(12)"
   ]
  },
  {
   "cell_type": "code",
   "execution_count": null,
   "metadata": {
    "collapsed": true
   },
   "outputs": [],
   "source": []
  }
 ],
 "metadata": {
  "kernelspec": {
   "display_name": "Python 2",
   "language": "python",
   "name": "python2"
  },
  "language_info": {
   "codemirror_mode": {
    "name": "ipython",
    "version": 2
   },
   "file_extension": ".py",
   "mimetype": "text/x-python",
   "name": "python",
   "nbconvert_exporter": "python",
   "pygments_lexer": "ipython2",
   "version": "2.7.11"
  }
 },
 "nbformat": 4,
 "nbformat_minor": 0
}
