{
 "cells": [
  {
   "cell_type": "code",
   "execution_count": 35,
   "metadata": {
    "collapsed": true
   },
   "outputs": [],
   "source": [
    "class Solution(object):\n",
    "    def bisection(self, matrix, target):\n",
    "        m = len(matrix)\n",
    "        n = len(matrix[0])\n",
    "        if m <= 5 and n == 1:\n",
    "            for i in xrange(m):\n",
    "                if matrix[i][0] == target: return True\n",
    "            return False\n",
    "        \n",
    "        if n <= 5 and m == 1:\n",
    "            for j in xrange(n):\n",
    "                if matrix[0][j] == target: return True\n",
    "            return False\n",
    "        \n",
    "        if target < matrix[0][0] or target > matrix[-1][-1]:\n",
    "            return False\n",
    "        \n",
    "        if m == 1: # a row\n",
    "            if matrix[0][n/2] < target:\n",
    "                new_matrix = [matrix[0][n/2+1:]]\n",
    "                return self.bisection(new_matrix, target)\n",
    "            elif matrix[0][n/2] > target:\n",
    "                new_matrix = [matrix[0][0:n/2]]\n",
    "                return self.bisection(new_matrix, target)\n",
    "            else:\n",
    "                return True\n",
    "        if n == 1: # a col\n",
    "            if matrix[m/2][0] < target:\n",
    "                new_matrix = [matrix[i][0] for i in xrange(m/2)]\n",
    "                return self.bisection(new_matrix, target)\n",
    "            elif matrix[m/2][0] > target:\n",
    "                new_matrix = [matrix[i][0] for i in xrange(m/2+1,m)]\n",
    "                return self.bisection(new_matrix, target)\n",
    "            else:\n",
    "                return True\n",
    "    def searchMatrix(self, matrix, target):\n",
    "        \"\"\"\n",
    "        :type matrix: List[List[int]]\n",
    "        :type target: int\n",
    "        :rtype: bool\n",
    "        \"\"\"\n",
    "        if matrix == []: return False\n",
    "        m = len(matrix)\n",
    "        n = len(matrix[0])\n",
    "        # base case\n",
    "        if m == 0 or n == 0:\n",
    "            return False\n",
    "        if m == 1 or n == 1:\n",
    "            return self.bisection(matrix, target)\n",
    "        if m <= 3 and n <= 3:\n",
    "            for i in xrange(m):\n",
    "                for j in xrange(n):\n",
    "                    if matrix[i][j] == target: return True\n",
    "            return False\n",
    "        \n",
    "        # BASED ON m>=2 and n>=2\n",
    "        # divide\n",
    "        A = [matrix[i][0:n/2] for i in range(m/2)]\n",
    "        print A\n",
    "        B = [matrix[i][n/2: ] for i in range(m/2)]\n",
    "        print B\n",
    "        C = [matrix[i][0:n/2] for i in range(m/2,m)]\n",
    "        print C\n",
    "        D = [matrix[i][n/2: ] for i in range(m/2,m)]\n",
    "        print D\n",
    "        \n",
    "        a = A[0][0]\n",
    "        b = A[-1][-1]\n",
    "        c = D[0][0]\n",
    "        d = D[-1][-1]\n",
    "        \n",
    "        # conquer\n",
    "        if target < a or target > d:\n",
    "            return False\n",
    "        if target > a and target < b:\n",
    "            return self.searchMatrix(A, target) or self.searchMatrix(B, target) or self.searchMatrix(C, target)\n",
    "        if target > b and target < c:\n",
    "            return self.searchMatrix(B, target) or self.searchMatrix(C, target)\n",
    "        if target > c and target < d: \n",
    "            return self.searchMatrix(B, target) or self.searchMatrix(C, target) or self.searchMatrix(D, target)\n",
    "        if target == a or target == b or target == c or target == d:\n",
    "            return True"
   ]
  },
  {
   "cell_type": "code",
   "execution_count": 36,
   "metadata": {
    "collapsed": false
   },
   "outputs": [
    {
     "name": "stdout",
     "output_type": "stream",
     "text": [
      "[[5, 6]]\n",
      "[[10, 14]]\n",
      "[[6, 10], [10, 13]]\n",
      "[[13, 18], [18, 19]]\n"
     ]
    },
    {
     "data": {
      "text/plain": [
       "True"
      ]
     },
     "execution_count": 36,
     "metadata": {},
     "output_type": "execute_result"
    }
   ],
   "source": [
    "matrix = [[5,6,10,14],[6,10,13,18],[10,13,18,19]]\n",
    "target = 14\n",
    "Solution().searchMatrix(matrix, target)"
   ]
  },
  {
   "cell_type": "code",
   "execution_count": 18,
   "metadata": {
    "collapsed": false
   },
   "outputs": [
    {
     "ename": "IndexError",
     "evalue": "list index out of range",
     "output_type": "error",
     "traceback": [
      "\u001b[0;31m---------------------------------------------------------------------------\u001b[0m",
      "\u001b[0;31mIndexError\u001b[0m                                Traceback (most recent call last)",
      "\u001b[0;32m<ipython-input-18-2e51ab4a3c25>\u001b[0m in \u001b[0;36m<module>\u001b[0;34m()\u001b[0m\n\u001b[0;32m----> 1\u001b[0;31m \u001b[0mlen\u001b[0m\u001b[0;34m(\u001b[0m\u001b[0mA\u001b[0m\u001b[0;34m[\u001b[0m\u001b[0;36m0\u001b[0m\u001b[0;34m]\u001b[0m\u001b[0;34m)\u001b[0m\u001b[0;34m\u001b[0m\u001b[0m\n\u001b[0m",
      "\u001b[0;31mIndexError\u001b[0m: list index out of range"
     ]
    }
   ],
   "source": [
    "len(A[0])"
   ]
  },
  {
   "cell_type": "code",
   "execution_count": null,
   "metadata": {
    "collapsed": true
   },
   "outputs": [],
   "source": []
  }
 ],
 "metadata": {
  "kernelspec": {
   "display_name": "Python 2",
   "language": "python",
   "name": "python2"
  },
  "language_info": {
   "codemirror_mode": {
    "name": "ipython",
    "version": 2
   },
   "file_extension": ".py",
   "mimetype": "text/x-python",
   "name": "python",
   "nbconvert_exporter": "python",
   "pygments_lexer": "ipython2",
   "version": "2.7.11"
  }
 },
 "nbformat": 4,
 "nbformat_minor": 0
}
