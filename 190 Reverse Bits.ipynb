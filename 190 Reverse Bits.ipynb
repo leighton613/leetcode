{
 "cells": [
  {
   "cell_type": "markdown",
   "metadata": {},
   "source": [
    "Reverse bits of a given 32 bits unsigned integer.\n",
    "\n",
    "For example, given input 43261596 (represented in binary as 00000010100101000001111010011100), return 964176192 (represented in binary as 00111001011110000010100101000000).\n",
    "\n",
    "Follow up:\n",
    "If this function is called many times, how would you optimize it?\n",
    "\n",
    "Related problem: Reverse Integer"
   ]
  },
  {
   "cell_type": "code",
   "execution_count": null,
   "metadata": {
    "collapsed": true
   },
   "outputs": [],
   "source": [
    "class Solution(object):\n",
    "    def reverseBits(self, n):\n",
    "        \"\"\"\n",
    "        :type n: int\n",
    "        :rtype: int\n",
    "        \"\"\"\n",
    "        table = [0,8,4,12,2,10,6,14,1,9,5,13,3,11,7,15]\n",
    "        bin_n = format(n, \"032b\")\n",
    "        reversed_n = 0\n",
    "        for i in range(7,-1,-1):\n",
    "            reversed_n <<= 4\n",
    "            win = bin_n[4*i:4*(i+1)]\n",
    "            reversed_n |= table[int(win,2)]\n",
    "        return reversed_n\n",
    "        "
   ]
  }
 ],
 "metadata": {
  "kernelspec": {
   "display_name": "Python 2",
   "language": "python",
   "name": "python2"
  },
  "language_info": {
   "codemirror_mode": {
    "name": "ipython",
    "version": 2
   },
   "file_extension": ".py",
   "mimetype": "text/x-python",
   "name": "python",
   "nbconvert_exporter": "python",
   "pygments_lexer": "ipython2",
   "version": "2.7.11"
  }
 },
 "nbformat": 4,
 "nbformat_minor": 0
}
