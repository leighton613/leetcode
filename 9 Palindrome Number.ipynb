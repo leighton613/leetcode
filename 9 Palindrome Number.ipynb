{
 "cells": [
  {
   "cell_type": "markdown",
   "metadata": {},
   "source": [
    "Determine whether an integer is a palindrome. Do this without extra space."
   ]
  },
  {
   "cell_type": "code",
   "execution_count": null,
   "metadata": {
    "collapsed": true
   },
   "outputs": [],
   "source": [
    "'''\n",
    "Compare digits, no extra space\n",
    "20.24%\n",
    "'''\n",
    "import math\n",
    "class Solution(object):\n",
    "    def isPalindrome(self, x):\n",
    "        \"\"\"\n",
    "        :type x: int\n",
    "        :rtype: bool\n",
    "        \"\"\"\n",
    "        if x < 0:  return False\n",
    "        if x < 10: return True\n",
    "        if x < 100:\n",
    "            return True if x%10 == x//10 else False\n",
    "        digits = math.log10(x)\n",
    "        digits = int(math.ceil(digits))+1 if digits == math.ceil(digits) else int(math.ceil(digits))\n",
    "        for i in xrange(digits/2):\n",
    "            if x % 10 != (x // 10**(digits-1)) % 10: return False\n",
    "            x /= 10\n",
    "            digits -= 2\n",
    "        \n",
    "        return True"
   ]
  },
  {
   "cell_type": "markdown",
   "metadata": {},
   "source": [
    "- Take care of `0`s, if using `//=` which takes `0`s away\n",
    "- Be careful on how many digits, especially on `10, 100, 1000, ...`"
   ]
  },
  {
   "cell_type": "code",
   "execution_count": 38,
   "metadata": {
    "collapsed": true
   },
   "outputs": [],
   "source": [
    "'''\n",
    "Compare digits, no extra space\n",
    "24.02%\n",
    "'''\n",
    "import math\n",
    "class Solution(object):\n",
    "    def isPalindrome(self, x):\n",
    "        \"\"\"\n",
    "        :type x: int\n",
    "        :rtype: bool\n",
    "        \"\"\"\n",
    "        if x < 0:  return False\n",
    "        if x < 10: return True\n",
    "        if x < 100:\n",
    "            return True if x%10 == x//10 else False\n",
    "        if not x%10: return False\n",
    "        digits = int(math.ceil(math.log10(x)))\n",
    "        for i in xrange(digits/2):\n",
    "            if x % 10 != (x // 10**(digits-1)) % 10: return False\n",
    "            x /= 10\n",
    "            digits -= 2\n",
    "        \n",
    "        return True"
   ]
  },
  {
   "cell_type": "markdown",
   "metadata": {},
   "source": [
    "Or just take care of 10s beforehand..."
   ]
  },
  {
   "cell_type": "code",
   "execution_count": 62,
   "metadata": {
    "collapsed": true
   },
   "outputs": [],
   "source": [
    "'''\n",
    "half-reverse\n",
    "O(n) space\n",
    "62.69%\n",
    "'''\n",
    "class Solution(object):\n",
    "    def isPalindrome(self, x):\n",
    "        \"\"\"\n",
    "        :type x: int\n",
    "        :rtype: bool\n",
    "        \"\"\"\n",
    "        if x < 0:  return False\n",
    "        if x < 10: return True\n",
    "        if x < 100:\n",
    "            return True if x%10 == x//10 else False\n",
    "        if not x%10: return False\n",
    "        rev = x%10\n",
    "        x //= 10\n",
    "        while rev < x:\n",
    "            rev = rev*10 + x % 10\n",
    "            x //= 10\n",
    "        return x == rev or x == rev//10"
   ]
  },
  {
   "cell_type": "code",
   "execution_count": null,
   "metadata": {
    "collapsed": true
   },
   "outputs": [],
   "source": []
  }
 ],
 "metadata": {
  "kernelspec": {
   "display_name": "Python 2",
   "language": "python",
   "name": "python2"
  },
  "language_info": {
   "codemirror_mode": {
    "name": "ipython",
    "version": 2
   },
   "file_extension": ".py",
   "mimetype": "text/x-python",
   "name": "python",
   "nbconvert_exporter": "python",
   "pygments_lexer": "ipython2",
   "version": "2.7.11"
  }
 },
 "nbformat": 4,
 "nbformat_minor": 0
}
