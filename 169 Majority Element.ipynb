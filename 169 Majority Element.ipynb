{
 "cells": [
  {
   "cell_type": "code",
   "execution_count": 1,
   "metadata": {
    "collapsed": false
   },
   "outputs": [
    {
     "data": {
      "text/plain": [
       "'\\nGiven an array of size n, find the majority element. \\nThe majority element is the element that appears more than \\xe2\\x8c\\x8a n/2 \\xe2\\x8c\\x8b times.\\nYou may assume that the array is non-empty and the majority element always exist in the array.\\n'"
      ]
     },
     "execution_count": 1,
     "metadata": {},
     "output_type": "execute_result"
    }
   ],
   "source": [
    "#\n",
    "'''\n",
    "Given an array of size n, find the majority element. \n",
    "The majority element is the element that appears more than ⌊ n/2 ⌋ times.\n",
    "You may assume that the array is non-empty and the majority element always exist in the array.\n",
    "'''"
   ]
  },
  {
   "cell_type": "code",
   "execution_count": 42,
   "metadata": {
    "collapsed": true
   },
   "outputs": [],
   "source": [
    "'''\n",
    "tranverse + dictionary\n",
    "'''\n",
    "import math\n",
    "class Solution(object):\n",
    "    def majorityElement(self, nums):\n",
    "        \"\"\"\n",
    "        :type nums: List[int]\n",
    "        :rtype: int\n",
    "        \"\"\"\n",
    "        n = math.floor(len(nums)/2.0)\n",
    "        cnt = {}\n",
    "        result = []\n",
    "        for i in range(len(nums)):\n",
    "            cnt[nums[i]] = cnt.get(nums[i],0) + 1\n",
    "        key_max = None\n",
    "        value_max = None\n",
    "        for key,value in cnt.items():\n",
    "            if value_max == None or value_max < value:\n",
    "                value_max = value\n",
    "                key_max = key\n",
    "        return key_max\n",
    "\n",
    "        "
   ]
  },
  {
   "cell_type": "code",
   "execution_count": null,
   "metadata": {
    "collapsed": true
   },
   "outputs": [],
   "source": [
    "'''\n",
    "tranverse + dic + sort\n",
    "34%\n",
    "'''\n",
    "class Solution(object):\n",
    "    def majorityElement(self, nums):\n",
    "        \"\"\"\n",
    "        :type nums: List[int]\n",
    "        :rtype: int\n",
    "        \"\"\"\n",
    "        dic = {}\n",
    "        for element in nums:\n",
    "            dic[element] = dic.get(element,0) + 1\n",
    "        \n",
    "        sort_dic = [(value, key) for (key, value) in dic.items()]\n",
    "        sort_dic = sorted(sort_dic, reverse=True)\n",
    "        return sort_dic[0][1]"
   ]
  },
  {
   "cell_type": "code",
   "execution_count": 24,
   "metadata": {
    "collapsed": true
   },
   "outputs": [],
   "source": [
    "'''\n",
    "pop every two different element\n",
    "1.27%\n",
    "'''\n",
    "class Solution(object):\n",
    "    def majorityElement(self, nums):\n",
    "        \"\"\"\n",
    "        :type nums: List[int]\n",
    "        :rtype: int\n",
    "        \"\"\"\n",
    "        N = len(nums)\n",
    "        if N==1 or N==2 : return nums[0]\n",
    "        while(True):\n",
    "            temp = nums.pop()\n",
    "            ptr = 0\n",
    "            while(ptr != len(nums)):\n",
    "                if nums[ptr] == temp:\n",
    "                    ptr += 1\n",
    "                else:\n",
    "                    nums.pop(ptr)\n",
    "                    break\n",
    "            else:\n",
    "                assert(len(set(nums))==1 or len(set(nums))==0)\n",
    "                break\n",
    "        # multiple same value or []\n",
    "        return temp"
   ]
  },
  {
   "cell_type": "code",
   "execution_count": 27,
   "metadata": {
    "collapsed": false
   },
   "outputs": [
    {
     "data": {
      "text/plain": [
       "1"
      ]
     },
     "execution_count": 27,
     "metadata": {},
     "output_type": "execute_result"
    }
   ],
   "source": [
    "nums = [1,2,5,5,6,1,1,1,1,1,1,5,5]\n",
    "Solution().majorityElement(nums)\n"
   ]
  },
  {
   "cell_type": "code",
   "execution_count": null,
   "metadata": {
    "collapsed": false
   },
   "outputs": [],
   "source": [
    "import math\n",
    "class Solution(object):\n",
    "    def majorityElement(self, nums):\n",
    "        \"\"\"\n",
    "        :type nums: List[int]\n",
    "        :rtype: int\n",
    "        \"\"\"\n",
    "        N = len(nums)\n",
    "        \n",
    "        # base cases\n",
    "        if N == 1: return [nums[0],1]\n",
    "        if N == 2:\n",
    "            if nums[0] == nums[1]: return [nums[0],2]\n",
    "            else: return [None,0]\n",
    "            \n",
    "        # divide\n",
    "        L = nums[0 : int(math.floor(2/N))] # smaller\n",
    "        R = nums[int(math.floor(2/N)) :]   # larger\n",
    "        \n",
    "        # conquer\n",
    "        [l, cnt_l] = majorityElement(self, L)\n",
    "        [r, cnt_r] = majorityElement(self, R)\n",
    "        if l==r==None: return [None, 0]\n",
    "        if l==r: return [l, cnt_l + cnt_r]\n",
    "        if l==None\n",
    "            "
   ]
  },
  {
   "cell_type": "code",
   "execution_count": 11,
   "metadata": {
    "collapsed": false
   },
   "outputs": [
    {
     "data": {
      "text/plain": [
       "5"
      ]
     },
     "execution_count": 11,
     "metadata": {},
     "output_type": "execute_result"
    }
   ],
   "source": [
    "nums = [1,2,3,4,5]\n",
    "nums.pop()"
   ]
  },
  {
   "cell_type": "code",
   "execution_count": null,
   "metadata": {
    "collapsed": true
   },
   "outputs": [],
   "source": []
  }
 ],
 "metadata": {
  "kernelspec": {
   "display_name": "Python 2",
   "language": "python",
   "name": "python2"
  },
  "language_info": {
   "codemirror_mode": {
    "name": "ipython",
    "version": 2
   },
   "file_extension": ".py",
   "mimetype": "text/x-python",
   "name": "python",
   "nbconvert_exporter": "python",
   "pygments_lexer": "ipython2",
   "version": "2.7.11"
  }
 },
 "nbformat": 4,
 "nbformat_minor": 0
}
