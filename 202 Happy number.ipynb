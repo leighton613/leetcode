{
 "cells": [
  {
   "cell_type": "code",
   "execution_count": 1,
   "metadata": {
    "collapsed": false
   },
   "outputs": [
    {
     "data": {
      "text/plain": [
       "'\\nWrite an algorithm to determine if a number is \"happy\".\\nA happy number is a number defined by the following process:\\n Starting with any positive integer, replace the number by the sum of the squares of its digits,\\n and repeat the process until the number equals 1 (where it will stay),\\n or it loops endlessly in a cycle which does not include 1.\\n Those numbers for which this process ends in 1 are happy numbers.\\n'"
      ]
     },
     "execution_count": 1,
     "metadata": {},
     "output_type": "execute_result"
    }
   ],
   "source": [
    "# 202\n",
    "'''\n",
    "Write an algorithm to determine if a number is \"happy\".\n",
    "A happy number is a number defined by the following process:\n",
    " Starting with any positive integer, replace the number by the sum of the squares of its digits,\n",
    " and repeat the process until the number equals 1 (where it will stay),\n",
    " or it loops endlessly in a cycle which does not include 1.\n",
    " Those numbers for which this process ends in 1 are happy numbers.\n",
    "'''"
   ]
  },
  {
   "cell_type": "code",
   "execution_count": 65,
   "metadata": {
    "collapsed": true
   },
   "outputs": [],
   "source": [
    "class Solution(object):\n",
    "    def cycle(self, num):\n",
    "        \"\"\"\n",
    "        :type num: int\n",
    "        :rtype: int\n",
    "        \"\"\"\n",
    "        if num == 0:return 0\n",
    "        result = 0\n",
    "        while num > 0:\n",
    "            result += pow(num%10, 2)\n",
    "            num /= 10\n",
    "        return result\n",
    "    def isHappy(self, n):\n",
    "        \"\"\"\n",
    "        :type n: int\n",
    "        :rtype: bool\n",
    "        \"\"\"\n",
    "        if n == 0: return False\n",
    "        ref = n\n",
    "        while n != 1:\n",
    "            n = self.cycle(n)\n",
    "            ref = self.cycle(self.cycle(ref))\n",
    "            if n == ref == 1: return True\n",
    "             n == ref: return False\n",
    "        return True"
   ]
  },
  {
   "cell_type": "code",
   "execution_count": 66,
   "metadata": {
    "collapsed": false
   },
   "outputs": [
    {
     "name": "stdout",
     "output_type": "stream",
     "text": [
      "False\n"
     ]
    }
   ],
   "source": [
    "# 31.34%\n",
    "print Solution().isHappy(2)"
   ]
  },
  {
   "cell_type": "code",
   "execution_count": 51,
   "metadata": {
    "collapsed": false
   },
   "outputs": [
    {
     "name": "stdout",
     "output_type": "stream",
     "text": [
      "2\n",
      "2\n"
     ]
    }
   ],
   "source": [
    "def isHappy(self, n):\n",
    "    \"\"\"\n",
    "    :type n: int\n",
    "    :rtype: bool\n",
    "    \"\"\"\n",
    "    r1 = self.step(n)\n",
    "    r2 = self.step(r1)\n",
    "    while(r1 != 1):\n",
    "        if(r1 == r2):\n",
    "            return False\n",
    "        else:\n",
    "            r1 = self.step(r1)\n",
    "            r2 = self.step(self.step(r2))\n",
    "    return True\n",
    "\n",
    "def step(self, n):\n",
    "    result = 0\n",
    "    while(n):\n",
    "        result += pow(n % 10, 2)\n",
    "        n = n // 10\n",
    "    return result"
   ]
  },
  {
   "cell_type": "code",
   "execution_count": 56,
   "metadata": {
    "collapsed": false
   },
   "outputs": [
    {
     "data": {
      "text/plain": [
       "'\\npow\\n'"
      ]
     },
     "execution_count": 56,
     "metadata": {},
     "output_type": "execute_result"
    }
   ],
   "source": [
    "# build-in function\n",
    "'''\n",
    "pow\n",
    "'''"
   ]
  },
  {
   "cell_type": "code",
   "execution_count": null,
   "metadata": {
    "collapsed": true
   },
   "outputs": [],
   "source": []
  }
 ],
 "metadata": {
  "kernelspec": {
   "display_name": "Python 2",
   "language": "python",
   "name": "python2"
  },
  "language_info": {
   "codemirror_mode": {
    "name": "ipython",
    "version": 2
   },
   "file_extension": ".py",
   "mimetype": "text/x-python",
   "name": "python",
   "nbconvert_exporter": "python",
   "pygments_lexer": "ipython2",
   "version": "2.7.10"
  }
 },
 "nbformat": 4,
 "nbformat_minor": 0
}
