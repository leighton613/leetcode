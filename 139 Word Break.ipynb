{
 "cells": [
  {
   "cell_type": "markdown",
   "metadata": {},
   "source": [
    "Given a string s and a dictionary of words dict, determine if s can be segmented into a space-separated sequence of one or more dictionary words.\n",
    "\n",
    "For example, given\n",
    "\n",
    "    s = \"leetcode\",\n",
    "    dict = [\"leet\", \"code\"].\n",
    "\n",
    "Return true because `\"leetcode\"` can be segmented as `\"leet code\"`."
   ]
  },
  {
   "cell_type": "code",
   "execution_count": 38,
   "metadata": {
    "collapsed": true
   },
   "outputs": [],
   "source": [
    "\"\"\"\n",
    "42ms\n",
    "\"\"\"\n",
    "class Solution(object):\n",
    "    def wordBreak(self, s, wordDict):\n",
    "        \"\"\"\n",
    "        :type s: str\n",
    "        :type wordDict: Set[str]\n",
    "        :rtype: bool\n",
    "        \"\"\"\n",
    "        if not wordDict and not s: return True\n",
    "        if not wordDict: return False\n",
    "        \n",
    "        table = [0 for i in range(len(s)+1)]\n",
    "        table[0] = 1\n",
    "        \n",
    "        dictLen = map(len, wordDict)\n",
    "        minWord = min(dictLen)\n",
    "        maxWord = max(dictLen)\n",
    "        for length in range(1, len(s)+1):          # current length\n",
    "            for seg in range(minWord, min(length, maxWord)+1):        # current seg inside length\n",
    "                if table[length-seg] == 0:\n",
    "                    continue\n",
    "                if s[length-seg:length] in wordDict:\n",
    "                    table[length] = 1\n",
    "                    break\n",
    "#         print table\n",
    "        return bool(table[-1])\n",
    "            "
   ]
  },
  {
   "cell_type": "code",
   "execution_count": 39,
   "metadata": {
    "collapsed": true
   },
   "outputs": [],
   "source": [
    "s = \"\"\n",
    "wordDict = []"
   ]
  },
  {
   "cell_type": "code",
   "execution_count": 37,
   "metadata": {
    "collapsed": false
   },
   "outputs": [
    {
     "data": {
      "text/plain": [
       "False"
      ]
     },
     "execution_count": 37,
     "metadata": {},
     "output_type": "execute_result"
    }
   ],
   "source": [
    "Solution().wordBreak(s, wordDict)"
   ]
  },
  {
   "cell_type": "code",
   "execution_count": null,
   "metadata": {
    "collapsed": true
   },
   "outputs": [],
   "source": []
  }
 ],
 "metadata": {
  "kernelspec": {
   "display_name": "Python 2",
   "language": "python",
   "name": "python2"
  },
  "language_info": {
   "codemirror_mode": {
    "name": "ipython",
    "version": 2
   },
   "file_extension": ".py",
   "mimetype": "text/x-python",
   "name": "python",
   "nbconvert_exporter": "python",
   "pygments_lexer": "ipython2",
   "version": "2.7.11"
  }
 },
 "nbformat": 4,
 "nbformat_minor": 0
}
