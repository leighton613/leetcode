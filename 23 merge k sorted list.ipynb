{
 "cells": [
  {
   "cell_type": "code",
   "execution_count": null,
   "metadata": {
    "collapsed": true
   },
   "outputs": [],
   "source": []
  },
  {
   "cell_type": "code",
   "execution_count": 15,
   "metadata": {
    "collapsed": true
   },
   "outputs": [],
   "source": [
    "'''\n",
    "regular merge 1 element each time from all the k lists\n",
    "'''\n",
    "\n",
    "# Definition for singly-linked list.\n",
    "class ListNode(object):\n",
    "    def __init__(self, x):\n",
    "        self.val = x\n",
    "        self.next = None\n",
    "\n",
    "class Solution(object):\n",
    "    def mergeKLists(self, lists):\n",
    "        \"\"\"\n",
    "        :type lists: List[ListNode]\n",
    "        :rtype: ListNode\n",
    "        \"\"\" \n",
    "        k = len(lists)\n",
    "        if k == 0: return None\n",
    "        # compare\n",
    "        vals = {i:lists[i].val for i in range(k) if lists[i] != None }\n",
    "        if vals == {}: return None\n",
    "        vals_sort = sorted([(value,key) for (key,value) in vals.items()])\n",
    "        idx = vals_sort[0][1]\n",
    "        # initialize\n",
    "        node = ptr = ListNode(lists[idx].val)\n",
    "        lists[idx] = lists[idx].next\n",
    "        vals = {i:lists[i].val for i in range(k) if lists[i] != None }\n",
    "        while(vals != {}):\n",
    "            vals_sort = sorted([(value,key) for (key,value) in vals.items()])\n",
    "            idx = vals_sort[0][1]\n",
    "            ptr.next = lists[idx]\n",
    "            ptr = ptr.next\n",
    "            lists[idx] = lists[idx].next\n",
    "            vals = {i:lists[i].val for i in range(k) if lists[i] != None }\n",
    "        return node"
   ]
  },
  {
   "cell_type": "code",
   "execution_count": 13,
   "metadata": {
    "collapsed": false
   },
   "outputs": [],
   "source": [
    "'''\n",
    "Divide and conquer\n",
    "30.84%\n",
    "'''\n",
    "# Definition for singly-linked list.\n",
    "# class ListNode(object):\n",
    "#     def __init__(self, x):\n",
    "#         self.val = x\n",
    "#         self.next = None\n",
    "\n",
    "class Solution(object):\n",
    "    def mergeKLists(self, lists):\n",
    "        \"\"\"\n",
    "        :type lists: List[ListNode]\n",
    "        :rtype: ListNode\n",
    "        \"\"\"\n",
    "        k = len(lists)\n",
    "        if k == 0: return None\n",
    "        if k == 1: return lists[0]\n",
    "        if k == 2:\n",
    "            return self.merge2Lists(lists[0], lists[1])\n",
    "        # divide\n",
    "        listsA = lists[0: k/2]\n",
    "        listsB = lists[k/2 :]\n",
    "        # conquer\n",
    "        nodeA = self.mergeKLists(listsA)\n",
    "        nodeB = self.mergeKLists(listsB)\n",
    "        \n",
    "        return self.merge2Lists(nodeA, nodeB)\n",
    "    def merge2Lists(self, A, B):\n",
    "        # none cases\n",
    "        if A == B == None:\n",
    "            return None\n",
    "        node = ptr = ListNode(None)\n",
    "        while(A != None and B != None):\n",
    "            if A.val <= B.val:\n",
    "                ptr.next = A\n",
    "                A = A.next\n",
    "            else:\n",
    "                ptr.next = B\n",
    "                B = B.next\n",
    "            ptr = ptr.next\n",
    "        if A == None:\n",
    "            ptr.next = B\n",
    "        if B == None:\n",
    "            ptr.next = A\n",
    "        return node.next"
   ]
  },
  {
   "cell_type": "code",
   "execution_count": 16,
   "metadata": {
    "collapsed": false
   },
   "outputs": [
    {
     "data": {
      "text/plain": [
       "2"
      ]
     },
     "execution_count": 16,
     "metadata": {},
     "output_type": "execute_result"
    }
   ],
   "source": [
    "5/2"
   ]
  },
  {
   "cell_type": "code",
   "execution_count": null,
   "metadata": {
    "collapsed": true
   },
   "outputs": [],
   "source": []
  }
 ],
 "metadata": {
  "kernelspec": {
   "display_name": "Python 2",
   "language": "python",
   "name": "python2"
  },
  "language_info": {
   "codemirror_mode": {
    "name": "ipython",
    "version": 2
   },
   "file_extension": ".py",
   "mimetype": "text/x-python",
   "name": "python",
   "nbconvert_exporter": "python",
   "pygments_lexer": "ipython2",
   "version": "2.7.11"
  }
 },
 "nbformat": 4,
 "nbformat_minor": 0
}
