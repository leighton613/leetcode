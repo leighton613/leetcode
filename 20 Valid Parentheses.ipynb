{
 "cells": [
  {
   "cell_type": "markdown",
   "metadata": {},
   "source": [
    "Given a string containing just the characters `'('`, `')'`, `'{'`, `'}'`, `'['` and `']'`, determine if the input string is valid.\n",
    "\n",
    "The brackets must close in the correct order, `\"()\"` and `\"()[]{}\"` are all valid but `\"(]\"` and `\"([)]\"` are not."
   ]
  },
  {
   "cell_type": "code",
   "execution_count": 17,
   "metadata": {
    "collapsed": false
   },
   "outputs": [],
   "source": [
    "'''\n",
    "stack\n",
    "0.57%\n",
    "'''\n",
    "class Solution(object):\n",
    "    def isValid(self, s):\n",
    "        \"\"\"\n",
    "        :type s: str\n",
    "        :rtype: bool\n",
    "        \"\"\"\n",
    "        stack = []\n",
    "        mapping = {\n",
    "            '(':')',\n",
    "            '[':']',\n",
    "            '{':'}'\n",
    "        }\n",
    "        for char in s:\n",
    "            if char in mapping: # left sides\n",
    "                stack.append(char)\n",
    "            else:\n",
    "                if not len(stack) or mapping[stack.pop()] != char : return False\n",
    "        return False if stack else True"
   ]
  },
  {
   "cell_type": "code",
   "execution_count": null,
   "metadata": {
    "collapsed": true
   },
   "outputs": [],
   "source": [
    "'''\n",
    "stack + length\n",
    "41.11%\n",
    "'''\n",
    "\n",
    "class Solution(object):\n",
    "    def isValid(self, s):\n",
    "        \"\"\"\n",
    "        :type s: str\n",
    "        :rtype: bool\n",
    "        \"\"\"\n",
    "        d = len(s)\n",
    "        if d%2==1 or d==0:return False\n",
    "        stack = []\n",
    "        mapping = {\n",
    "            '(':')',\n",
    "            '[':']',\n",
    "            '{':'}'\n",
    "        }\n",
    "        for char in s:\n",
    "            if char in mapping: # left sides\n",
    "                stack.append(char)\n",
    "            else:\n",
    "                if not len(stack) or mapping[stack.pop()] != char : return False\n",
    "        return False if stack else True"
   ]
  },
  {
   "cell_type": "code",
   "execution_count": 18,
   "metadata": {
    "collapsed": false
   },
   "outputs": [
    {
     "data": {
      "text/plain": [
       "False"
      ]
     },
     "execution_count": 18,
     "metadata": {},
     "output_type": "execute_result"
    }
   ],
   "source": [
    "s = \"}\"\n",
    "Solution().isValid(s)"
   ]
  },
  {
   "cell_type": "code",
   "execution_count": null,
   "metadata": {
    "collapsed": true
   },
   "outputs": [],
   "source": []
  }
 ],
 "metadata": {
  "kernelspec": {
   "display_name": "Python 2",
   "language": "python",
   "name": "python2"
  },
  "language_info": {
   "codemirror_mode": {
    "name": "ipython",
    "version": 2
   },
   "file_extension": ".py",
   "mimetype": "text/x-python",
   "name": "python",
   "nbconvert_exporter": "python",
   "pygments_lexer": "ipython2",
   "version": "2.7.11"
  }
 },
 "nbformat": 4,
 "nbformat_minor": 0
}
