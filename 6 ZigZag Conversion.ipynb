{
 "cells": [
  {
   "cell_type": "markdown",
   "metadata": {},
   "source": [
    "The string `\"PAYPALISHIRING\"` is written in a zigzag pattern on a given number of rows like this: (you may want to display this pattern in a fixed font for better legibility)\n",
    "\n",
    "    P   A   H   N\n",
    "    A P L S I I G\n",
    "    Y   I   R\n",
    "    \n",
    "And then read line by line: `\"PAHNAPLSIIGYIR\"`\n",
    "Write the code that will take a string and make this conversion given a number of rows:\n",
    "\n",
    "    string convert(string text, int nRows);\n",
    "    \n",
    "`convert(\"PAYPALISHIRING\", 3)` should return `\"PAHNAPLSIIGYIR\"`."
   ]
  },
  {
   "cell_type": "code",
   "execution_count": 46,
   "metadata": {
    "collapsed": true
   },
   "outputs": [],
   "source": [
    "'''\n",
    "zip()\n",
    "17.91%\n",
    "'''\n",
    "class Solution(object):\n",
    "    def convert(self, s, numRows):\n",
    "        \"\"\"\n",
    "        :type s: str\n",
    "        :type numRows: int\n",
    "        :rtype: str\n",
    "        \"\"\"\n",
    "        if len(s) < 3: return s\n",
    "        stacks = [[] for i in xrange(numRows)]\n",
    "        stackInd = range(numRows) + range(numRows-2,0,-1)\n",
    "        ind = stackInd * (len(s) / len(stackInd) + 1)\n",
    "        indAndChar = zip(ind, list(s))\n",
    "        for item in indAndChar:\n",
    "            stacks[item[0]].append(item[-1])\n",
    "        converted = reduce(lambda x,y: x+y, stacks)\n",
    "        return \"\".join(converted)           "
   ]
  },
  {
   "cell_type": "code",
   "execution_count": 51,
   "metadata": {
    "collapsed": true
   },
   "outputs": [],
   "source": [
    "'''\n",
    "mod\n",
    "12.33%\n",
    "'''\n",
    "class Solution(object):\n",
    "    def convert(self, s, numRows):\n",
    "        \"\"\"\n",
    "        :type s: str\n",
    "        :type numRows: int\n",
    "        :rtype: str\n",
    "        \"\"\"\n",
    "        if len(s) < 3 or numRows==1: return s\n",
    "        stacks = [[] for i in xrange(numRows)]\n",
    "        for i in range(len(s)):\n",
    "            idx = (numRows-1) - abs(numRows-1 - i%(numRows*2-2))\n",
    "            stacks[idx].append(s[i])\n",
    "        stacks = reduce(lambda x,y: x+y, stacks)\n",
    "        return \"\".join(stacks)"
   ]
  },
  {
   "cell_type": "code",
   "execution_count": null,
   "metadata": {
    "collapsed": true
   },
   "outputs": [],
   "source": []
  }
 ],
 "metadata": {
  "kernelspec": {
   "display_name": "Python 2",
   "language": "python",
   "name": "python2"
  },
  "language_info": {
   "codemirror_mode": {
    "name": "ipython",
    "version": 2
   },
   "file_extension": ".py",
   "mimetype": "text/x-python",
   "name": "python",
   "nbconvert_exporter": "python",
   "pygments_lexer": "ipython2",
   "version": "2.7.11"
  }
 },
 "nbformat": 4,
 "nbformat_minor": 0
}
