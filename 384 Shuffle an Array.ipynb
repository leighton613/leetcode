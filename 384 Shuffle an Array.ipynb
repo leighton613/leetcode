{
 "cells": [
  {
   "cell_type": "markdown",
   "metadata": {},
   "source": [
    "Shuffle a set of numbers without duplicates.\n",
    "\n",
    "Example:\n",
    "\n",
    "// **Init** an array with set 1, 2, and 3.\n",
    "\n",
    "    int[] nums = {1,2,3};\n",
    "    Solution solution = new Solution(nums);\n",
    "\n",
    "// **Shuffle** the array [1,2,3] and return its result. Any permutation of [1,2,3] must **equally likely** to be returned.\n",
    "\n",
    "    solution.shuffle();\n",
    "\n",
    "// **Resets** the array back to its original configuration [1,2,3].\n",
    "\n",
    "    solution.reset();\n",
    "\n",
    "// Returns the **random shuffling** of array [1,2,3].\n",
    "\n",
    "    solution.shuffle();"
   ]
  },
  {
   "cell_type": "code",
   "execution_count": 33,
   "metadata": {
    "collapsed": false
   },
   "outputs": [],
   "source": [
    "import copy\n",
    "from random import randint\n",
    "class Solution(object):\n",
    "\n",
    "    def __init__(self, nums):\n",
    "        \"\"\"\n",
    "        :type nums: List[int]\n",
    "        :type size: int\n",
    "        \"\"\"\n",
    "        self.original = copy.copy(nums)\n",
    "        self.data = nums\n",
    "        self.result = []\n",
    "\n",
    "    def reset(self):\n",
    "        \"\"\"\n",
    "        Resets the array to its original configuration and return it.\n",
    "        :rtype: List[int]\n",
    "        \"\"\"\n",
    "        return self.original\n",
    "        \n",
    "\n",
    "    def shuffle(self):\n",
    "        \"\"\"\n",
    "        Returns a random shuffling of the array.\n",
    "        :rtype: List[int]\n",
    "        \"\"\"\n",
    "        while self.data:\n",
    "            self.result.append(self.data.pop(randint(0, len(self.data)-1)))\n",
    "        self.data, self.result = self.result, self.data\n",
    "        return self.data\n",
    "        \n",
    "\n",
    "\n",
    "# Your Solution object will be instantiated and called as such:\n",
    "# obj = Solution(nums)\n",
    "# param_1 = obj.reset()\n",
    "# param_2 = obj.shuffle()"
   ]
  },
  {
   "cell_type": "code",
   "execution_count": 34,
   "metadata": {
    "collapsed": false
   },
   "outputs": [
    {
     "name": "stdout",
     "output_type": "stream",
     "text": [
      "[3, 1, 2, 4]\n",
      "reset: [1, 2, 3, 4]\n",
      "[4, 1, 2, 3]\n",
      "reset: [1, 2, 3, 4]\n",
      "[2, 1, 3, 4]\n",
      "reset: [1, 2, 3, 4]\n",
      "[2, 3, 4, 1]\n",
      "reset: [1, 2, 3, 4]\n",
      "[2, 3, 4, 1]\n",
      "reset: [1, 2, 3, 4]\n",
      "[3, 4, 2, 1]\n",
      "reset: [1, 2, 3, 4]\n",
      "[2, 3, 1, 4]\n",
      "reset: [1, 2, 3, 4]\n",
      "[3, 4, 1, 2]\n",
      "reset: [1, 2, 3, 4]\n",
      "[1, 4, 3, 2]\n",
      "reset: [1, 2, 3, 4]\n",
      "[2, 4, 1, 3]\n",
      "reset: [1, 2, 3, 4]\n"
     ]
    }
   ],
   "source": [
    "nums = [1, 2, 3, 4]\n",
    "obj = Solution(nums)\n",
    "for i in range(10):\n",
    "    print obj.shuffle()\n",
    "    print \"reset:\",obj.original"
   ]
  }
 ],
 "metadata": {
  "kernelspec": {
   "display_name": "Python 2",
   "language": "python",
   "name": "python2"
  },
  "language_info": {
   "codemirror_mode": {
    "name": "ipython",
    "version": 2
   },
   "file_extension": ".py",
   "mimetype": "text/x-python",
   "name": "python",
   "nbconvert_exporter": "python",
   "pygments_lexer": "ipython2",
   "version": "2.7.11"
  }
 },
 "nbformat": 4,
 "nbformat_minor": 0
}
