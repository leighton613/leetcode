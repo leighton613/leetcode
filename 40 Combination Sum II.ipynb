{
 "cells": [
  {
   "cell_type": "markdown",
   "metadata": {},
   "source": [
    "Given a collection of candidate numbers (C) and a target number (T), find all unique combinations in C where the candidate numbers sums to T.\n",
    "\n",
    "Each number in C may only be used once in the combination.\n",
    "\n",
    "**Note:**\n",
    "- All numbers (including target) will be positive integers.\n",
    "- The solution set must not contain duplicate combinations.\n",
    "- For example, given candidate set `[10, 1, 2, 7, 6, 1, 5]` and target 8, A solution set is: \n",
    "\n",
    "    [\n",
    "      [1, 7],\n",
    "      [1, 2, 5],\n",
    "      [2, 6],\n",
    "      [1, 1, 6]\n",
    "    ]"
   ]
  },
  {
   "cell_type": "code",
   "execution_count": 34,
   "metadata": {
    "collapsed": true
   },
   "outputs": [],
   "source": [
    "\"\"\"626ms\"\"\"\n",
    "from itertools import groupby as gb\n",
    "class Solution(object):\n",
    "    def combinationSum2(self, candidates, target):\n",
    "        \"\"\"\n",
    "        :type candidates: List[int]\n",
    "        :type target: int\n",
    "        :rtype: List[List[int]]\n",
    "        \"\"\"\n",
    "        ans = []\n",
    "        prefix = []\n",
    "        candidates = sorted([i for i in candidates if i <= target])\n",
    "        ans = sorted(self.recurCS(candidates, target, prefix, ans))\n",
    "        return [i for i,_ in gb(ans)]\n",
    "    def recurCS(self, candidates, target, prefix, ans):\n",
    "        if target < 0: return\n",
    "        elif target == 0:\n",
    "            ans.append(prefix)\n",
    "        else:\n",
    "            for i in range(len(candidates)):\n",
    "                num = candidates[i]\n",
    "                self.recurCS(candidates[i+1:], target-num, prefix+[num], ans)\n",
    "        \n",
    "        return ans\n",
    "        "
   ]
  },
  {
   "cell_type": "code",
   "execution_count": 35,
   "metadata": {
    "collapsed": false
   },
   "outputs": [
    {
     "data": {
      "text/plain": [
       "[[1, 1, 6], [1, 2, 5], [1, 7], [2, 6]]"
      ]
     },
     "execution_count": 35,
     "metadata": {},
     "output_type": "execute_result"
    }
   ],
   "source": [
    "Solution().combinationSum2([10, 1, 2, 7, 6, 1, 5], 8)"
   ]
  },
  {
   "cell_type": "code",
   "execution_count": null,
   "metadata": {
    "collapsed": true
   },
   "outputs": [],
   "source": []
  }
 ],
 "metadata": {
  "kernelspec": {
   "display_name": "Python 2",
   "language": "python",
   "name": "python2"
  },
  "language_info": {
   "codemirror_mode": {
    "name": "ipython",
    "version": 2
   },
   "file_extension": ".py",
   "mimetype": "text/x-python",
   "name": "python",
   "nbconvert_exporter": "python",
   "pygments_lexer": "ipython2",
   "version": "2.7.11"
  }
 },
 "nbformat": 4,
 "nbformat_minor": 0
}
