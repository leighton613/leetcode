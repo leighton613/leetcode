{
 "cells": [
  {
   "cell_type": "markdown",
   "metadata": {},
   "source": [
    "Given a list, rotate the list to the right by k places, where k is non-negative.\n",
    "\n",
    "For example:\n",
    "\n",
    "- Given 1->2->3->4->5->NULL and k = 2,\n",
    "- return 4->5->1->2->3->NULL."
   ]
  },
  {
   "cell_type": "code",
   "execution_count": null,
   "metadata": {
    "collapsed": true
   },
   "outputs": [],
   "source": [
    "'''\n",
    "Tranverse to get N\n",
    "O(n) time (tranverse twice)\n",
    "7.02%\n",
    "'''\n",
    "class Solution(object):\n",
    "    def rotateRight(self, head, k):\n",
    "        \"\"\"\n",
    "        :type head: ListNode\n",
    "        :type k: int\n",
    "        :rtype: ListNode\n",
    "        \"\"\"\n",
    "        if k == 0: return head\n",
    "        if not head or not head.next: return head\n",
    "        # >= 2 nodes with k > 0\n",
    "        ptr = head\n",
    "        N = 0\n",
    "        while ptr:\n",
    "            N += 1\n",
    "            ptr = ptr.next\n",
    "        k = k%N\n",
    "        if k == 0: return head\n",
    "        if not head.next.next:\n",
    "            temp = head.next\n",
    "            temp.next = head\n",
    "            head.next = None\n",
    "            return temp\n",
    "        # >= 3 nodes with updated k > 0\n",
    "        slow = fast = head\n",
    "        for i in range(k):\n",
    "            fast = fast.next\n",
    "        while fast and fast.next:\n",
    "            slow = slow.next\n",
    "            fast = fast.next\n",
    "        second = slow.next\n",
    "        slow.next = None\n",
    "        # link\n",
    "        first = head\n",
    "        ptr = second\n",
    "        while ptr and ptr.next:\n",
    "            ptr = ptr.next\n",
    "        ptr.next = first\n",
    "        return second"
   ]
  },
  {
   "cell_type": "code",
   "execution_count": null,
   "metadata": {
    "collapsed": true
   },
   "outputs": [],
   "source": [
    "'''\n",
    "???\n",
    "'''\n",
    "def rotateRight(self, head, k):\n",
    "    if not head: return None\n",
    "    n, p1, p2 = 0, head, head\n",
    "    \n",
    "    # p1 goes to the last node\n",
    "    while p1.next: \n",
    "        n, p1 = n + 1, p1.next       # n + 1 nodes in total\n",
    "    if k % (n + 1) == 0: return head\n",
    "    \n",
    "    # p2 goes to the k place\n",
    "    for i in xrange(n - k % (n + 1)): \n",
    "        p2 = p2.next\n",
    "        \n",
    "    # find new head\n",
    "    new_head, p2.next, p1.next = p2.next, None, head\n",
    "    \n",
    "    return new_head"
   ]
  }
 ],
 "metadata": {
  "kernelspec": {
   "display_name": "Python 2",
   "language": "python",
   "name": "python2"
  },
  "language_info": {
   "codemirror_mode": {
    "name": "ipython",
    "version": 2
   },
   "file_extension": ".py",
   "mimetype": "text/x-python",
   "name": "python",
   "nbconvert_exporter": "python",
   "pygments_lexer": "ipython2",
   "version": "2.7.11"
  }
 },
 "nbformat": 4,
 "nbformat_minor": 0
}
