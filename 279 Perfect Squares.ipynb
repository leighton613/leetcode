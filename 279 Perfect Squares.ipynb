{
 "cells": [
  {
   "cell_type": "markdown",
   "metadata": {},
   "source": [
    "Given a positive integer `n`, find the **least number of perfect square numbers** (for example, `1, 4, 9, 16, ...`) which sum to `n`.\n",
    "\n",
    "For example, given `n = 12`, return `3` because `12 = 4 + 4 + 4`; given `n = 13`, return `2` because `13 = 4 + 9.`"
   ]
  },
  {
   "cell_type": "code",
   "execution_count": 36,
   "metadata": {
    "collapsed": false
   },
   "outputs": [],
   "source": [
    "\"\"\"\n",
    "DP still TLE on leetcode\n",
    "https://leetcode.com/problems/perfect-squares/\n",
    "\"\"\"\n",
    "\n",
    "class Solution(object):\n",
    "    def numSquares(self, n):\n",
    "        \"\"\"\n",
    "        :type n: int\n",
    "        :rtype: int\n",
    "        \"\"\"\n",
    "        table = [0 for i in range(1, n+1)]\n",
    "        squareNum = [i**2 for i in range(1, int(sqrt(n))+1)]\n",
    "        for sqn in squareNum:\n",
    "            table[sqn-1] = 1\n",
    "        if table[-1] == 1: return table[-1]\n",
    "        \n",
    "        for num in range(2, n+1):       # current number\n",
    "            if num in squareNum: continue\n",
    "            squareNumCurr = squareNum[:int(num**.5)]\n",
    "            table[num-1] = min([table[num-sqn-1] for sqn in squareNumCurr] + [num-1]) +1\n",
    "        \n",
    "#         print table\n",
    "        return table[-1]"
   ]
  },
  {
   "cell_type": "code",
   "execution_count": 41,
   "metadata": {
    "collapsed": false
   },
   "outputs": [],
   "source": [
    "\"\"\"\n",
    "static dp\n",
    "ref: https://discuss.leetcode.com/topic/23812/static-dp-c-12-ms-python-172-ms-ruby-384-ms/2\n",
    "\"\"\"\n",
    "class Solution(object):\n",
    "    _table = [0]\n",
    "    def numSquares(self, n):\n",
    "        \"\"\"\n",
    "        :type n: int\n",
    "        :rtype: int\n",
    "        \"\"\"\n",
    "        table = self._table        \n",
    "        while len(table) <= n:\n",
    "            table.append(min([table[-i*i] for i in range(1, int(len(table)**0.5)+1)]) + 1)\n",
    "        return table[n]\n",
    "            "
   ]
  },
  {
   "cell_type": "code",
   "execution_count": 42,
   "metadata": {
    "collapsed": false
   },
   "outputs": [
    {
     "data": {
      "text/plain": [
       "3"
      ]
     },
     "execution_count": 42,
     "metadata": {},
     "output_type": "execute_result"
    }
   ],
   "source": [
    "Solution().numSquares(9990)"
   ]
  }
 ],
 "metadata": {
  "kernelspec": {
   "display_name": "Python 2",
   "language": "python",
   "name": "python2"
  },
  "language_info": {
   "codemirror_mode": {
    "name": "ipython",
    "version": 2
   },
   "file_extension": ".py",
   "mimetype": "text/x-python",
   "name": "python",
   "nbconvert_exporter": "python",
   "pygments_lexer": "ipython2",
   "version": "2.7.11"
  }
 },
 "nbformat": 4,
 "nbformat_minor": 0
}
