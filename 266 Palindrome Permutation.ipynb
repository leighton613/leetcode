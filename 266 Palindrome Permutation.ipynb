{
 "cells": [
  {
   "cell_type": "code",
   "execution_count": null,
   "metadata": {
    "collapsed": true
   },
   "outputs": [],
   "source": [
    "'''\n",
    "Given a string, determine if a permutation of the string could form a palindrome.\n",
    "\"code\" -> False, \"aab\" -> True, \"carerac\" -> True.\n",
    "'''"
   ]
  },
  {
   "cell_type": "code",
   "execution_count": null,
   "metadata": {
    "collapsed": true
   },
   "outputs": [],
   "source": [
    "# 73%\n",
    "class Solution(object):\n",
    "    def canPermutePalindrome(self, s):\n",
    "        \"\"\"\n",
    "        :type s: str\n",
    "        :rtype: bool\n",
    "        \"\"\"\n",
    "        chars = []\n",
    "        for char in s:\n",
    "            if char in chars:\n",
    "                chars.remove(char)\n",
    "            else:\n",
    "                chars.append(char)\n",
    "        if len(chars) > 1: return False\n",
    "        else: return True"
   ]
  },
  {
   "cell_type": "code",
   "execution_count": 47,
   "metadata": {
    "collapsed": true
   },
   "outputs": [],
   "source": [
    "'''\n",
    "WRONG\n",
    "1. Must be alphabet letter\n",
    "2. Counts and check\n",
    "'''\n",
    "\n",
    "class Solution(object):\n",
    "    def canPermutePalindrome(self, s):\n",
    "        \"\"\"\n",
    "        :type s: str\n",
    "        :rtype: bool\n",
    "        \"\"\"\n",
    "        N = len(s)\n",
    "        s = s.lower()\n",
    "        letters = {}\n",
    "        for char in s:\n",
    "            letters[char] = letters.get(char, 0) + 1\n",
    "        odd = 0\n",
    "        for value in letters.values():\n",
    "            if value % 2 != 0: odd += 1\n",
    "        if odd > 1: return False\n",
    "        else:\n",
    "            return True"
   ]
  },
  {
   "cell_type": "code",
   "execution_count": 39,
   "metadata": {
    "collapsed": true
   },
   "outputs": [],
   "source": [
    "'''\n",
    "WRONG\n",
    "想太多\n",
    "'''\n",
    "class Solution(object):\n",
    "    def canPermutePalindrome(self, s):\n",
    "        \"\"\"\n",
    "        :type s: str\n",
    "        :rtype: bool\n",
    "        \"\"\"\n",
    "        special = {40:41, 41:40, 47:92, 92:47, 60:62, 62:60, 91:93, 93:91, 123:125, 125:123}\n",
    "        N = len(s)\n",
    "        chars = []\n",
    "        for i in s:\n",
    "            if ord(i) in special:\n",
    "                if chr(special[ord(i)]) in chars:\n",
    "                    chars.remove(chr(special[ord(i)]))\n",
    "                else:\n",
    "                    chars.append(i)\n",
    "            else:\n",
    "                if i in chars:\n",
    "                    chars.remove(i)\n",
    "                else:\n",
    "                    chars.append(i)\n",
    "\n",
    "        if len(chars) > 1: return False\n",
    "        elif len(chars) == 1:\n",
    "            if chars[0] in special: return False\n",
    "            else: return True\n",
    "        else: return True"
   ]
  },
  {
   "cell_type": "code",
   "execution_count": 49,
   "metadata": {
    "collapsed": false
   },
   "outputs": [
    {
     "name": "stdout",
     "output_type": "stream",
     "text": [
      "aa/\b\n"
     ]
    },
    {
     "data": {
      "text/plain": [
       "False"
      ]
     },
     "execution_count": 49,
     "metadata": {},
     "output_type": "execute_result"
    }
   ],
   "source": [
    "s = \"aa/\\b\"\n",
    "print s\n",
    "Solution().canPermutePalindrome(s)"
   ]
  },
  {
   "cell_type": "code",
   "execution_count": 36,
   "metadata": {
    "collapsed": false
   },
   "outputs": [
    {
     "name": "stdout",
     "output_type": "stream",
     "text": [
      "97\n",
      "97\n",
      "92\n",
      "98\n"
     ]
    }
   ],
   "source": [
    "for i  in r\"aa\\b\":\n",
    "    print ord(i)"
   ]
  },
  {
   "cell_type": "code",
   "execution_count": 43,
   "metadata": {
    "collapsed": false
   },
   "outputs": [
    {
     "name": "stdout",
     "output_type": "stream",
     "text": [
      "aa\\x08\n"
     ]
    }
   ],
   "source": [
    "from re import escape\n",
    "print \"aa\\b\".encode(\"string-escape\")"
   ]
  },
  {
   "cell_type": "code",
   "execution_count": 45,
   "metadata": {
    "collapsed": false
   },
   "outputs": [],
   "source": [
    "special = {40:41, 41:40, 47:92, 92:47, 60:62, 62:60, 91:93, 93:91, 123:125, 125:123}"
   ]
  },
  {
   "cell_type": "code",
   "execution_count": 46,
   "metadata": {
    "collapsed": false
   },
   "outputs": [
    {
     "data": {
      "text/plain": [
       "[123, 125, 91, 41, 40, 93, 47, 62, 60, 92]"
      ]
     },
     "execution_count": 46,
     "metadata": {},
     "output_type": "execute_result"
    }
   ],
   "source": [
    "special.values()"
   ]
  },
  {
   "cell_type": "code",
   "execution_count": null,
   "metadata": {
    "collapsed": true
   },
   "outputs": [],
   "source": []
  }
 ],
 "metadata": {
  "kernelspec": {
   "display_name": "Python 2",
   "language": "python",
   "name": "python2"
  },
  "language_info": {
   "codemirror_mode": {
    "name": "ipython",
    "version": 2
   },
   "file_extension": ".py",
   "mimetype": "text/x-python",
   "name": "python",
   "nbconvert_exporter": "python",
   "pygments_lexer": "ipython2",
   "version": "2.7.11"
  }
 },
 "nbformat": 4,
 "nbformat_minor": 0
}
