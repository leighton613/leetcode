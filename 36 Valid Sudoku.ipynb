{
 "cells": [
  {
   "cell_type": "markdown",
   "metadata": {},
   "source": [
    "Determine if a Sudoku is valid, according to: Sudoku Puzzles - The Rules.\n",
    "\n",
    "The Sudoku board could be partially filled, where empty cells are filled with the character `'.'`.\n",
    "\n",
    "#### Note:\n",
    "A valid Sudoku board (partially filled) is not necessarily solvable. Only the filled cells need to be validated."
   ]
  },
  {
   "cell_type": "code",
   "execution_count": null,
   "metadata": {
    "collapsed": true
   },
   "outputs": [],
   "source": [
    "'''\n",
    "58.9%\n",
    "trivial\n",
    "'''s\n",
    "class Solution(object):\n",
    "    def isValidSudoku(self, board):\n",
    "        \"\"\"\n",
    "        :type board: List[List[str]]\n",
    "        :rtype: bool\n",
    "        \"\"\"\n",
    "        # row\n",
    "        \n",
    "        for i in xrange(9):\n",
    "            mapping = {}\n",
    "            for j in xrange(9):\n",
    "                if board[i][j] == '.': pass\n",
    "                else:\n",
    "                    mapping[board[i][j]] = mapping.get(board[i][j],0) + 1\n",
    "                    if mapping.get(board[i][j],0) > 1: return False\n",
    "        # col\n",
    "        for i in xrange(9):\n",
    "            mapping = {}\n",
    "            for j in xrange(9):\n",
    "                if board[j][i] == '.': pass\n",
    "                else:\n",
    "                    mapping[board[j][i]] = mapping.get(board[j][i],0) + 1\n",
    "                    if mapping.get(board[j][i],0) > 1: return False\n",
    "        # cell\n",
    "        for a in [0,3,6]:\n",
    "            for b in [0,3,6]:\n",
    "                mapping = {}\n",
    "                range_i = range(0+a,3+a)\n",
    "                range_j = range(0+b,3+b)\n",
    "                for i in range_i:\n",
    "                    for j in range_j:\n",
    "                        if board[i][j] == '.': pass\n",
    "                        else:\n",
    "                            mapping[board[i][j]] = mapping.get(board[i][j],0) + 1\n",
    "                            if mapping.get(board[i][j],0) > 1: return False\n",
    "        return True"
   ]
  },
  {
   "cell_type": "code",
   "execution_count": 5,
   "metadata": {
    "collapsed": false
   },
   "outputs": [
    {
     "data": {
      "text/plain": [
       "[6, 7, 8]"
      ]
     },
     "execution_count": 5,
     "metadata": {},
     "output_type": "execute_result"
    }
   ],
   "source": [
    "range(0+6,3+6)"
   ]
  },
  {
   "cell_type": "code",
   "execution_count": null,
   "metadata": {
    "collapsed": true
   },
   "outputs": [],
   "source": []
  }
 ],
 "metadata": {
  "kernelspec": {
   "display_name": "Python 2",
   "language": "python",
   "name": "python2"
  },
  "language_info": {
   "codemirror_mode": {
    "name": "ipython",
    "version": 2
   },
   "file_extension": ".py",
   "mimetype": "text/x-python",
   "name": "python",
   "nbconvert_exporter": "python",
   "pygments_lexer": "ipython2",
   "version": "2.7.11"
  }
 },
 "nbformat": 4,
 "nbformat_minor": 0
}
