{
 "cells": [
  {
   "cell_type": "markdown",
   "metadata": {},
   "source": [
    "Write a function that takes a string as input and reverse only the vowels of a string.\n",
    "\n",
    "- Example 1:\n",
    "\n",
    "Given s = \"hello\", return \"holle\".\n",
    "\n",
    "- Example 2:\n",
    "\n",
    "Given s = \"leetcode\", return \"leotcede\"."
   ]
  },
  {
   "cell_type": "code",
   "execution_count": 19,
   "metadata": {
    "collapsed": true
   },
   "outputs": [],
   "source": [
    "'''\n",
    "Two pointers for two directions, and swap;\n",
    "Using str.lower()\n",
    "40.78%\n",
    "'''\n",
    "class Solution(object):\n",
    "    def reverseVowels(self, s):\n",
    "        \"\"\"\n",
    "        :type s: str\n",
    "        :rtype: str\n",
    "        \"\"\"\n",
    "        if len(s)<2: return s\n",
    "        vowels = [\"a\",\"o\",\"i\",\"e\",\"u\"]\n",
    "        s_list = list(s)\n",
    "        d = len(s_list)\n",
    "        ptr1, ptr2 = 0, d-1\n",
    "        while ptr1 < ptr2:\n",
    "            # two vowels, swap\n",
    "            if s_list[ptr1].lower() in vowels and s_list[ptr2].lower() in vowels:\n",
    "                s_list[ptr1], s_list[ptr2] = s_list[ptr2], s_list[ptr1]\n",
    "                ptr1 += 1\n",
    "                ptr2 -= 1\n",
    "            elif s_list[ptr1].lower() in vowels:\n",
    "                ptr2 -= 1\n",
    "            elif s_list[ptr2].lower() in vowels:\n",
    "                ptr1 += 1\n",
    "            else:\n",
    "                ptr1 += 1\n",
    "                ptr2 -= 1\n",
    "        return \"\".join(s_list)\n",
    "                \n",
    "            \n",
    "            "
   ]
  },
  {
   "cell_type": "code",
   "execution_count": null,
   "metadata": {
    "collapsed": true
   },
   "outputs": [],
   "source": [
    "'''\n",
    "Two pointers for two directions, and swap;\n",
    "List upper case in list\n",
    "18.59%\n",
    "'''\n",
    "\n",
    "class Solution(object):\n",
    "    def reverseVowels(self, s):\n",
    "        \"\"\"\n",
    "        :type s: str\n",
    "        :rtype: str\n",
    "        \"\"\"\n",
    "        if len(s)<2: return s\n",
    "        vowels = [\"a\",\"o\",\"i\",\"e\",\"u\",\"A\",\"O\",\"I\",\"E\",\"U\"]\n",
    "        s_list = list(s)\n",
    "        d = len(s_list)\n",
    "        ptr1, ptr2 = 0, d-1\n",
    "        while ptr1 < ptr2:\n",
    "            # two vowels, swap\n",
    "            if s_list[ptr1] in vowels and s_list[ptr2] in vowels:\n",
    "                s_list[ptr1], s_list[ptr2] = s_list[ptr2], s_list[ptr1]\n",
    "                ptr1 += 1\n",
    "                ptr2 -= 1\n",
    "            elif s_list[ptr1] in vowels:\n",
    "                ptr2 -= 1\n",
    "            elif s_list[ptr2] in vowels:\n",
    "                ptr1 += 1\n",
    "            else:\n",
    "                ptr1 += 1\n",
    "                ptr2 -= 1\n",
    "        return \"\".join(s_list)"
   ]
  },
  {
   "cell_type": "code",
   "execution_count": null,
   "metadata": {
    "collapsed": true
   },
   "outputs": [],
   "source": []
  }
 ],
 "metadata": {
  "kernelspec": {
   "display_name": "Python 2",
   "language": "python",
   "name": "python2"
  },
  "language_info": {
   "codemirror_mode": {
    "name": "ipython",
    "version": 2
   },
   "file_extension": ".py",
   "mimetype": "text/x-python",
   "name": "python",
   "nbconvert_exporter": "python",
   "pygments_lexer": "ipython2",
   "version": "2.7.11"
  }
 },
 "nbformat": 4,
 "nbformat_minor": 0
}
