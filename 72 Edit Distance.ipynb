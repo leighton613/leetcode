{
 "cells": [
  {
   "cell_type": "markdown",
   "metadata": {},
   "source": [
    "#### 72. Edit Distance\n",
    "\n",
    "Given two words word1 and word2, find the minimum number of steps required to convert word1 to word2. (each operation is counted as 1 step.)\n",
    "\n",
    "You have the following 3 operations permitted on a word:\n",
    "\n",
    "a) Insert a character\n",
    "\n",
    "b) Delete a character\n",
    "\n",
    "c) Replace a character"
   ]
  },
  {
   "cell_type": "code",
   "execution_count": 3,
   "metadata": {
    "collapsed": false
   },
   "outputs": [],
   "source": [
    "class Solution(object):\n",
    "    def minDistance(self, word1, word2):\n",
    "        \"\"\"\n",
    "        :type word1: str\n",
    "        :type word2: str\n",
    "        :rtype: int\n",
    "        \"\"\"\n",
    "        m = []\n",
    "        for i in range(len(word1)+1):\n",
    "            m.append([])\n",
    "            for j in range(len(word2)+1):\n",
    "                m[i].append(0)\n",
    "        m[0] = range(len(word2)+1)\n",
    "        for i in range(1,len(word1)+1):\n",
    "            m[i][0] = m[i-1][0] + 1\n",
    "\n",
    "        print m\n",
    "        \n",
    "        # the rest\n",
    "        for i in range(1,len(word1)+1):\n",
    "            for j in range(1,len(word2)+1):\n",
    "                if word1[i-1] == word2[j-1]:\n",
    "                    m[i][j] = m[i-1][j-1]\n",
    "                else:\n",
    "                    m[i][j] = min(m[i-1][j], m[i][j-1], m[i-1][j-1]) + 1 \n",
    "        print m\n",
    "        return m[-1][-1]\n",
    "\n",
    "        "
   ]
  },
  {
   "cell_type": "code",
   "execution_count": 12,
   "metadata": {
    "collapsed": false
   },
   "outputs": [
    {
     "name": "stdout",
     "output_type": "stream",
     "text": [
      "[[0, 1, 2, 3, 4, 5, 6], [1, 0, 0, 0, 0, 0, 0], [2, 0, 0, 0, 0, 0, 0], [3, 0, 0, 0, 0, 0, 0], [4, 0, 0, 0, 0, 0, 0], [5, 0, 0, 0, 0, 0, 0]]\n"
     ]
    },
    {
     "data": {
      "text/plain": [
       "3"
      ]
     },
     "execution_count": 12,
     "metadata": {},
     "output_type": "execute_result"
    }
   ],
   "source": [
    "Solution().minDistance(\"azced\", \"abcdef\")"
   ]
  },
  {
   "cell_type": "code",
   "execution_count": null,
   "metadata": {
    "collapsed": false
   },
   "outputs": [],
   "source": []
  },
  {
   "cell_type": "code",
   "execution_count": null,
   "metadata": {
    "collapsed": true
   },
   "outputs": [],
   "source": []
  },
  {
   "cell_type": "code",
   "execution_count": null,
   "metadata": {
    "collapsed": true
   },
   "outputs": [],
   "source": []
  },
  {
   "cell_type": "code",
   "execution_count": null,
   "metadata": {
    "collapsed": true
   },
   "outputs": [],
   "source": []
  },
  {
   "cell_type": "code",
   "execution_count": null,
   "metadata": {
    "collapsed": true
   },
   "outputs": [],
   "source": []
  },
  {
   "cell_type": "code",
   "execution_count": null,
   "metadata": {
    "collapsed": true
   },
   "outputs": [],
   "source": []
  },
  {
   "cell_type": "code",
   "execution_count": null,
   "metadata": {
    "collapsed": true
   },
   "outputs": [],
   "source": []
  },
  {
   "cell_type": "code",
   "execution_count": null,
   "metadata": {
    "collapsed": true
   },
   "outputs": [],
   "source": []
  },
  {
   "cell_type": "code",
   "execution_count": 11,
   "metadata": {
    "collapsed": false
   },
   "outputs": [],
   "source": [
    "class Solution(object):\n",
    "    def minDistance(self, word1, word2):\n",
    "        \"\"\"\n",
    "        :type word1: str\n",
    "        :type word2: str\n",
    "        :rtype: int\n",
    "        \"\"\"\n",
    "        m = []\n",
    "        for i in range(len(word1)+1):\n",
    "            m.append([])\n",
    "            for j in range(len(word2)+1):\n",
    "                m[i].append(0)\n",
    "        m[0] = range(len(word2)+1)\n",
    "        for i in range(1, len(word1)+1):\n",
    "            m[i][0] = m[i-1][0] + 1\n",
    "        print m\n",
    "\n",
    "        for i in range(1, len(word1)+1):\n",
    "            for j in range(1, len(word2)+1):\n",
    "                if word1[i-1] == word2[j-1]:\n",
    "                    m[i][j] = m[i-1][j-1]\n",
    "                else:\n",
    "                    m[i][j] = min(m[i-1][j], m[i][j-1], m[i-1][j-1]) + 1\n",
    "\n",
    "        return m[-1][-1]"
   ]
  },
  {
   "cell_type": "code",
   "execution_count": null,
   "metadata": {
    "collapsed": true
   },
   "outputs": [],
   "source": []
  }
 ],
 "metadata": {
  "kernelspec": {
   "display_name": "Python 2",
   "language": "python",
   "name": "python2"
  },
  "language_info": {
   "codemirror_mode": {
    "name": "ipython",
    "version": 2
   },
   "file_extension": ".py",
   "mimetype": "text/x-python",
   "name": "python",
   "nbconvert_exporter": "python",
   "pygments_lexer": "ipython2",
   "version": "2.7.11"
  }
 },
 "nbformat": 4,
 "nbformat_minor": 0
}
