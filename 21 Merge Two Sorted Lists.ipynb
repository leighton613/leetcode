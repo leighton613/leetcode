{
 "cells": [
  {
   "cell_type": "code",
   "execution_count": 1,
   "metadata": {
    "collapsed": false
   },
   "outputs": [
    {
     "data": {
      "text/plain": [
       "'\\nMerge two sorted linked lists and return it as a new list. \\nThe new list should be made by splicing together the nodes of the first two lists.\\n'"
      ]
     },
     "execution_count": 1,
     "metadata": {},
     "output_type": "execute_result"
    }
   ],
   "source": [
    "# 21\n",
    "'''\n",
    "Merge two sorted linked lists and return it as a new list. \n",
    "The new list should be made by splicing together the nodes of the first two lists.\n",
    "* merging elements one by one\n",
    "'''"
   ]
  },
  {
   "cell_type": "code",
   "execution_count": null,
   "metadata": {
    "collapsed": true
   },
   "outputs": [],
   "source": [
    "# Definition for singly-linked list.\n",
    "# class ListNode(object):\n",
    "#     def __init__(self, x):\n",
    "#         self.val = x\n",
    "#         self.next = None\n",
    "\n",
    "class Solution(object):\n",
    "    def mergeContent(self, first_node, second_node):\n",
    "        f_curr = first_node.next\n",
    "        f-prev = first_node\n",
    "        s_curr = second_node\n",
    "        while f_curr != None:\n",
    "            if f_curr.val <= s_curr.val:\n",
    "                f_prev = f_curr\n",
    "                f_curr = f_curr.next\n",
    "            else:\n",
    "                f_prev.next = s_curr\n",
    "                s_prev = s_curr\n",
    "                s_curr = s_curr.next\n",
    "            #check second\n",
    "            \n",
    "    def mergeTwoLists(self, l1, l2):\n",
    "        \"\"\"\n",
    "        :type l1: ListNode\n",
    "        :type l2: ListNode\n",
    "        :rtype: ListNode\n",
    "        \"\"\"\n",
    "        if l1 == l2 == None: return None\n",
    "        elif l1 == None: return l2\n",
    "        elif l2 == None: return l1\n",
    "        else:\n",
    "            if l1.val <= l2.val:\n",
    "                \n",
    "            else:\n",
    "                \n",
    "            "
   ]
  },
  {
   "cell_type": "code",
   "execution_count": 4,
   "metadata": {
    "collapsed": false
   },
   "outputs": [],
   "source": [
    "class Solution(object):\n",
    "    def mergeTwoLists(self, l1, l2):\n",
    "        \"\"\"\n",
    "        :type l1: ListNode\n",
    "        :type l2: ListNode\n",
    "        :rtype: ListNode\n",
    "        \"\"\"\n",
    "        if l1 == l2 == None: return None\n",
    "        elif l1 == None: return l2\n",
    "        elif l2 == None: return l1\n",
    "        else:\n",
    "            \n",
    "            # two pointers\n",
    "            first = l1\n",
    "            second = l2\n",
    "            \n",
    "            # initialization for root\n",
    "            if l1.val <= l2.val:\n",
    "                root = l1\n",
    "                first = first.next\n",
    "            else:\n",
    "                root = l2\n",
    "                second = second.next\n",
    "                \n",
    "            # loop to sort\n",
    "            curr = root\n",
    "            while first and second:\n",
    "                if first.val <= second.val:\n",
    "                    curr.next = first\n",
    "                    first = first.next\n",
    "                    curr = curr.next\n",
    "                else:\n",
    "                    curr.next = second\n",
    "                    second = second.next\n",
    "                    curr = curr.next\n",
    "                    \n",
    "            # after one list is done\n",
    "            if first == None:\n",
    "                curr.next = second\n",
    "            else:\n",
    "                curr.next = first\n",
    "            return root\n",
    "\n",
    "# 53.85%"
   ]
  },
  {
   "cell_type": "code",
   "execution_count": 5,
   "metadata": {
    "collapsed": true
   },
   "outputs": [],
   "source": [
    "class Solution_neat(object):\n",
    "    def mergeTwoLists(self, l1, l2):\n",
    "        \"\"\"\n",
    "        :type l1: ListNode\n",
    "        :type l2: ListNode\n",
    "        :rtype: ListNode\n",
    "        \"\"\"    \n",
    "            # loop to sort\n",
    "        curr = root = ListNode(None)\n",
    "        while first and second:\n",
    "            if first.val <= second.val:\n",
    "                curr.next = first\n",
    "                first = first.next\n",
    "                curr = curr.next\n",
    "            else:\n",
    "                curr.next = second\n",
    "                second = second.next\n",
    "                curr = curr.next\n",
    "                \n",
    "        # after one list is done\n",
    "        if first == None:\n",
    "            curr.next = second\n",
    "        else:\n",
    "            curr.next = first\n",
    "        return root.next\n",
    "# 53.85%"
   ]
  },
  {
   "cell_type": "code",
   "execution_count": null,
   "metadata": {
    "collapsed": true
   },
   "outputs": [],
   "source": []
  }
 ],
 "metadata": {
  "kernelspec": {
   "display_name": "Python 2",
   "language": "python",
   "name": "python2"
  },
  "language_info": {
   "codemirror_mode": {
    "name": "ipython",
    "version": 2
   },
   "file_extension": ".py",
   "mimetype": "text/x-python",
   "name": "python",
   "nbconvert_exporter": "python",
   "pygments_lexer": "ipython2",
   "version": "2.7.10"
  }
 },
 "nbformat": 4,
 "nbformat_minor": 0
}
