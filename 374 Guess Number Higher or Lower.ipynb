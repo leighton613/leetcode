{
 "cells": [
  {
   "cell_type": "markdown",
   "metadata": {},
   "source": [
    "We are playing the Guess Game. The game is as follows:\n",
    "\n",
    "I pick a number from 1 to n. You have to guess which number I picked.\n",
    "\n",
    "Every time you guess wrong, I'll tell you whether the number is higher or lower.\n",
    "\n",
    "You call a `pre-defined API guess(int num)` which returns 3 possible results `(-1, 1, or 0)`:\n",
    "\n",
    "    -1 : My number is lower\n",
    "     1 : My number is higher\n",
    "     0 : Congrats! You got it!\n",
    "     \n",
    "Example:\n",
    "\n",
    "    n = 10, I pick 6.\n",
    "\n",
    "Return 6."
   ]
  },
  {
   "cell_type": "code",
   "execution_count": 17,
   "metadata": {
    "collapsed": true
   },
   "outputs": [],
   "source": [
    "# The guess API is already defined for you.\n",
    "# @param num, your guess\n",
    "# @return -1 if my number is lower, 1 if my number is higher, otherwise return 0\n",
    "\"\"\"\n",
    "bisection\n",
    "97.77%\n",
    "\"\"\"\n",
    "def guess(num):\n",
    "    global setNum\n",
    "    if num < setNum: return 1\n",
    "    if num > setNum: return -1\n",
    "    return 0\n",
    "\n",
    "class Solution(object):\n",
    "    def guessNumber(self, n):\n",
    "        \"\"\"\n",
    "        :type n: int\n",
    "        :rtype: int\n",
    "        \"\"\"\n",
    "        return self.guessWithInterval(1, n)\n",
    "        \n",
    "    def guessWithInterval(self, start, end):\n",
    "        # print 'start =', start, 'end =', end, 'guess =', (start+end)/2\n",
    "        if start == end: return start\n",
    "        gs = (start+end)/2\n",
    "        result = guess(gs)\n",
    "        if result < 0:     # should be lower\n",
    "            return self.guessWithInterval(start, gs-1)\n",
    "        elif result > 0:   # should be higher\n",
    "            return self.guessWithInterval(gs+1, end)\n",
    "        else:\n",
    "            return gs\n",
    "    "
   ]
  },
  {
   "cell_type": "code",
   "execution_count": 21,
   "metadata": {
    "collapsed": false
   },
   "outputs": [
    {
     "name": "stdout",
     "output_type": "stream",
     "text": [
      "Done\n"
     ]
    }
   ],
   "source": [
    "import random\n",
    "n = 1000\n",
    "for i in range(200):\n",
    "    setNum = random.randint(1,n)\n",
    "    assert(setNum == Solution().guessNumber(n))\n",
    "print 'Done'"
   ]
  },
  {
   "cell_type": "code",
   "execution_count": null,
   "metadata": {
    "collapsed": true
   },
   "outputs": [],
   "source": []
  }
 ],
 "metadata": {
  "kernelspec": {
   "display_name": "Python 2",
   "language": "python",
   "name": "python2"
  },
  "language_info": {
   "codemirror_mode": {
    "name": "ipython",
    "version": 2
   },
   "file_extension": ".py",
   "mimetype": "text/x-python",
   "name": "python",
   "nbconvert_exporter": "python",
   "pygments_lexer": "ipython2",
   "version": "2.7.11"
  }
 },
 "nbformat": 4,
 "nbformat_minor": 0
}
