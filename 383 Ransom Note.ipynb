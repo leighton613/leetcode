{
 "cells": [
  {
   "cell_type": "markdown",
   "metadata": {},
   "source": [
    " ",
    "Given ",
    " an  ",
    "arbitrary ",
    " ransom ",
    " note ",
    " string  ",
    "and  ",
    "another  ",
    "string  ",
    "containing  ",
    "letters from ",
    " all  ",
    "the  ",
    "magazines, ",
    " write  ",
    "a  ",
    "function  ",
    "that  ",
    "will  ",
    "return  ",
    "true  ",
    "if  ",
    "the  ",
    "ransom  ",
    " note  ",
    "can  ",
    "be  ",
    "constructed  ",
    "from  ",
    "the  ",
    "magazines ;  ",
    "otherwise,  ",
    "it  ",
    "will  ",
    "return  ",
    "false.  ",
    " ",
    "\n",
    "\n",
    "Each letter ",
    " in ",
    " the ",
    " magazine  ",
    "string  ",
    "can ",
    " only  ",
    "be ",
    " used  ",
    "once ",
    " in ",
    " your  ",
    "ransom ",
    " note.\n",
    "\n",
    "Note:\n",
    "You may assume that both strings contain only lowercase letters.\n",
    "\n",
    "    canConstruct(\"a\", \"b\") -> false\n",
    "    canConstruct(\"aa\", \"ab\") -> false\n",
    "    canConstruct(\"aa\", \"aab\") -> true"
   ]
  },
  {
   "cell_type": "code",
   "execution_count": 1,
   "metadata": {
    "collapsed": true
   },
   "outputs": [],
   "source": [
    "class Solution(object):\n",
    "    def canConstruct(self, ransomNote, magazine):\n",
    "        \"\"\"\n",
    "        :type ransomNote: str\n",
    "        :type magazine: str\n",
    "        :rtype: bool\n",
    "        \"\"\"\n",
    "        tableR = [0 for i in range(26)]\n",
    "        tableM = [0 for i in range(26)]\n",
    "        bias = ord('a')\n",
    "        for c in ransomNote:\n",
    "            tableR[ord(c)-bias] += 1\n",
    "        for c in magazine:\n",
    "            tableM[ord(c)-bias] += 1\n",
    "        for (r, m) in zip(tableR, tableM):\n",
    "            if r > m:\n",
    "                return False\n",
    "        return True"
   ]
  },
  {
   "cell_type": "code",
   "execution_count": 4,
   "metadata": {
    "collapsed": false
   },
   "outputs": [
    {
     "data": {
      "text/plain": [
       "True"
      ]
     },
     "execution_count": 4,
     "metadata": {},
     "output_type": "execute_result"
    }
   ],
   "source": [
    "Solution().canConstruct(\"aa\", \"aab\")"
   ]
  }
 ],
 "metadata": {
  "kernelspec": {
   "display_name": "Python 2",
   "language": "python",
   "name": "python2"
  },
  "language_info": {
   "codemirror_mode": {
    "name": "ipython",
    "version": 2
   },
   "file_extension": ".py",
   "mimetype": "text/x-python",
   "name": "python",
   "nbconvert_exporter": "python",
   "pygments_lexer": "ipython2",
   "version": "2.7.11"
  }
 },
 "nbformat": 4,
 "nbformat_minor": 0
}
