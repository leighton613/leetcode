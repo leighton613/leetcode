{
 "cells": [
  {
   "cell_type": "markdown",
   "metadata": {},
   "source": [
    "270 Closest Binary Search Tree Value\n",
    "- Given a non-empty binary search tree and a target value, find the value in the BST that is closest to the target."
   ]
  },
  {
   "cell_type": "code",
   "execution_count": 1,
   "metadata": {
    "collapsed": true
   },
   "outputs": [],
   "source": [
    "# Definition for a binary tree node.\n",
    "class TreeNode(object):\n",
    "    def __init__(self, x):\n",
    "        self.val = x\n",
    "        self.left = None\n",
    "        self.right = None"
   ]
  },
  {
   "cell_type": "code",
   "execution_count": 22,
   "metadata": {
    "collapsed": true
   },
   "outputs": [],
   "source": [
    "# 71%\n",
    "\n",
    "class Solution(object):        \n",
    "    def closestValue(self, root, target):\n",
    "        \"\"\"\n",
    "        :type root: TreeNode\n",
    "        :type target: float\n",
    "        :rtype: int\n",
    "        \"\"\"\n",
    "        pred = succ = None\n",
    "        pred, succ = self.tranverse(root, target, pred, succ)\n",
    "        if succ == None:\n",
    "            return pred\n",
    "        elif pred == None:\n",
    "            return succ\n",
    "        # both numeric\n",
    "        elif (target - pred) > (succ - target):\n",
    "            return succ\n",
    "        else:\n",
    "            return pred\n",
    "        \n",
    "    def tranverse(self, root, target, pred, succ):\n",
    "        if root == None:\n",
    "            return pred, succ\n",
    "        # tranverse left\n",
    "        pred, succ = self.tranverse(root.left, target, pred, succ)\n",
    "        \n",
    "        if root.val < target:\n",
    "            pred = root.val\n",
    "        else: \n",
    "            if succ != None:\n",
    "                return pred, succ\n",
    "            succ = root.val\n",
    "            return pred, succ\n",
    "            \n",
    "        # tranverse right\n",
    "        pred, succ = self.tranverse(root.right, target, pred, succ)\n",
    "        \n",
    "        return pred, succ"
   ]
  },
  {
   "cell_type": "code",
   "execution_count": 23,
   "metadata": {
    "collapsed": false
   },
   "outputs": [
    {
     "name": "stdout",
     "output_type": "stream",
     "text": [
      "[1, 2]\n",
      "None\n",
      "[1, 2]\n"
     ]
    },
    {
     "data": {
      "text/plain": [
       "[1, 2]"
      ]
     },
     "execution_count": 23,
     "metadata": {},
     "output_type": "execute_result"
    }
   ],
   "source": [
    "Solution().closestValue(TreeNode([1,2]),5432)"
   ]
  },
  {
   "cell_type": "code",
   "execution_count": 24,
   "metadata": {
    "collapsed": true
   },
   "outputs": [],
   "source": [
    "class Solution(object):        \n",
    "    def closestValue(self, root, target):\n",
    "        \"\"\"\n",
    "        :type root: TreeNode\n",
    "        :type target: float\n",
    "        :rtype: int\n",
    "        \"\"\"\n",
    "        list = []\n",
    "        list = self.tranverse(root, target, list)\n",
    "        list_centered = [abs(i - target) for i in list]\n",
    "        idx = list_centered.index(min(list_centered))\n",
    "        return list[idx]\n",
    "        \n",
    "    def tranverse(self, root, target, list):\n",
    "        if root == None:\n",
    "            return list\n",
    "        # tranverse left\n",
    "        self.tranverse(root.left, target, list)\n",
    "        \n",
    "        list.append(root.val)\n",
    "        \n",
    "        # tranverse right\n",
    "        self.tranverse(root.right, target, list)\n",
    "        \n",
    "        return list\n",
    "        "
   ]
  },
  {
   "cell_type": "code",
   "execution_count": 32,
   "metadata": {
    "collapsed": false
   },
   "outputs": [],
   "source": [
    "temp = [1 ,2 ,3]\n",
    "temp1 = [i-5 for i in temp]"
   ]
  },
  {
   "cell_type": "code",
   "execution_count": null,
   "metadata": {
    "collapsed": false
   },
   "outputs": [],
   "source": []
  },
  {
   "cell_type": "code",
   "execution_count": 34,
   "metadata": {
    "collapsed": false
   },
   "outputs": [
    {
     "data": {
      "text/plain": [
       "1"
      ]
     },
     "execution_count": 34,
     "metadata": {},
     "output_type": "execute_result"
    }
   ],
   "source": [
    "temp[temp1.index(min(temp1))]"
   ]
  },
  {
   "cell_type": "code",
   "execution_count": null,
   "metadata": {
    "collapsed": true
   },
   "outputs": [],
   "source": []
  }
 ],
 "metadata": {
  "kernelspec": {
   "display_name": "Python 2",
   "language": "python",
   "name": "python2"
  },
  "language_info": {
   "codemirror_mode": {
    "name": "ipython",
    "version": 2
   },
   "file_extension": ".py",
   "mimetype": "text/x-python",
   "name": "python",
   "nbconvert_exporter": "python",
   "pygments_lexer": "ipython2",
   "version": "2.7.11"
  }
 },
 "nbformat": 4,
 "nbformat_minor": 0
}
