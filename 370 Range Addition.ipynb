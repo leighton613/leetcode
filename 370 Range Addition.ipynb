{
 "cells": [
  {
   "cell_type": "markdown",
   "metadata": {},
   "source": [
    "Assume you have an array of length n initialized with all 0's and are given k update operations.\n",
    "\n",
    "Each operation is represented as a triplet: `[startIndex, endIndex, inc]` which increments each element of subarray `A[startIndex ... endIndex]` (startIndex and endIndex inclusive) with inc.\n",
    "\n",
    "Return the modified array after all k operations were executed.\n",
    "\n",
    "\n",
    "Example:\n",
    "\n",
    "Given:\n",
    "\n",
    "    length = 5,\n",
    "    updates = [\n",
    "        [1,  3,  2],\n",
    "        [2,  4,  3],\n",
    "        [0,  2, -2]\n",
    "    ]\n",
    "\n",
    "Output:\n",
    "\n",
    "    [-2, 0, 3, 5, 3]"
   ]
  },
  {
   "cell_type": "code",
   "execution_count": 27,
   "metadata": {
    "collapsed": true
   },
   "outputs": [],
   "source": [
    "class Solution(object):\n",
    "    def getModifiedArray(self, length, updates):\n",
    "        \"\"\"\n",
    "        :type length: int\n",
    "        :type updates: List[List[int]]\n",
    "        :rtype: List[int]\n",
    "        \"\"\"\n",
    "        array = [0] * length\n",
    "        for update in updates:\n",
    "            i, j, inc = update\n",
    "            array[i] += inc\n",
    "            if j+1 <= length-1:\n",
    "                array[j+1] -= inc\n",
    "        \n",
    "        acc = 0\n",
    "        for i in range(length):\n",
    "            acc += array[i]\n",
    "            array[i] = acc\n",
    "        \n",
    "        return array"
   ]
  },
  {
   "cell_type": "code",
   "execution_count": 28,
   "metadata": {
    "collapsed": true
   },
   "outputs": [],
   "source": [
    "length = 5\n",
    "updates = [\n",
    "    [1,  3,  2],\n",
    "    [2,  4,  3],\n",
    "    [0,  2, -2]\n",
    "]"
   ]
  },
  {
   "cell_type": "code",
   "execution_count": 29,
   "metadata": {
    "collapsed": false
   },
   "outputs": [
    {
     "data": {
      "text/plain": [
       "[-2, 0, 3, 5, 3]"
      ]
     },
     "execution_count": 29,
     "metadata": {},
     "output_type": "execute_result"
    }
   ],
   "source": [
    "Solution().getModifiedArray(length, updates)"
   ]
  }
 ],
 "metadata": {
  "kernelspec": {
   "display_name": "Python 2",
   "language": "python",
   "name": "python2"
  },
  "language_info": {
   "codemirror_mode": {
    "name": "ipython",
    "version": 2
   },
   "file_extension": ".py",
   "mimetype": "text/x-python",
   "name": "python",
   "nbconvert_exporter": "python",
   "pygments_lexer": "ipython2",
   "version": "2.7.11"
  }
 },
 "nbformat": 4,
 "nbformat_minor": 0
}
