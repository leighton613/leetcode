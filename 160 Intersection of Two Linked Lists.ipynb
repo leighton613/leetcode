{
 "cells": [
  {
   "cell_type": "markdown",
   "metadata": {
    "collapsed": true
   },
   "source": [
    "Write a program to find the node at which the intersection of two singly linked lists begins.\n",
    "\n",
    "\n",
    "- For example, the following two linked lists:\n",
    "\n",
    "    `A:          a1 → a2`\n",
    "                       ↘\n",
    "                         c1 → c2 → c3\n",
    "                       ↗        \n",
    "    `B:     b1 → b2 → b3`\n",
    "\n",
    "begin to intersect at node c1.\n",
    "\n",
    "\n",
    "#### Notes:\n",
    "\n",
    "- If the two linked lists have no intersection at all, return null.\n",
    "- The linked lists must retain their original structure after the function returns.\n",
    "- You may assume there are no cycles anywhere in the entire linked structure.\n",
    "- Your code should preferably run in O(n) time and use only O(1) memory.\n"
   ]
  },
  {
   "cell_type": "code",
   "execution_count": 9,
   "metadata": {
    "collapsed": true
   },
   "outputs": [],
   "source": [
    "'''\n",
    "count length + modify + find point\n",
    "13.39%\n",
    "'''\n",
    "# Definition for singly-linked list.\n",
    "class ListNode(object):\n",
    "    def __init__(self, x):\n",
    "        self.val = x\n",
    "        self.next = None\n",
    "\n",
    "class Solution(object):\n",
    "    def getIntersectionNode(self, headA, headB):\n",
    "        \"\"\"\n",
    "        :type head1, head1: ListNode\n",
    "        :rtype: ListNode\n",
    "        \"\"\"\n",
    "        # count\n",
    "        lenA = lenB = 0\n",
    "        ptrA, ptrB = headA, headB\n",
    "        while ptrA or ptrB:\n",
    "            if ptrA: \n",
    "                lenA += 1\n",
    "                ptrA = ptrA.next\n",
    "            if ptrB: \n",
    "                lenB += 1\n",
    "                ptrB = ptrB.next\n",
    "                \n",
    "        # modify length\n",
    "        if lenA >= lenB:\n",
    "            while lenA > lenB:\n",
    "                headA = headA.next\n",
    "                lenA -= 1\n",
    "        else:\n",
    "            while lenA < lenB:\n",
    "                headB = headB.next\n",
    "                lenB -= 1\n",
    "        # check\n",
    "        ptrA, ptrB = headA, headB\n",
    "        while ptrA and ptrB:\n",
    "            if ptrA == ptrB: return ptrA\n",
    "            ptrA, ptrB = ptrA.next, ptrB.next\n",
    "        return ptrA"
   ]
  },
  {
   "cell_type": "code",
   "execution_count": null,
   "metadata": {
    "collapsed": true
   },
   "outputs": [],
   "source": []
  }
 ],
 "metadata": {
  "kernelspec": {
   "display_name": "Python 2",
   "language": "python",
   "name": "python2"
  },
  "language_info": {
   "codemirror_mode": {
    "name": "ipython",
    "version": 2
   },
   "file_extension": ".py",
   "mimetype": "text/x-python",
   "name": "python",
   "nbconvert_exporter": "python",
   "pygments_lexer": "ipython2",
   "version": "2.7.11"
  }
 },
 "nbformat": 4,
 "nbformat_minor": 0
}
