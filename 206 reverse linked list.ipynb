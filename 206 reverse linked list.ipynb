{
 "cells": [
  {
   "cell_type": "markdown",
   "metadata": {
    "collapsed": false
   },
   "source": [
    "# 206\n",
    "'''\n",
    "Reverse a singly linked list.\n",
    "'''"
   ]
  },
  {
   "cell_type": "code",
   "execution_count": 2,
   "metadata": {
    "collapsed": true
   },
   "outputs": [],
   "source": [
    "# Definition for singly-linked list.\n",
    "# class ListNode(object):\n",
    "#     def __init__(self, x):\n",
    "#         self.val = x\n",
    "#         self.next = None\n",
    "\n",
    "class Solution(object):\n",
    "    def reverseList(self, head):\n",
    "        \"\"\"\n",
    "        :type head: ListNode\n",
    "        :rtype: ListNode\n",
    "        \"\"\"\n",
    "        # null head\n",
    "        if head == None: return None\n",
    "        \n",
    "        # 1 node\n",
    "        if head.next == None: return head\n",
    "        \n",
    "        # 2 node\n",
    "        p_curr = head\n",
    "        p_next = head.next\n",
    "        p_curr.next = None\n",
    "        if p_next.next == None:\n",
    "            p_next.next = p_curr\n",
    "            return p_next\n",
    "        \n",
    "        # more than 3 nodes\n",
    "        while p_next.next != None:\n",
    "            p_prev = p_curr\n",
    "            p_curr = p_next\n",
    "            p_next = p_next.next\n",
    "            \n",
    "            p_curr.next = p_prev\n",
    "        p_next.next = p_curr\n",
    "        return p_next "
   ]
  },
  {
   "cell_type": "code",
   "execution_count": 3,
   "metadata": {
    "collapsed": true
   },
   "outputs": [],
   "source": [
    "# 56.43%\n",
    "# 3 pointers"
   ]
  },
  {
   "cell_type": "code",
   "execution_count": null,
   "metadata": {
    "collapsed": true
   },
   "outputs": [],
   "source": [
    "'''\n",
    "Very neat solution\n",
    "'''\n",
    "# Definition for singly-linked list.\n",
    "# class ListNode(object):\n",
    "#     def __init__(self, x):\n",
    "#         self.val = x\n",
    "#         self.next = None\n",
    "\n",
    "class Solution(object):\n",
    "    def reverseList(self, head):\n",
    "    prev = None\n",
    "    curr = head\n",
    "\n",
    "    while curr:\n",
    "        next = curr.next\n",
    "        curr.next = prev\n",
    "        prev = curr\n",
    "        curr = next\n",
    "\n",
    "    return prev"
   ]
  },
  {
   "cell_type": "code",
   "execution_count": null,
   "metadata": {
    "collapsed": true
   },
   "outputs": [],
   "source": [
    "\n",
    "'''\n",
    "16 summer\n",
    "6.23%\n",
    "'''\n",
    "# Definition for singly-linked list.\n",
    "# class ListNode(object):\n",
    "#     def __init__(self, x):\n",
    "#         self.val = x\n",
    "#         self.next = None\n",
    "\n",
    "class Solution(object):\n",
    "    def reverseList(self, head):\n",
    "        \"\"\"\n",
    "        :type head: ListNode\n",
    "        :rtyp\n",
    "        e: ListNode\n",
    "        \"\"\"\n",
    "        if head == None or head.next == None: return head\n",
    "        # >= 2 nodes\n",
    "        prv, cur, nxt = head, head.next, head.next.next\n",
    "        head.next = None\n",
    "        while prv and cur and nxt:\n",
    "            cur.next = prv\n",
    "            prv, cur, nxt = cur, nxt, nxt.next\n",
    "        cur.next = prv\n",
    "        return cur"
   ]
  }
 ],
 "metadata": {
  "kernelspec": {
   "display_name": "Python 2",
   "language": "python",
   "name": "python2"
  },
  "language_info": {
   "codemirror_mode": {
    "name": "ipython",
    "version": 2
   },
   "file_extension": ".py",
   "mimetype": "text/x-python",
   "name": "python",
   "nbconvert_exporter": "python",
   "pygments_lexer": "ipython2",
   "version": "2.7.11"
  }
 },
 "nbformat": 4,
 "nbformat_minor": 0
}
