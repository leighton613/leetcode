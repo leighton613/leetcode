{
 "cells": [
  {
   "cell_type": "markdown",
   "metadata": {},
   "source": [
    "Given two sparse matrices A and B, return the result of AB.\n",
    "\n",
    "You may assume that A's column number is equal to B's row number.\n",
    "\n",
    "**Example:**\n",
    "\n",
    "    A = [\n",
    "      [ 1, 0, 0],\n",
    "      [-1, 0, 3]\n",
    "    ]\n",
    "\n",
    "    B = [\n",
    "      [ 7, 0, 0 ],\n",
    "      [ 0, 0, 0 ],\n",
    "      [ 0, 0, 1 ]\n",
    "    ]\n",
    "\n",
    "\n",
    "         |  1 0 0 |   | 7 0 0 |   |  7 0 0 |\n",
    "    AB = | -1 0 3 | x | 0 0 0 | = | -7 0 3 |\n",
    "                      | 0 0 1 |"
   ]
  },
  {
   "cell_type": "code",
   "execution_count": 7,
   "metadata": {
    "collapsed": true
   },
   "outputs": [],
   "source": [
    "'''309ms'''\n",
    "class Solution(object):\n",
    "    def multiply(self, A, B):\n",
    "        \"\"\"\n",
    "        :type A: List[List[int]]\n",
    "        :type B: List[List[int]]\n",
    "        :rtype: List[List[int]]\n",
    "        \"\"\"\n",
    "        numRow = len(A)\n",
    "        N = len(B)\n",
    "        numCol = len(B[0])\n",
    "        \n",
    "        sparseA, sparseB = self.sparse(A, B)\n",
    "#         print sparseA\n",
    "#         print sparseB\n",
    "        \n",
    "        ans = [[0 for j in range(numCol)] for i in range(numRow)]\n",
    "        \n",
    "        for i in range(len(sparseA)):\n",
    "            for j in range(len(sparseB)):\n",
    "                row = sparseA[i]\n",
    "                col = sparseB[j]\n",
    "                for r in row:\n",
    "                    for c in col:\n",
    "                        if r[0] == c[0]:\n",
    "                            ans[i][j] += r[1]*c[1]\n",
    "                        elif c[0] > r[0]:\n",
    "                            break\n",
    "                \n",
    "        \n",
    "        return ans\n",
    "    \n",
    "    def sparse(self, A, B):\n",
    "        sparseA = []\n",
    "        for row in A:\n",
    "            sparseA.append([(i, row[i]) for i in range(len(row)) if row[i] != 0])\n",
    "        sparseB = []\n",
    "        for c in range(len(B[0])):\n",
    "            col = [(i, B[i][c]) for i in range(len(B)) if B[i][c] != 0]\n",
    "            sparseB.append(col)\n",
    "        return sparseA, sparseB"
   ]
  },
  {
   "cell_type": "code",
   "execution_count": 8,
   "metadata": {
    "collapsed": true
   },
   "outputs": [],
   "source": [
    "A = [\n",
    "  [ 1, 0, 0],\n",
    "  [-1, 0, 3]\n",
    "]\n",
    "\n",
    "B = [\n",
    "  [ 7, 0, 0 ],\n",
    "  [ 0, 0, 0 ],\n",
    "  [ 0, 0, 1 ]\n",
    "]\n"
   ]
  },
  {
   "cell_type": "code",
   "execution_count": 9,
   "metadata": {
    "collapsed": false
   },
   "outputs": [
    {
     "data": {
      "text/plain": [
       "[[7, 0, 0], [-7, 0, 3]]"
      ]
     },
     "execution_count": 9,
     "metadata": {},
     "output_type": "execute_result"
    }
   ],
   "source": [
    "Solution().multiply(A,B)"
   ]
  },
  {
   "cell_type": "code",
   "execution_count": null,
   "metadata": {
    "collapsed": true
   },
   "outputs": [],
   "source": []
  }
 ],
 "metadata": {
  "kernelspec": {
   "display_name": "Python 2",
   "language": "python",
   "name": "python2"
  },
  "language_info": {
   "codemirror_mode": {
    "name": "ipython",
    "version": 2
   },
   "file_extension": ".py",
   "mimetype": "text/x-python",
   "name": "python",
   "nbconvert_exporter": "python",
   "pygments_lexer": "ipython2",
   "version": "2.7.11"
  }
 },
 "nbformat": 4,
 "nbformat_minor": 0
}
