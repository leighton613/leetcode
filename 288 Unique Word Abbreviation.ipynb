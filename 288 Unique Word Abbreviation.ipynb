{
 "cells": [
  {
   "cell_type": "markdown",
   "metadata": {},
   "source": [
    "An abbreviation of a word follows the form <first letter><number><last letter>. Below are some examples of word abbreviations:\n",
    "\n",
    "    a) it                      --> it    (no abbreviation)\n",
    "\n",
    "         1\n",
    "    b) d|o|g                   --> d1g\n",
    "\n",
    "                  1    1  1\n",
    "         1---5----0----5--8\n",
    "    c) i|nternationalizatio|n  --> i18n\n",
    "\n",
    "                  1\n",
    "         1---5----0\n",
    "    d) l|ocalizatio|n          --> l10n\n",
    "    \n",
    "Assume you have a *dictionary* and given *a word*, find **whether its abbreviation is unique in the dictionary**. A word's abbreviation is unique if no other word from the dictionary has the same abbreviation.\n",
    "\n",
    "**Example:**\n",
    "    Given dictionary = [ \"deer\", \"door\", \"cake\", \"card\" ]\n",
    "\n",
    "    isUnique(\"dear\") -> false\n",
    "    isUnique(\"cart\") -> true\n",
    "    isUnique(\"cane\") -> false\n",
    "    isUnique(\"make\") -> true"
   ]
  },
  {
   "cell_type": "code",
   "execution_count": 21,
   "metadata": {
    "collapsed": false
   },
   "outputs": [],
   "source": [
    "\"\"\"\n",
    "20.71\n",
    "KEY:\n",
    "- same values?\n",
    "- multiple values?\n",
    "\"\"\"\n",
    "class ValidWordAbbr(object):\n",
    "    def __init__(self, dictionary):\n",
    "        \"\"\"\n",
    "        initialize your data structure here.\n",
    "        :type dictionary: List[str]\n",
    "        \"\"\"\n",
    "        self.book = {}\n",
    "        for word in dictionary:\n",
    "            abbr = self.str2abbr(word)\n",
    "            if self.book.get(abbr) == None:\n",
    "                self.book[abbr] = [word]\n",
    "            else:\n",
    "                if word not in self.book[abbr]:\n",
    "                    self.book[abbr].append(word)\n",
    "\n",
    "    def isUnique(self, word):\n",
    "        \"\"\"\n",
    "        check if a word is unique.\n",
    "        :type word: str\n",
    "        :rtype: bool\n",
    "        \"\"\"\n",
    "        abbr = self.str2abbr(word)\n",
    "        temp_list = self.book.get(abbr)\n",
    "        if temp_list == None or temp_list == [word]:\n",
    "            return True\n",
    "        else:\n",
    "            return False\n",
    "            \n",
    "    \n",
    "    def str2abbr(self, s):\n",
    "        length = len(s)\n",
    "        if length <= 2: return s\n",
    "        else:\n",
    "            return s[0] + str(length-2) + s[-1]\n",
    "\n",
    "\n",
    "# Your ValidWordAbbr object will be instantiated and called as such:\n",
    "# vwa = ValidWordAbbr(dictionary)\n",
    "# vwa.isUnique(\"word\")\n",
    "# vwa.isUnique(\"anotherWord\")"
   ]
  },
  {
   "cell_type": "code",
   "execution_count": 22,
   "metadata": {
    "collapsed": false
   },
   "outputs": [
    {
     "data": {
      "text/plain": [
       "True"
      ]
     },
     "execution_count": 22,
     "metadata": {},
     "output_type": "execute_result"
    }
   ],
   "source": [
    "dictionary = [\"deer\", \"deer\", \"cake\", \"card\", \"hello\" ]\n",
    "vwa = ValidWordAbbr(dictionary)\n",
    "vwa.isUnique(\"hello\")\n",
    "vwa.isUnique('deer')"
   ]
  }
 ],
 "metadata": {
  "kernelspec": {
   "display_name": "Python 2",
   "language": "python",
   "name": "python2"
  },
  "language_info": {
   "codemirror_mode": {
    "name": "ipython",
    "version": 2
   },
   "file_extension": ".py",
   "mimetype": "text/x-python",
   "name": "python",
   "nbconvert_exporter": "python",
   "pygments_lexer": "ipython2",
   "version": "2.7.11"
  }
 },
 "nbformat": 4,
 "nbformat_minor": 0
}
