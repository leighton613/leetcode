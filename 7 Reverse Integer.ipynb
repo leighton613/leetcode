{
 "cells": [
  {
   "cell_type": "markdown",
   "metadata": {},
   "source": [
    "Reverse digits of an integer.\n",
    "\n",
    "- Example1: `x = 123, return 321`\n",
    "- Example2: `x = -123, return -321`\n",
    "\n",
    "click to show spoilers.\n",
    "\n",
    "#### Have you thought about this?\n",
    "Here are some good questions to ask before coding. Bonus points for you if you have already thought through this!\n",
    "\n",
    "If the integer's last digit is 0, what should the output be? ie, cases such as 10, 100.\n",
    "\n",
    "Did you notice that the reversed integer might overflow? Assume the input is a `32-bit integer`, then the reverse of `1000000003` overflows. How should you handle such cases?\n",
    "\n",
    "For the purpose of this problem, assume that your function returns 0 when the reversed integer overflows.\n",
    "\n",
    "#### Update (2014-11-10):\n",
    "Test cases had been added to test the overflow behavior."
   ]
  },
  {
   "cell_type": "code",
   "execution_count": 13,
   "metadata": {
    "collapsed": true
   },
   "outputs": [],
   "source": [
    "'''\n",
    "60.42%\n",
    "'''\n",
    "class Solution(object):\n",
    "    def reverse(self, x):\n",
    "        \"\"\"\n",
    "        :type x: int\n",
    "        :rtype: int\n",
    "        \"\"\"\n",
    "        # 立一个flag :)\n",
    "        if x == 0: return x\n",
    "        elif x < 0:\n",
    "            flag = \"neg\"\n",
    "            x = abs(x)\n",
    "        else:\n",
    "            flag = \"pos\"\n",
    "            \n",
    "        rev = long(0)\n",
    "        while x > 0:\n",
    "            rev = rev * 10 + x % 10\n",
    "            x //= 10\n",
    "        if rev > 2147483647 or (rev == 2147483647 and flag == \"pos\"): return 0\n",
    "        return -1 * rev if flag == \"neg\" else rev"
   ]
  },
  {
   "cell_type": "markdown",
   "metadata": {},
   "source": [
    "Python 2 takes care of overflow of `int`, so you can compare the reversed int with `2**31-1` and `-2**31`"
   ]
  },
  {
   "cell_type": "code",
   "execution_count": 22,
   "metadata": {
    "collapsed": false
   },
   "outputs": [
    {
     "data": {
      "text/plain": [
       "9223372036854775807"
      ]
     },
     "execution_count": 22,
     "metadata": {},
     "output_type": "execute_result"
    }
   ],
   "source": [
    "sys.maxint"
   ]
  },
  {
   "cell_type": "code",
   "execution_count": 44,
   "metadata": {
    "collapsed": false
   },
   "outputs": [],
   "source": [
    "'''\n",
    "Convert to str and list, simply list.reverse() (in-place!!! without return value)\n",
    "Faster!\n",
    "80.69%\n",
    "'''\n",
    "\n",
    "class Solution(object):\n",
    "    def reverse(self, x):\n",
    "        \"\"\"\n",
    "        :type x: int\n",
    "        :rtype: int\n",
    "        \"\"\"\n",
    "        if x == 0 : return 0\n",
    "        if x < 0:\n",
    "            x = abs(x)\n",
    "            x_list = list(str(x))\n",
    "            x_list.reverse()\n",
    "            rev = -int(''.join(x_list))\n",
    "        else:\n",
    "            x_list = list(str(x))\n",
    "            x_list.reverse()\n",
    "            rev = int(''.join(x_list))\n",
    "        if rev < -2147483648 or rev > 2147483647: return 0\n",
    "        return rev"
   ]
  },
  {
   "cell_type": "code",
   "execution_count": 43,
   "metadata": {
    "collapsed": false
   },
   "outputs": [
    {
     "data": {
      "text/plain": [
       "4321"
      ]
     },
     "execution_count": 43,
     "metadata": {},
     "output_type": "execute_result"
    }
   ],
   "source": [
    "Solution().reverse(1234)"
   ]
  }
 ],
 "metadata": {
  "kernelspec": {
   "display_name": "Python 2",
   "language": "python",
   "name": "python2"
  },
  "language_info": {
   "codemirror_mode": {
    "name": "ipython",
    "version": 2
   },
   "file_extension": ".py",
   "mimetype": "text/x-python",
   "name": "python",
   "nbconvert_exporter": "python",
   "pygments_lexer": "ipython2",
   "version": "2.7.11"
  }
 },
 "nbformat": 4,
 "nbformat_minor": 0
}
