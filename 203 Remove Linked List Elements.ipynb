{
 "cells": [
  {
   "cell_type": "markdown",
   "metadata": {},
   "source": [
    "Remove all elements from a linked list of integers that have value val.\n",
    "\n",
    "Example\n",
    "Given: 1 --> 2 --> 6 --> 3 --> 4 --> 5 --> 6, val = 6\n",
    "Return: 1 --> 2 --> 3 --> 4 --> 5"
   ]
  },
  {
   "cell_type": "code",
   "execution_count": null,
   "metadata": {
    "collapsed": true
   },
   "outputs": [],
   "source": [
    "'''\n",
    "tranverse\n",
    "71.62%\n",
    "'''\n",
    "# Definition for singly-linked list.\n",
    "# class ListNode(object):\n",
    "#     def __init__(self, x):\n",
    "#         self.val = x\n",
    "#         self.next = None\n",
    "\n",
    "class Solution(object):\n",
    "    def removeElements(self, head, val):\n",
    "        \"\"\"\n",
    "        :type head: ListNode\n",
    "        :type val: int\n",
    "        :rtype: ListNode\n",
    "        \"\"\"\n",
    "        # check head(s)\n",
    "        while head:\n",
    "            if head.val == val:\n",
    "                head = head.next     # discard the old head\n",
    "            else: \n",
    "                break\n",
    "        else: return None\n",
    "        \n",
    "        # check the body\n",
    "        prev = head       # (not val)\n",
    "        if head.next != None:\n",
    "            ptr = head.next\n",
    "        else:             # one node left\n",
    "            return head\n",
    "        while ptr.next:   # ptr -> not the last\n",
    "            if ptr.val == val:\n",
    "                prev.next = ptr.next\n",
    "            else:\n",
    "                prev = prev.next\n",
    "            ptr = ptr.next\n",
    "        else:             # ptr -> the tail (include 2 nodes left)\n",
    "            if ptr.val == val:\n",
    "                prev.next = None\n",
    "        return head\n",
    "            "
   ]
  }
 ],
 "metadata": {
  "kernelspec": {
   "display_name": "Python 2",
   "language": "python",
   "name": "python2"
  },
  "language_info": {
   "codemirror_mode": {
    "name": "ipython",
    "version": 2
   },
   "file_extension": ".py",
   "mimetype": "text/x-python",
   "name": "python",
   "nbconvert_exporter": "python",
   "pygments_lexer": "ipython2",
   "version": "2.7.11"
  }
 },
 "nbformat": 4,
 "nbformat_minor": 0
}
