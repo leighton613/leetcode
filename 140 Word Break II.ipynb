{
 "cells": [
  {
   "cell_type": "markdown",
   "metadata": {},
   "source": [
    "Given a string s and a dictionary of words dict, add spaces in s to construct a sentence where each word is a valid dictionary word.\n",
    "\n",
    "Return all such possible sentences.\n",
    "\n",
    "For example, given\n",
    "`s = \"catsanddog\"`,\n",
    "`dict = [\"cat\", \"cats\", \"and\", \"sand\", \"dog\"]`.\n",
    "\n",
    "A solution is `[\"cats and dog\", \"cat sand dog\"]`."
   ]
  },
  {
   "cell_type": "code",
   "execution_count": 32,
   "metadata": {
    "collapsed": false
   },
   "outputs": [],
   "source": [
    "class Solution(object):\n",
    "    def wordBreak(self, s, wordDict):\n",
    "        \"\"\"\n",
    "        :type s: str\n",
    "        :type wordDict: Set[str]\n",
    "        :rtype: List[str]\n",
    "        \"\"\"\n",
    "        if not s: return ['']\n",
    "        if not wordDict: return []\n",
    "        \n",
    "        \n",
    "        table = [\"\"]+[[] for i in range(len(s))]\n",
    "        lengths = map(len, wordDict)\n",
    "        minWord = min(lengths)\n",
    "        maxWord = max(lengths)\n",
    "        \n",
    "        for length in range(1, len(s)+1):\n",
    "            for seg in range(minWord, min(maxWord,length)+1):\n",
    "                if table[length-seg] == []:\n",
    "                    continue\n",
    "                if s[length-seg:length] in wordDict:\n",
    "                    table[length].append((length-seg, s[length-seg:length]))\n",
    "        print table\n",
    "        \n",
    "        solution = []\n",
    "        prefix = []\n",
    "        return self.backtrack(solution, prefix, table)\n",
    "        \n",
    "    def backtrack(self, solution, prefix, table):\n",
    "        elements = table[-1]\n",
    "        for element in elements:\n",
    "            if element[0] == 0:\n",
    "                solution.append(\" \".join([element[1]] + prefix))\n",
    "            else:\n",
    "                self.backtrack(solution, [element[1]] + prefix, table[:element[0]+1])\n",
    "        return solution\n",
    "            "
   ]
  },
  {
   "cell_type": "code",
   "execution_count": 33,
   "metadata": {
    "collapsed": false
   },
   "outputs": [
    {
     "name": "stdout",
     "output_type": "stream",
     "text": [
      "['', [(0, 'b')], [(1, 'b')]]\n"
     ]
    },
    {
     "data": {
      "text/plain": [
       "['b b']"
      ]
     },
     "execution_count": 33,
     "metadata": {},
     "output_type": "execute_result"
    }
   ],
   "source": [
    "s = \"bb\"\n",
    "dict = [\"a\",\"b\",\"bbb\",\"bbbb\"]\n",
    "Solution().wordBreak(s, dict)"
   ]
  },
  {
   "cell_type": "code",
   "execution_count": null,
   "metadata": {
    "collapsed": true
   },
   "outputs": [],
   "source": []
  }
 ],
 "metadata": {
  "kernelspec": {
   "display_name": "Python 2",
   "language": "python",
   "name": "python2"
  },
  "language_info": {
   "codemirror_mode": {
    "name": "ipython",
    "version": 2
   },
   "file_extension": ".py",
   "mimetype": "text/x-python",
   "name": "python",
   "nbconvert_exporter": "python",
   "pygments_lexer": "ipython2",
   "version": "2.7.11"
  }
 },
 "nbformat": 4,
 "nbformat_minor": 0
}
