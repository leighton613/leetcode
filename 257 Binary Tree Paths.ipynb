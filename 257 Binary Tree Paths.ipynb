{
 "cells": [
  {
   "cell_type": "code",
   "execution_count": 6,
   "metadata": {
    "collapsed": true
   },
   "outputs": [],
   "source": [
    "'''\n",
    "79.22%\n",
    "Euler Tour Tranversal\n",
    "str.join() method\n",
    "'''\n",
    "\n",
    "# Definition for a binary tree node.\n",
    "# class TreeNode:\n",
    "#     def __init__(self, x):\n",
    "#         self.val = x\n",
    "#         self.left = None\n",
    "#         self.right = None\n",
    "\n",
    "class Solution:\n",
    "    # @param {TreeNode} root\n",
    "    # @return {string[]}\n",
    "    def binaryTreePaths(self, root):\n",
    "        paths = []\n",
    "        if not root: return paths\n",
    "        path = [root.val]\n",
    "        self._tour(root, path, paths)\n",
    "        return paths\n",
    "        \n",
    "    def _tour(self, p, path, paths):\n",
    "        if not p.left and not p.right:\n",
    "            paths.append(\"->\".join(str(val) for val in path))\n",
    "        if p.left:\n",
    "            path.append(p.left.val)\n",
    "            self._tour(p.left, path, paths)\n",
    "            path.pop()\n",
    "        if p.right:\n",
    "            path.append(p.right.val)\n",
    "            self._tour(p.right, path, paths)\n",
    "            path.pop()\n",
    "        "
   ]
  },
  {
   "cell_type": "code",
   "execution_count": 5,
   "metadata": {
    "collapsed": false
   },
   "outputs": [
    {
     "data": {
      "text/plain": [
       "'0->1->2'"
      ]
     },
     "execution_count": 5,
     "metadata": {},
     "output_type": "execute_result"
    }
   ],
   "source": [
    "num = [0, 1, 2]\n",
    "\"->\".join(str(i) for i in num)"
   ]
  },
  {
   "cell_type": "code",
   "execution_count": null,
   "metadata": {
    "collapsed": true
   },
   "outputs": [],
   "source": []
  }
 ],
 "metadata": {
  "kernelspec": {
   "display_name": "Python 2",
   "language": "python",
   "name": "python2"
  },
  "language_info": {
   "codemirror_mode": {
    "name": "ipython",
    "version": 2
   },
   "file_extension": ".py",
   "mimetype": "text/x-python",
   "name": "python",
   "nbconvert_exporter": "python",
   "pygments_lexer": "ipython2",
   "version": "2.7.11"
  }
 },
 "nbformat": 4,
 "nbformat_minor": 0
}
