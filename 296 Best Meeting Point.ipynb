{
 "cells": [
  {
   "cell_type": "markdown",
   "metadata": {},
   "source": [
    "A group of two or more people wants to meet and minimize the total travel distance. You are given a 2D grid of values 0 or 1, where each 1 marks the home of someone in the group. The distance is calculated using Manhattan Distance, where distance `(p1, p2) = |p2.x - p1.x| + |p2.y - p1.y|`.\n",
    "\n",
    "For example, given three people living at (0,0), (0,4), and (2,2):\n",
    "\n",
    "    1 - 0 - 0 - 0 - 1\n",
    "    |   |   |   |   |\n",
    "    0 - 0 - 0 - 0 - 0\n",
    "    |   |   |   |   |\n",
    "    0 - 0 - 1 - 0 - 0\n",
    "    \n",
    "The point `(0,2)` is an ideal meeting point, as the total travel distance of 2+2+2=6 is minimal. So return 6.\n",
    "\n",
    "**Hint:**\n",
    "\n",
    "Try to solve it in one dimension first. How can this solution apply to the two dimension case?"
   ]
  },
  {
   "cell_type": "code",
   "execution_count": 1,
   "metadata": {
    "collapsed": true
   },
   "outputs": [],
   "source": [
    "\"\"\"median\"\"\"\n",
    "class Solution(object):\n",
    "    def minTotalDistance(self, grid):\n",
    "        \"\"\"\n",
    "        :type grid: List[List[int]]\n",
    "        :rtype: int\n",
    "        \"\"\"\n",
    "        \n",
    "        xs, ys = self.findPeople(grid)\n",
    "        numPeople = len(xs)\n",
    "        if numPeople % 2 != 0:  # odd\n",
    "            xs.pop(numPeople/2)\n",
    "            ys.pop(numPeople/2)\n",
    "        distance = 0\n",
    "        for i in range(len(xs)/2):\n",
    "            distance += (xs[len(xs)-1-i] - xs[i])\n",
    "            distance += (ys[len(xs)-1-i] - ys[i])\n",
    "        return distance\n",
    "        \n",
    "    \n",
    "    def findPeople(self, grid):\n",
    "        xs = []\n",
    "        ys = []\n",
    "        numRow = len(grid)\n",
    "        numCol = len(grid[0])\n",
    "        for i in range(numRow):\n",
    "            for j in range(numCol):\n",
    "                if grid[i][j] == 1:\n",
    "                    xs.append(i)\n",
    "                    ys.append(j)\n",
    "        return sorted(xs), sorted(ys)"
   ]
  },
  {
   "cell_type": "code",
   "execution_count": 3,
   "metadata": {
    "collapsed": false
   },
   "outputs": [
    {
     "data": {
      "text/plain": [
       "6"
      ]
     },
     "execution_count": 3,
     "metadata": {},
     "output_type": "execute_result"
    }
   ],
   "source": [
    "grid = [[1, 0, 0, 0, 1],\n",
    "        [0, 0, 0, 0, 0],\n",
    "        [0, 1, 0, 0, 0]]\n",
    "\n",
    "Solution().minTotalDistance(grid)"
   ]
  },
  {
   "cell_type": "code",
   "execution_count": null,
   "metadata": {
    "collapsed": true
   },
   "outputs": [],
   "source": []
  }
 ],
 "metadata": {
  "kernelspec": {
   "display_name": "Python 2",
   "language": "python",
   "name": "python2"
  },
  "language_info": {
   "codemirror_mode": {
    "name": "ipython",
    "version": 2
   },
   "file_extension": ".py",
   "mimetype": "text/x-python",
   "name": "python",
   "nbconvert_exporter": "python",
   "pygments_lexer": "ipython2",
   "version": "2.7.11"
  }
 },
 "nbformat": 4,
 "nbformat_minor": 0
}
