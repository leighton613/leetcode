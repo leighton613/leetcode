{
 "cells": [
  {
   "cell_type": "markdown",
   "metadata": {},
   "source": [
    "Given a singly linked list L: L0→L1→…→Ln-1→Ln,\n",
    "reorder it to: L0→Ln→L1→Ln-1→L2→Ln-2→…\n",
    "\n",
    "You must do this in-place without altering the nodes' values.\n",
    "\n",
    "For example,\n",
    "Given {1,2,3,4}, reorder it to {1,4,2,3}."
   ]
  },
  {
   "cell_type": "code",
   "execution_count": 42,
   "metadata": {
    "collapsed": true
   },
   "outputs": [],
   "source": [
    "'''\n",
    "fast-slow divide, reverse, merge\n",
    "65.24%\n",
    "'''\n",
    "# Definition for singly-linked list.\n",
    "class ListNode(object):\n",
    "    def __init__(self, x):\n",
    "        self.val = x\n",
    "        self.next = None\n",
    "\n",
    "class Solution(object):\n",
    "    def reorderList(self, head):\n",
    "        \"\"\"\n",
    "        :type head: ListNode\n",
    "        :rtype: void Do not return anything, modify head in-place instead.\n",
    "        \"\"\"\n",
    "        # 0,1,2 nodes\n",
    "        if not head or not head.next or not head.next.next: pass\n",
    "        # 3 nodes\n",
    "        elif not head.next.next.next:\n",
    "            temp = head.next\n",
    "            head.next = temp.next\n",
    "            head.next.next = temp\n",
    "            temp.next = None\n",
    "        # >= 4 nodes\n",
    "        else:\n",
    "            slow = head\n",
    "            fast = head.next\n",
    "            while fast and fast.next:\n",
    "                slow = slow.next\n",
    "                fast = fast.next.next\n",
    "            second = slow.next\n",
    "            slow.next = None\n",
    "            # print \"head tranverse...\"\n",
    "            # self.tranverse(head)\n",
    "            # print \"second tranverse...\"\n",
    "            # self.tranverse(second)\n",
    "            # reverse\n",
    "            # print \"reverse...\"\n",
    "            second = self.reverse(second) # or void?\n",
    "            # self.tranverse(second)\n",
    "            first = head\n",
    "            # self.tranverse(first)\n",
    "            # in-place merge\n",
    "            # print \"merge...\"\n",
    "            self.merge(first, second)\n",
    "            # self.tranverse(head)\n",
    "    def reverse(self, head):\n",
    "        # guarantee >= 2 nodes\n",
    "        prv, cur = head, head.next\n",
    "        prv.next = None\n",
    "        while cur:\n",
    "            nxt = cur.next\n",
    "            cur.next = prv\n",
    "            prv, cur = cur, nxt\n",
    "        return prv\n",
    "    def merge(self, first, second):\n",
    "        head = ListNode(None)\n",
    "        ptr = head\n",
    "        while first or second:\n",
    "            if first:\n",
    "                ptr.next = first\n",
    "                first = first.next\n",
    "                ptr = ptr.next\n",
    "                ptr.next = None\n",
    "            if second:\n",
    "                ptr.next = second\n",
    "                second = second.next\n",
    "                ptr = ptr.next\n",
    "                ptr.next = None\n",
    "        ptr.next = None\n",
    "        head.next = None\n",
    "    def tranverse(self, head):\n",
    "        temp = []\n",
    "        ptr = head\n",
    "        while ptr:\n",
    "            temp.append(ptr.val)\n",
    "            ptr = ptr.next\n",
    "        print temp"
   ]
  },
  {
   "cell_type": "code",
   "execution_count": 45,
   "metadata": {
    "collapsed": false
   },
   "outputs": [
    {
     "name": "stdout",
     "output_type": "stream",
     "text": [
      "head tranverse...\n",
      "[1, 2, 3, 4, 5]\n",
      "second tranverse...\n",
      "[6, 7, 8, 9]\n",
      "reverse...\n",
      "[9, 8, 7, 6]\n",
      "[1, 2, 3, 4, 5]\n",
      "merge...\n",
      "[1, 9, 2, 8, 3, 7, 4, 6, 5]\n"
     ]
    }
   ],
   "source": [
    "Solution().reorderList(head1)"
   ]
  },
  {
   "cell_type": "code",
   "execution_count": 44,
   "metadata": {
    "collapsed": false
   },
   "outputs": [],
   "source": [
    "test1 = [1,2,3,4,5,6,7,8,9]\n",
    "test2 = [11,12,13,14,15,16,17,18,19]\n",
    "head1 = ListNode(None)\n",
    "ptr1 = head1\n",
    "for i in test1:\n",
    "    ptr1.next = ListNode(i)\n",
    "    ptr1 = ptr1.next\n",
    "head2 = ListNode(None)\n",
    "ptr2 = head2\n",
    "for i in test2:\n",
    "    ptr2.next = ListNode(i)\n",
    "    ptr2 = ptr2.next\n",
    "head1 = head1.next\n",
    "head2 = head2.next"
   ]
  },
  {
   "cell_type": "code",
   "execution_count": null,
   "metadata": {
    "collapsed": true
   },
   "outputs": [],
   "source": []
  },
  {
   "cell_type": "code",
   "execution_count": null,
   "metadata": {
    "collapsed": true
   },
   "outputs": [],
   "source": []
  }
 ],
 "metadata": {
  "kernelspec": {
   "display_name": "Python 2",
   "language": "python",
   "name": "python2"
  },
  "language_info": {
   "codemirror_mode": {
    "name": "ipython",
    "version": 2
   },
   "file_extension": ".py",
   "mimetype": "text/x-python",
   "name": "python",
   "nbconvert_exporter": "python",
   "pygments_lexer": "ipython2",
   "version": "2.7.11"
  }
 },
 "nbformat": 4,
 "nbformat_minor": 0
}
