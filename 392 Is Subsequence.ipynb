{
 "cells": [
  {
   "cell_type": "markdown",
   "metadata": {},
   "source": [
    "Given a string `s` and a string `t`, check if `s` is subsequence of `t`.\n",
    "\n",
    "You may assume that there is only lower case English letters in both `s` and `t`. `t` is potentially a very long (length ~= 500,000) string, and `s` is a short string (<=100).\n",
    "\n",
    "A subsequence of a string is a new string which is formed from the original string by deleting some (can be none) of the characters without disturbing the relative positions of the remaining characters. (ie, `\"ace\"` is a subsequence of `\"abcde\"` while `\"aec\"` is not).\n",
    "\n",
    "**Example 1:**\n",
    "`s = \"abc\", t = \"ahbgdc\"`\n",
    "\n",
    "Return `true`.\n",
    "\n",
    "**Example 2:**\n",
    "`s = \"axc\", t = \"ahbgdc\"`\n",
    "\n",
    "Return `false`.\n",
    "\n",
    "**Follow up:**\n",
    "If there are lots of incoming S, say S1, S2, ... , Sk where k >= 1B, and you want to check one by one to see if T has its subsequence. In this scenario, how would you change your code?"
   ]
  },
  {
   "cell_type": "code",
   "execution_count": 31,
   "metadata": {
    "collapsed": true
   },
   "outputs": [],
   "source": [
    "class Solution(object):\n",
    "    def isSubsequence(self, s, t):\n",
    "        \"\"\"\n",
    "        :type s: str\n",
    "        :type t: str\n",
    "        :rtype: bool\n",
    "        \"\"\"\n",
    "        lenS = len(s)\n",
    "        lenT = len(t)\n",
    "        ptrs = 0\n",
    "        ptrt = 0\n",
    "        while ptrt < lenT:\n",
    "            while ptrs < lenS:\n",
    "                if t[ptrt] == s[ptrs]:\n",
    "                    \n",
    "#                     print 'char {0} at t[{1}] and s[{2}]'.format(t[ptrt], ptrt, ptrs)\n",
    "                    ptrs += 1\n",
    "                ptrt += 1\n",
    "                if ptrt >= lenT and ptrs < lenS: return False  # cannot find this char in t\n",
    "            if ptrs >= lenS: return True   # find all \n",
    "            \n",
    "            \n",
    "#         print ptrt, ptrs\n",
    "        if ptrt >= lenT and ptrs >= lenS:\n",
    "            return True\n",
    "        else:\n",
    "            return False\n",
    "            "
   ]
  },
  {
   "cell_type": "code",
   "execution_count": 34,
   "metadata": {
    "collapsed": false
   },
   "outputs": [
    {
     "data": {
      "text/plain": [
       "True"
      ]
     },
     "execution_count": 34,
     "metadata": {},
     "output_type": "execute_result"
    }
   ],
   "source": [
    "s = \"ahb\"\n",
    "t = \"ahbgdc\"\n",
    "Solution().isSubsequence(s,t)"
   ]
  },
  {
   "cell_type": "code",
   "execution_count": null,
   "metadata": {
    "collapsed": true
   },
   "outputs": [],
   "source": []
  }
 ],
 "metadata": {
  "kernelspec": {
   "display_name": "Python 2",
   "language": "python",
   "name": "python2"
  },
  "language_info": {
   "codemirror_mode": {
    "name": "ipython",
    "version": 2
   },
   "file_extension": ".py",
   "mimetype": "text/x-python",
   "name": "python",
   "nbconvert_exporter": "python",
   "pygments_lexer": "ipython2",
   "version": "2.7.11"
  }
 },
 "nbformat": 4,
 "nbformat_minor": 0
}
