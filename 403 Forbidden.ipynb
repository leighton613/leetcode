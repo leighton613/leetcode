{
 "cells": [
  {
   "cell_type": "code",
   "execution_count": 5,
   "metadata": {
    "collapsed": false
   },
   "outputs": [
    {
     "name": "stdout",
     "output_type": "stream",
     "text": [
      "5 5\n",
      "allow 1.2.3.4/30\n",
      "deny 1.1.1.1\n",
      "allow 127.0.0.1\n",
      "allow 123.234.12.23/3\n",
      "deny 0.0.0.0/0\n",
      "1.2.3.4\n",
      "1.2.3.5\n",
      "1.1.1.1\n",
      "100.100.100.100\n",
      "219.432.23.543\n",
      "YES\n",
      "YES\n",
      "NO\n",
      "YES\n",
      "YES\n"
     ]
    }
   ],
   "source": [
    "temp = raw_input().split()\n",
    "# temp = [5, 5]\n",
    "num_rule    = int(temp[0])\n",
    "num_request = int(temp[1])\n",
    "rule = {}\n",
    "request = []\n",
    "for i in range(num_rule):\n",
    "    temp = raw_input().split()\n",
    "    rule[temp[1].split('/')[0]]= temp[0]\n",
    "for i in range(num_request):\n",
    "    request.append(raw_input())\n",
    "\n",
    "for re in request:\n",
    "    if rule.get(re,\"allow\") == \"allow\":\n",
    "        print \"YES\"\n",
    "    else:\n",
    "        print \"NO\""
   ]
  },
  {
   "cell_type": "code",
   "execution_count": 2,
   "metadata": {
    "collapsed": false
   },
   "outputs": [
    {
     "data": {
      "text/plain": [
       "'1.2.3.4'"
      ]
     },
     "execution_count": 2,
     "metadata": {},
     "output_type": "execute_result"
    }
   ],
   "source": [
    "\"1.2.3.4\".split('/')[0]"
   ]
  },
  {
   "cell_type": "code",
   "execution_count": 4,
   "metadata": {
    "collapsed": false
   },
   "outputs": [],
   "source": [
    "rule = {}"
   ]
  },
  {
   "cell_type": "code",
   "execution_count": null,
   "metadata": {
    "collapsed": true
   },
   "outputs": [],
   "source": []
  }
 ],
 "metadata": {
  "kernelspec": {
   "display_name": "Python 2",
   "language": "python",
   "name": "python2"
  },
  "language_info": {
   "codemirror_mode": {
    "name": "ipython",
    "version": 2
   },
   "file_extension": ".py",
   "mimetype": "text/x-python",
   "name": "python",
   "nbconvert_exporter": "python",
   "pygments_lexer": "ipython2",
   "version": "2.7.11"
  }
 },
 "nbformat": 4,
 "nbformat_minor": 0
}
