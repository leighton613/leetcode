{
 "cells": [
  {
   "cell_type": "markdown",
   "metadata": {},
   "source": [
    "Say you have an array for which the ith element is the price of a given stock on day i.\n",
    "\n",
    "If you were only permitted to complete at most one transaction (ie, buy one and sell one share of the stock), design an algorithm to find the maximum profit.\n",
    "\n",
    "**Example 1:**\n",
    "\n",
    "- Input: [7, 1, 5, 3, 6, 4]\n",
    "- Output: 5\n",
    "\n",
    "max. difference = 6-1 = 5 (not 7-1 = 6, as selling price needs to be larger than buying price)\n",
    "\n",
    "**Example 2:**\n",
    "\n",
    "- Input: [7, 6, 4, 3, 1]\n",
    "- Output: 0"
   ]
  },
  {
   "cell_type": "code",
   "execution_count": 41,
   "metadata": {
    "collapsed": false
   },
   "outputs": [],
   "source": [
    "\"\"\"\n",
    "\n",
    "- preprocess and keep the min/max points only\n",
    "- use map to compute differences\n",
    "BUT still o(n^2)\n",
    "\n",
    "O(n)\n",
    "31.1%\n",
    "\"\"\"\n",
    "import sys\n",
    "class Solution(object):\n",
    "    def maxProfit(self, prices):\n",
    "        \"\"\"\n",
    "        :type prices: List[int]\n",
    "        :rtype: int\n",
    "        \"\"\"\n",
    "        if not prices or len(prices) == 1: return 0\n",
    "        minP = sys.maxint\n",
    "        maxP = 0\n",
    "        for day in range(len(prices)):\n",
    "            now = prices[day]\n",
    "            # is this a new high\n",
    "            maxP = max(maxP, now-minP)\n",
    "            # is this a new low\n",
    "            minP = min(minP, now)\n",
    "        return maxP"
   ]
  },
  {
   "cell_type": "code",
   "execution_count": 43,
   "metadata": {
    "collapsed": false
   },
   "outputs": [
    {
     "data": {
      "text/plain": [
       "0"
      ]
     },
     "execution_count": 43,
     "metadata": {},
     "output_type": "execute_result"
    }
   ],
   "source": [
    "temp = [7, 6, 4, 3, 1]\n",
    "Solution().maxProfit(temp)"
   ]
  },
  {
   "cell_type": "code",
   "execution_count": null,
   "metadata": {
    "collapsed": true
   },
   "outputs": [],
   "source": []
  }
 ],
 "metadata": {
  "kernelspec": {
   "display_name": "Python 2",
   "language": "python",
   "name": "python2"
  },
  "language_info": {
   "codemirror_mode": {
    "name": "ipython",
    "version": 2
   },
   "file_extension": ".py",
   "mimetype": "text/x-python",
   "name": "python",
   "nbconvert_exporter": "python",
   "pygments_lexer": "ipython2",
   "version": "2.7.11"
  }
 },
 "nbformat": 4,
 "nbformat_minor": 0
}
