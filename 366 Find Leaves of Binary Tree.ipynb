{
 "cells": [
  {
   "cell_type": "markdown",
   "metadata": {},
   "source": [
    "Given a binary tree, collect a tree's nodes as if you were doing this: Collect and remove all leaves, repeat until the tree is empty.\n",
    "\n",
    "Example:\n",
    "Given binary tree \n",
    "\n",
    "              1\n",
    "             / \\\n",
    "            2   3\n",
    "           / \\     \n",
    "          4   5   \n",
    "          \n",
    "Returns `[4, 5, 3], [2], [1]`.\n",
    "\n",
    "Explanation:\n",
    "1. Removing the leaves [4, 5, 3] would result in this tree:\n",
    "\n",
    "          1\n",
    "         / \n",
    "        2          \n",
    "2. Now removing the leaf [2] would result in this tree:\n",
    "\n",
    "          1          \n",
    "3. Now removing the leaf [1] would result in the empty tree:\n",
    "\n",
    "          []         \n",
    "Returns [4, 5, 3], [2], [1]."
   ]
  },
  {
   "cell_type": "code",
   "execution_count": 37,
   "metadata": {
    "collapsed": false
   },
   "outputs": [],
   "source": [
    "'''51.06%'''\n",
    "# Definition for a binary tree node.\n",
    "class TreeNode(object):\n",
    "    def __init__(self, x):\n",
    "        self.val = x\n",
    "        self.left = None\n",
    "        self.right = None\n",
    "\n",
    "class Solution(object):\n",
    "    def findLeaves(self, root):\n",
    "        \"\"\"\n",
    "        :type root: TreeNode\n",
    "        :rtype: List[List[int]]\n",
    "        \"\"\"\n",
    "        if not root: return None\n",
    "        sameLabel = {}\n",
    "        _, sameLabel = self.tranverse(root, sameLabel)\n",
    "#         sameLabelOrdered = sorted(sameLabel.items(), key=lambda tup:tup[0])\n",
    "#         return [tup[1] for tup in sameLabelOrdered]\n",
    "        return sameLabel.values()\n",
    "        # .values() return in descending key order\n",
    "        \n",
    "    def tranverse(self, node, sameLabel):\n",
    "        height1, height2 = 0, 0\n",
    "        if node.left:                            # has left tree\n",
    "            height1, sameLabel = self.tranverse(node.left, sameLabel)\n",
    "        if node.right:                           # has right tree\n",
    "            height2, sameLabel = self.tranverse(node.right, sameLabel)\n",
    "        if node.left == node.right == None:      # leaf\n",
    "            height = 0\n",
    "            if sameLabel.get(height) == None:\n",
    "                sameLabel[height] = [node.val]\n",
    "            else:\n",
    "                sameLabel[height].append(node.val)\n",
    "            return height+1, sameLabel\n",
    "        else:\n",
    "            height = max(height1, height2)\n",
    "            if sameLabel.get(height) == None:\n",
    "                sameLabel[height] = [node.val]\n",
    "            else:\n",
    "                sameLabel[height].append(node.val)\n",
    "            return height+1, sameLabel\n",
    "        "
   ]
  },
  {
   "cell_type": "code",
   "execution_count": 38,
   "metadata": {
    "collapsed": true
   },
   "outputs": [],
   "source": [
    "root = None\n",
    "# root = TreeNode(None)\n",
    "# root.left = TreeNode(2)\n",
    "# root.right = TreeNode(3)\n",
    "# root.right.left = TreeNode(4)\n",
    "# root.right.right = TreeNode(5)"
   ]
  },
  {
   "cell_type": "code",
   "execution_count": 39,
   "metadata": {
    "collapsed": false
   },
   "outputs": [],
   "source": [
    "Solution().findLeaves(root)"
   ]
  }
 ],
 "metadata": {
  "kernelspec": {
   "display_name": "Python 2",
   "language": "python",
   "name": "python2"
  },
  "language_info": {
   "codemirror_mode": {
    "name": "ipython",
    "version": 2
   },
   "file_extension": ".py",
   "mimetype": "text/x-python",
   "name": "python",
   "nbconvert_exporter": "python",
   "pygments_lexer": "ipython2",
   "version": "2.7.11"
  }
 },
 "nbformat": 4,
 "nbformat_minor": 0
}
