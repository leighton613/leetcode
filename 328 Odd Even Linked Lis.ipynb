{
 "cells": [
  {
   "cell_type": "markdown",
   "metadata": {},
   "source": [
    "##### 328. Odd Even Linked List\n",
    "\n",
    "Given a singly linked list, group all odd nodes together followed by the even nodes. Please note here we are talking about the \\textb{node number} and not the value in the nodes.\n",
    "\n",
    "You should try to do it in place. The program should run in O(1) space complexity and O(nodes) time complexity.\n",
    "\n",
    "##### Example:\n",
    "    \n",
    "Given 1->2->3->4->5->NULL,\n",
    "\n",
    "return 1->3->5->2->4->NULL.\n",
    "\n",
    "##### Note:\n",
    "\n",
    "The relative order inside both the even and odd groups should remain as it was in the input. \n",
    "\n",
    "The first node is considered odd, the second node even and so on ..."
   ]
  },
  {
   "cell_type": "code",
   "execution_count": 1,
   "metadata": {
    "collapsed": true
   },
   "outputs": [],
   "source": [
    "'''\n",
    "Use 2 lists odd and even\n",
    "Then link them together\n",
    "5%\n",
    "ISSUE: order in the if statement\n",
    "'''\n",
    "# Definition for singly-linked list.\n",
    "# class ListNode(object):\n",
    "#     def __init__(self, x):\n",
    "#         self.val = x\n",
    "#         self.next = None\n",
    "\n",
    "class Solution(object):\n",
    "    def oddEvenList(self, head):\n",
    "        \"\"\"\n",
    "        :type head: ListNode\n",
    "        :rtype: ListNode\n",
    "        \"\"\"\n",
    "        if not head or not head.next: return head\n",
    "        \n",
    "        # >= 2 nodes\n",
    "        odd = ListNode(None)\n",
    "        even = ListNode(None)\n",
    "        ptr = head\n",
    "        optr, eptr = odd, even\n",
    "        cnt = 0\n",
    "        while ptr:\n",
    "            cnt += 1\n",
    "            # nxt = ptr.next\n",
    "            if cnt%2 == 0:           # even\n",
    "                eptr.next = ptr\n",
    "                eptr = eptr.next\n",
    "                ptr = ptr.next\n",
    "                eptr.next = None\n",
    "            else:                    # odd\n",
    "                optr.next = ptr\n",
    "                optr = optr.next\n",
    "                ptr = ptr.next\n",
    "                optr.next = None\n",
    "            \n",
    "        # link together\n",
    "        optr.next = even.next\n",
    "        return odd.next"
   ]
  },
  {
   "cell_type": "code",
   "execution_count": 2,
   "metadata": {
    "collapsed": false
   },
   "outputs": [
    {
     "data": {
      "text/plain": [
       "1"
      ]
     },
     "execution_count": 2,
     "metadata": {},
     "output_type": "execute_result"
    }
   ],
   "source": [
    "1%2"
   ]
  },
  {
   "cell_type": "code",
   "execution_count": null,
   "metadata": {
    "collapsed": true
   },
   "outputs": [],
   "source": []
  }
 ],
 "metadata": {
  "kernelspec": {
   "display_name": "Python 2",
   "language": "python",
   "name": "python2"
  },
  "language_info": {
   "codemirror_mode": {
    "name": "ipython",
    "version": 2
   },
   "file_extension": ".py",
   "mimetype": "text/x-python",
   "name": "python",
   "nbconvert_exporter": "python",
   "pygments_lexer": "ipython2",
   "version": "2.7.11"
  }
 },
 "nbformat": 4,
 "nbformat_minor": 0
}
