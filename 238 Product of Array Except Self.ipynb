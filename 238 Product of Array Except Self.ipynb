{
 "cells": [
  {
   "cell_type": "markdown",
   "metadata": {},
   "source": [
    "Given an array of n integers where n > 1, nums, return an array output such that output[i] is equal to the product of all the elements of nums except nums[i].\n",
    "\n",
    "Solve it without division and in O(n).\n",
    "\n",
    "For example, given `[1,2,3,4]`, return `[24,12,8,6]`.\n",
    "\n",
    "**Follow up:**\n",
    "\n",
    "Could you solve it with constant space complexity? (Note: The output array does not count as extra space for the purpose of space complexity analysis.)"
   ]
  },
  {
   "cell_type": "code",
   "execution_count": 23,
   "metadata": {
    "collapsed": false
   },
   "outputs": [],
   "source": [
    "'''50.58%'''\n",
    "\n",
    "class Solution(object):\n",
    "    def productExceptSelf(self, nums):\n",
    "        \"\"\"\n",
    "        :type nums: List[int]\n",
    "        :rtype: List[int]\n",
    "        \"\"\"\n",
    "        ## init value for reduce(func, list, init)\n",
    "        numZero = nums.count(0)\n",
    "        if numZero == 0:\n",
    "            prodAll = reduce(lambda a,b:a*b, nums, 1)\n",
    "            return [prodAll/i for i in nums]\n",
    "        elif numZero >= 2:\n",
    "            return [0 for i in nums]\n",
    "        elif numZero == 1:\n",
    "            entry = reduce(lambda a,b:a*b, [i for i in nums if i != 0], 1)\n",
    "            return [0 if i!=0 else entry for i in nums]\n",
    "        else:\n",
    "            raise ValueError(\"number of zeros invalid\")"
   ]
  },
  {
   "cell_type": "code",
   "execution_count": 27,
   "metadata": {
    "collapsed": false,
    "scrolled": true
   },
   "outputs": [
    {
     "data": {
      "text/plain": [
       "[24, 12, 8, 6]"
      ]
     },
     "execution_count": 27,
     "metadata": {},
     "output_type": "execute_result"
    }
   ],
   "source": [
    "Solution().productExceptSelf([1,2,3,4])"
   ]
  },
  {
   "cell_type": "code",
   "execution_count": null,
   "metadata": {
    "collapsed": true
   },
   "outputs": [],
   "source": []
  }
 ],
 "metadata": {
  "kernelspec": {
   "display_name": "Python 2",
   "language": "python",
   "name": "python2"
  },
  "language_info": {
   "codemirror_mode": {
    "name": "ipython",
    "version": 2
   },
   "file_extension": ".py",
   "mimetype": "text/x-python",
   "name": "python",
   "nbconvert_exporter": "python",
   "pygments_lexer": "ipython2",
   "version": "2.7.11"
  }
 },
 "nbformat": 4,
 "nbformat_minor": 0
}
