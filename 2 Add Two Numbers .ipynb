{
 "cells": [
  {
   "cell_type": "markdown",
   "metadata": {},
   "source": [
    "You are given two linked lists representing two non-negative numbers. The digits are stored in reverse order and each of their nodes contain a single digit. Add the two numbers and return it as a linked list.\n",
    "\n",
    "Input: (2 -> 4 -> 3) + (5 -> 6 -> 4)\n",
    "Output: 7 -> 0 -> 8"
   ]
  },
  {
   "cell_type": "code",
   "execution_count": null,
   "metadata": {
    "collapsed": true
   },
   "outputs": [],
   "source": [
    "'''\n",
    "A LOOOOT boundary cases\n",
    "5.93% :(\n",
    "'''\n",
    "\n",
    "# Definition for singly-linked list.\n",
    "# class ListNode(object):\n",
    "#     def __init__(self, x):\n",
    "#         self.val = x\n",
    "#         self.next = None\n",
    "\n",
    "class Solution(object):\n",
    "    def addTwoNumbers(self, l1, l2):\n",
    "        \"\"\"\n",
    "        :type l1: ListNode\n",
    "        :type l2: ListNode\n",
    "        :rtype: ListNode\n",
    "        \"\"\"\n",
    "        # boundary cases\n",
    "        if l1 == l2 == None: return None\n",
    "        if l1 == None: return l2\n",
    "        if l2 == None: return l1\n",
    "        \n",
    "        # two lists\n",
    "        result = ptr = ListNode(None)\n",
    "        temp = 0\n",
    "        while l1 and l2:\n",
    "            ptr.next = ListNode((l1.val + l2.val + temp)%10)\n",
    "            temp = (l1.val + l2.val + temp)//10\n",
    "            ptr = ptr.next\n",
    "            l1 = l1.next\n",
    "            l2 = l2.next\n",
    "        if l1 == l2 == None:\n",
    "            if temp != 0:\n",
    "                ptr.next = ListNode(temp)\n",
    "            return result.next\n",
    "        # one list died, use l to denote tail\n",
    "        if l1 == None: l = l2\n",
    "        if l2 == None: l = l1\n",
    "        while l:\n",
    "            ptr.next = ListNode((l.val + temp)%10)\n",
    "            temp = (l.val+temp) // 10\n",
    "            ptr = ptr.next\n",
    "            l = l.next\n",
    "        if temp != 0:\n",
    "            ptr.next = ListNode(temp)\n",
    "        return result.next"
   ]
  },
  {
   "cell_type": "code",
   "execution_count": null,
   "metadata": {
    "collapsed": true
   },
   "outputs": [],
   "source": [
    "'''\n",
    "compact! clear! code\n",
    "85.07%\n",
    "'''\n",
    "# Definition for singly-linked list.\n",
    "# class ListNode(object):\n",
    "#     def __init__(self, x):\n",
    "#         self.val = x\n",
    "#         self.next = None\n",
    "\n",
    "class Solution(object):\n",
    "    def addTwoNumbers(self, l1, l2):\n",
    "        \"\"\"\n",
    "        :type l1: ListNode\n",
    "        :type l2: ListNode\n",
    "        :rtype: ListNode\n",
    "        \"\"\"\n",
    "        result = ptr = ListNode(None)\n",
    "        add = 0\n",
    "        while l1 or l2 or add:\n",
    "            full_val = (l1.val if l1 else 0) + (l2.val if l2 else 0) + add\n",
    "            ptr.next = ListNode(full_val%10)\n",
    "            add = full_val/10\n",
    "            l1 = l1.next if l1 else None\n",
    "            l2 = l2.next if l2 else None\n",
    "            ptr = ptr.next\n",
    "        return result.next"
   ]
  }
 ],
 "metadata": {
  "kernelspec": {
   "display_name": "Python 2",
   "language": "python",
   "name": "python2"
  },
  "language_info": {
   "codemirror_mode": {
    "name": "ipython",
    "version": 2
   },
   "file_extension": ".py",
   "mimetype": "text/x-python",
   "name": "python",
   "nbconvert_exporter": "python",
   "pygments_lexer": "ipython2",
   "version": "2.7.11"
  }
 },
 "nbformat": 4,
 "nbformat_minor": 0
}
