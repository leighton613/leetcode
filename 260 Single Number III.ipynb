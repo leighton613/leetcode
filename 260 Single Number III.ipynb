{
 "cells": [
  {
   "cell_type": "markdown",
   "metadata": {},
   "source": [
    "Given an array of numbers nums, in which exactly two elements appear only once and all the other elements appear exactly twice. Find the two elements that appear only once.\n",
    "\n",
    "For example:\n",
    "\n",
    "Given nums = [1, 2, 1, 3, 2, 5], return [3, 5].\n",
    "\n",
    "**Note:**\n",
    "- The order of the result is not important. So in the above example, [5, 3] is also correct.\n",
    "- Your algorithm should run in linear runtime complexity. Could you implement it using only constant space complexity?"
   ]
  },
  {
   "cell_type": "code",
   "execution_count": 11,
   "metadata": {
    "collapsed": true
   },
   "outputs": [],
   "source": [
    "class Solution(object):\n",
    "    def singleNumber(self, nums):\n",
    "        \"\"\"\n",
    "        :type nums: List[int]\n",
    "        :rtype: List[int]\n",
    "        \"\"\"\n",
    "        xor = reduce(lambda x,y: x^y, nums)\n",
    "        lowerbit = xor & (-xor)\n",
    "        # the first 1 bit from lowest to highest\n",
    "        \n",
    "        a, b = 0, 0\n",
    "        for num in nums:\n",
    "            if num & lowerbit:\n",
    "                a ^= num\n",
    "            else:\n",
    "                b ^= num\n",
    "        return [a, b]"
   ]
  },
  {
   "cell_type": "code",
   "execution_count": 12,
   "metadata": {
    "collapsed": false
   },
   "outputs": [
    {
     "data": {
      "text/plain": [
       "[3, 5]"
      ]
     },
     "execution_count": 12,
     "metadata": {},
     "output_type": "execute_result"
    }
   ],
   "source": [
    "Solution().singleNumber( [1, 2, 1, 3, 2, 5])"
   ]
  }
 ],
 "metadata": {
  "kernelspec": {
   "display_name": "Python 2",
   "language": "python",
   "name": "python2"
  },
  "language_info": {
   "codemirror_mode": {
    "name": "ipython",
    "version": 2
   },
   "file_extension": ".py",
   "mimetype": "text/x-python",
   "name": "python",
   "nbconvert_exporter": "python",
   "pygments_lexer": "ipython2",
   "version": "2.7.11"
  }
 },
 "nbformat": 4,
 "nbformat_minor": 0
}
