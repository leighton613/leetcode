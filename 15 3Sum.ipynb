{
 "cells": [
  {
   "cell_type": "markdown",
   "metadata": {},
   "source": [
    "Given an array S of n integers, are there elements a, b, c in S such that a + b + c = 0? Find all unique triplets in the array which gives the sum of zero.\n",
    "\n",
    "Note: The solution set must not contain duplicate triplets.\n",
    "\n",
    "For example, given array `S = [-1, 0, 1, 2, -1, -4]`,\n",
    "\n",
    "A solution set is:\n",
    "\n",
    "    [\n",
    "      [-1, 0, 1],\n",
    "      [-1, -1, 2]\n",
    "    ]"
   ]
  },
  {
   "cell_type": "markdown",
   "metadata": {},
   "source": [
    "### KEY: find the *Unique* triplets!\n",
    "- sort!!!!!!\n",
    "- current pointers have same value in a row: only consider the first appearence\n",
    "- keep three pointers in strict order: `curr < i < j`\n",
    "- `i` or `j` has same value in a row: only consider the first appearence\n"
   ]
  },
  {
   "cell_type": "code",
   "execution_count": 87,
   "metadata": {
    "collapsed": false
   },
   "outputs": [],
   "source": [
    "'''35.4% O(n^2)'''\n",
    "import random\n",
    "class Solution(object):\n",
    "    def threeSum(self, nums):\n",
    "        \"\"\"\n",
    "        :type nums: List[int]\n",
    "        :rtype: List[List[int]]\n",
    "        \"\"\"\n",
    "        # O(nlogn) quick sort\n",
    "        self.quickSort(nums, 0, len(nums)-1)\n",
    "\n",
    "        ans = []\n",
    "        for curr in range(len(nums)):\n",
    "            # print curr\n",
    "            if curr > 0 and nums[curr-1] == nums[curr]: continue\n",
    "            ans = self.twoSum(nums, curr, ans)\n",
    "        \n",
    "        return ans\n",
    "    def twoSum(self, nums, curr, ans):\n",
    "        \"\"\"Two pointers\"\"\"\n",
    "        print curr\n",
    "        target = -nums[curr]\n",
    "        i = curr + 1\n",
    "        j = len(nums)-1\n",
    "        while i < j:                \n",
    "            temp_sum = nums[i] + nums[j]\n",
    "            if temp_sum > target:\n",
    "                j -= 1\n",
    "            elif temp_sum < target:\n",
    "                i += 1\n",
    "            else:\n",
    "                ans.append([nums[curr], nums[i], nums[j]])\n",
    "                i += 1\n",
    "                j -= 1\n",
    "                # if same as before, then move\n",
    "                while i<j and nums[i-1] == nums[i]:\n",
    "                    i += 1\n",
    "                while i<j and nums[j+1] == nums[j]:\n",
    "                    j -= 1\n",
    "        return ans   \n",
    "    \n",
    "    def quickSort(self, nums, start, end):\n",
    "        \"\"\"random quick sort\"\"\"\n",
    "        if end <= start: return\n",
    "        \n",
    "        #pivot_idx = self.getPivot(start, end)\n",
    "        pivot_idx = self.partition(nums, start, end)\n",
    "        \n",
    "        self.quickSort(nums, start, pivot_idx-1)\n",
    "        self.quickSort(nums, pivot_idx+1, end)\n",
    "        \n",
    "    def partition(self, nums, start, end):\n",
    "        pivot_idx = random.randint(start, end)\n",
    "        nums[start], nums[pivot_idx] = nums[pivot_idx], nums[start]\n",
    "        i = start+1\n",
    "        # print nums[start:end+1]\n",
    "        for j in range(start+1, end+1):\n",
    "            # print 'j', j, 'i', i\n",
    "            if nums[j] < nums[start]:\n",
    "                nums[i], nums[j] = nums[j], nums[i]\n",
    "                i += 1\n",
    "        nums[i-1], nums[start] = nums[start], nums[i-1]\n",
    "        return i-1"
   ]
  }
 ],
 "metadata": {
  "kernelspec": {
   "display_name": "Python 2",
   "language": "python",
   "name": "python2"
  },
  "language_info": {
   "codemirror_mode": {
    "name": "ipython",
    "version": 2
   },
   "file_extension": ".py",
   "mimetype": "text/x-python",
   "name": "python",
   "nbconvert_exporter": "python",
   "pygments_lexer": "ipython2",
   "version": "2.7.11"
  }
 },
 "nbformat": 4,
 "nbformat_minor": 0
}
