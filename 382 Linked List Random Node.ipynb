{
 "cells": [
  {
   "cell_type": "markdown",
   "metadata": {},
   "source": [
    "Given a singly linked list, return a random node's value from the linked list. Each node must have the same probability of being chosen.\n",
    "\n",
    "**Follow up:**\n",
    "\n",
    "What if the linked list is extremely large and its length is unknown to you? Could you solve this efficiently without using extra space?\n",
    "\n",
    "**Example:**\n",
    "\n",
    "    // Init a singly linked list [1,2,3].\n",
    "    ListNode head = new ListNode(1);\n",
    "    head.next = new ListNode(2);\n",
    "    head.next.next = new ListNode(3);\n",
    "    Solution solution = new Solution(head);\n",
    "\n",
    "    // getRandom() should return either 1, 2, or 3 randomly. Each element should have equal probability of returning.\n",
    "    solution.getRandom();"
   ]
  },
  {
   "cell_type": "code",
   "execution_count": 37,
   "metadata": {
    "collapsed": true
   },
   "outputs": [],
   "source": [
    "\"\"\"Reservoir sampling\"\"\"\n",
    "from random import random\n",
    "class ListNode(object):\n",
    "    def __init__(self, x):\n",
    "        self.val = x\n",
    "        self.next = None\n",
    "\n",
    "class Solution(object):\n",
    "\n",
    "    def __init__(self, head):\n",
    "        \"\"\"\n",
    "        @param head The linked list's head.\n",
    "        Note that the head is guaranteed to be not null, so it contains at least one node.\n",
    "        :type head: ListNode\n",
    "        \"\"\"\n",
    "        self.randNum = None\n",
    "        self.head = head\n",
    "        \n",
    "\n",
    "    def getRandom(self):\n",
    "        \"\"\"\n",
    "        Returns a random node's value.\n",
    "        :rtype: int\n",
    "        \"\"\"\n",
    "        cnt = 0\n",
    "        ptr = self.head\n",
    "        while ptr:\n",
    "            cnt += 1\n",
    "            if random() < 1./cnt:\n",
    "                self.randNum = ptr.val\n",
    "            ptr = ptr.next\n",
    "        return self.randNum\n",
    "            "
   ]
  },
  {
   "cell_type": "code",
   "execution_count": 30,
   "metadata": {
    "collapsed": true
   },
   "outputs": [],
   "source": [
    "# Definition for singly-linked list.\n",
    "\"\"\"\n",
    "EXCEED RECURSIVE DEPTH\n",
    "recursive in to count, out for random select\n",
    "\"\"\"\n",
    "from random import randint\n",
    "class ListNode(object):\n",
    "    def __init__(self, x):\n",
    "        self.val = x\n",
    "        self.next = None\n",
    "\n",
    "class Solution(object):\n",
    "\n",
    "    def __init__(self, head):\n",
    "        \"\"\"\n",
    "        @param head The linked list's head.\n",
    "        Note that the head is guaranteed to be not null, so it contains at least one node.\n",
    "        :type head: ListNode\n",
    "        \"\"\"\n",
    "        self.head = head\n",
    "        self.cnt = 0\n",
    "        self.randNum = None\n",
    "        self.randNode = None\n",
    "        \n",
    "\n",
    "    def getRandom(self):\n",
    "        \"\"\"\n",
    "        Returns a random node's value.\n",
    "        :rtype: int\n",
    "        \"\"\"\n",
    "        self.recursive(self.head)\n",
    "        # print 'Rand number:', self.randNum, 'rand node:', self.randNode\n",
    "        return self.randNode\n",
    "    \n",
    "    def recursive(self, head):\n",
    "        if head == None:\n",
    "            self.randNum = randint(1, self.cnt)\n",
    "            return\n",
    "            # print 'randNum:', randNum\n",
    "            \n",
    "        # print head.val\n",
    "        self.cnt += 1\n",
    "        self.recursive(head.next)\n",
    "        if self.cnt == self.randNum:\n",
    "            self.randNode = head.val\n",
    "        self.cnt -= 1\n",
    "        \n",
    "\n",
    "\n",
    "# Your Solution object will be instantiated and called as such:\n",
    "# obj = Solution(head)\n",
    "# param_1 = obj.getRandom()"
   ]
  },
  {
   "cell_type": "code",
   "execution_count": 38,
   "metadata": {
    "collapsed": true
   },
   "outputs": [],
   "source": [
    "head = ListNode(1)\n",
    "ptr = head\n",
    "for i in range(2,5):\n",
    "    ptr.next = ListNode(i)\n",
    "    ptr = ptr.next"
   ]
  },
  {
   "cell_type": "code",
   "execution_count": 39,
   "metadata": {
    "collapsed": false
   },
   "outputs": [
    {
     "name": "stdout",
     "output_type": "stream",
     "text": [
      "1\n",
      "4\n",
      "3\n",
      "2\n",
      "2\n",
      "4\n",
      "3\n",
      "1\n",
      "3\n",
      "1\n"
     ]
    }
   ],
   "source": [
    "obj = Solution(head)\n",
    "for i in range(10):\n",
    "    print obj.getRandom()"
   ]
  }
 ],
 "metadata": {
  "kernelspec": {
   "display_name": "Python 2",
   "language": "python",
   "name": "python2"
  },
  "language_info": {
   "codemirror_mode": {
    "name": "ipython",
    "version": 2
   },
   "file_extension": ".py",
   "mimetype": "text/x-python",
   "name": "python",
   "nbconvert_exporter": "python",
   "pygments_lexer": "ipython2",
   "version": "2.7.11"
  }
 },
 "nbformat": 4,
 "nbformat_minor": 0
}
