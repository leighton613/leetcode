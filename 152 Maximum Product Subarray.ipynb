{
 "cells": [
  {
   "cell_type": "markdown",
   "metadata": {},
   "source": [
    "Find the contiguous subarray within an array (containing at least one number) which has the largest product.\n",
    "\n",
    "For example, given the array `[2,3,-2,4]`,\n",
    "the contiguous subarray `[2,3]` has the `largest product = 6`."
   ]
  },
  {
   "cell_type": "code",
   "execution_count": 25,
   "metadata": {
    "collapsed": true
   },
   "outputs": [],
   "source": [
    "\"\"\"DP\n",
    "substructure: max(1. min*nums[i] # both negative\n",
    "                  2. max*nums[i] # both positive\n",
    "                  3. nums[i]     # big single number)\n",
    "\"\"\"\n",
    "class Solution(object):\n",
    "    def maxProduct(self, nums):\n",
    "        \"\"\"\n",
    "        :type nums: List[int]\n",
    "        :rtype: int\n",
    "        \"\"\"\n",
    "        result = nums[0]\n",
    "        maxCurr, minCurr = nums[0], nums[0]\n",
    "        for i in range(1, len(nums)):\n",
    "            maxPrev, minPrev = maxCurr, minCurr\n",
    "            maxCurr = max([nums[i], maxPrev*nums[i], minPrev*nums[i]])\n",
    "            minCurr = min([nums[i], maxPrev*nums[i], minCurr*nums[i]])\n",
    "#             print 'i =', i, 'maxCurr =', maxCurr,'minCurr =', minCurr\n",
    "            result = max(maxCurr, result)\n",
    "        return result"
   ]
  },
  {
   "cell_type": "code",
   "execution_count": 11,
   "metadata": {
    "collapsed": true
   },
   "outputs": [],
   "source": [
    "\"\"\"Brute-force\"\"\"\n",
    "class Solution(object):\n",
    "    def maxProduct(self, nums):\n",
    "        \"\"\"\n",
    "        :type nums: List[int]\n",
    "        :rtype: int\n",
    "        \"\"\"\n",
    "        dp_prev = [nums[0]]\n",
    "        maxProd = nums[0]\n",
    "        for i in range(1, len(nums)):\n",
    "            dp_curr = []\n",
    "            for j in range(0, i):\n",
    "                dp_curr.append(dp_prev[j]*nums[i])\n",
    "            dp_curr.append(nums[i])\n",
    "            dp_prev = dp_curr\n",
    "            if max(dp_prev) > maxProd:\n",
    "                maxProd = max(dp_prev)\n",
    "        return maxProd"
   ]
  },
  {
   "cell_type": "code",
   "execution_count": 28,
   "metadata": {
    "collapsed": false
   },
   "outputs": [
    {
     "name": "stdout",
     "output_type": "stream",
     "text": [
      "i = 1 maxCurr = 2 minCurr = -2\n",
      "i = 2 maxCurr = 14 minCurr = -14\n",
      "i = 3 maxCurr = 42 minCurr = -42\n"
     ]
    },
    {
     "data": {
      "text/plain": [
       "42"
      ]
     },
     "execution_count": 28,
     "metadata": {},
     "output_type": "execute_result"
    }
   ],
   "source": [
    "nums = [-1, -2,7,-3]\n",
    "Solution().maxProduct(nums)"
   ]
  }
 ],
 "metadata": {
  "kernelspec": {
   "display_name": "Python 2",
   "language": "python",
   "name": "python2"
  },
  "language_info": {
   "codemirror_mode": {
    "name": "ipython",
    "version": 2
   },
   "file_extension": ".py",
   "mimetype": "text/x-python",
   "name": "python",
   "nbconvert_exporter": "python",
   "pygments_lexer": "ipython2",
   "version": "2.7.11"
  }
 },
 "nbformat": 4,
 "nbformat_minor": 0
}
