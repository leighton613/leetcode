{
 "cells": [
  {
   "cell_type": "markdown",
   "metadata": {},
   "source": [
    "Reverse a linked list from position m to n. Do it in-place and in one-pass.\n",
    "\n",
    "For example:\n",
    "\n",
    "- Given `1->2->3->4->5->NULL`, m = 2 and n = 4,\n",
    "- return `1->4->3->2->5->NULL`.\n",
    "\n",
    "Note:\n",
    "- Given m, n satisfy the following condition:\n",
    "- `1 ≤ m ≤ n ≤ length` of list."
   ]
  },
  {
   "cell_type": "code",
   "execution_count": 23,
   "metadata": {
    "collapsed": true
   },
   "outputs": [],
   "source": [
    "# Definition for singly-linked list.\n",
    "class ListNode(object):\n",
    "    def __init__(self, x):\n",
    "        self.val = x\n",
    "        self.next = None\n",
    "\n",
    "class Solution(object):\n",
    "    def reverseBetween(self, head, m, n):\n",
    "        \"\"\"\n",
    "        :type head: ListNode\n",
    "        :type m: int\n",
    "        :type n: int\n",
    "        :rtype: ListNode\n",
    "        \"\"\"\n",
    "        # 0,1 nodes\n",
    "        if not head or not head.next or m == n: return head\n",
    "        # \n",
    "        ptrm = ptrn = ptr = head\n",
    "        cnt = 0\n",
    "        while ptr:                  # one pass\n",
    "            cnt += 1\n",
    "            print cnt, \"iteration with Node value:\", ptr.val \n",
    "            if cnt < m-1: ptr = ptr.next\n",
    "            elif cnt == m-1:\n",
    "                first_end = ptr     # first part ends\n",
    "                second_end = ptr.next\n",
    "                ptr = ptr.next\n",
    "                first_end.next = None\n",
    "            elif cnt < n:\n",
    "                prv, cur = ptr, ptr.next\n",
    "                nxt = cur.next\n",
    "                cur.next = prv\n",
    "                prv, cur = cur, nxt\n",
    "                ptr = prv\n",
    "            elif cnt == n:\n",
    "                second = ptr\n",
    "                third = ptr.next\n",
    "                ptr.next = None\n",
    "                ptr = ptr.next\n",
    "            else:\n",
    "                raise ValueError(\"well, error\")\n",
    "        print \"after tranverse...\"\n",
    "        first_end.next = second\n",
    "        second_end.next = third\n",
    "        \n",
    "        return head"
   ]
  },
  {
   "cell_type": "code",
   "execution_count": 24,
   "metadata": {
    "collapsed": false
   },
   "outputs": [
    {
     "name": "stdout",
     "output_type": "stream",
     "text": [
      "[1, 2, 3, 4, 5]\n",
      "1 iteration with Node value: 1\n",
      "2 iteration with Node value: 2\n",
      "3 iteration with Node value: 3\n",
      "4 iteration with Node value: 2\n",
      "after tranverse...\n"
     ]
    },
    {
     "ename": "KeyboardInterrupt",
     "evalue": "",
     "output_type": "error",
     "traceback": [
      "\u001b[0;31m---------------------------------------------------------------------------\u001b[0m",
      "\u001b[0;31mKeyboardInterrupt\u001b[0m                         Traceback (most recent call last)",
      "\u001b[0;32m<ipython-input-24-99df319945e5>\u001b[0m in \u001b[0;36m<module>\u001b[0;34m()\u001b[0m\n\u001b[1;32m      8\u001b[0m \u001b[0mtranverse\u001b[0m\u001b[0;34m(\u001b[0m\u001b[0mhead\u001b[0m\u001b[0;34m.\u001b[0m\u001b[0mnext\u001b[0m\u001b[0;34m)\u001b[0m\u001b[0;34m\u001b[0m\u001b[0m\n\u001b[1;32m      9\u001b[0m \u001b[0mresult\u001b[0m \u001b[0;34m=\u001b[0m \u001b[0mSolution\u001b[0m\u001b[0;34m(\u001b[0m\u001b[0;34m)\u001b[0m\u001b[0;34m.\u001b[0m\u001b[0mreverseBetween\u001b[0m\u001b[0;34m(\u001b[0m\u001b[0mhead\u001b[0m\u001b[0;34m.\u001b[0m\u001b[0mnext\u001b[0m\u001b[0;34m,\u001b[0m \u001b[0;36m2\u001b[0m\u001b[0;34m,\u001b[0m \u001b[0;36m4\u001b[0m\u001b[0;34m)\u001b[0m\u001b[0;34m\u001b[0m\u001b[0m\n\u001b[0;32m---> 10\u001b[0;31m \u001b[0mtranverse\u001b[0m\u001b[0;34m(\u001b[0m\u001b[0mresult\u001b[0m\u001b[0;34m)\u001b[0m\u001b[0;34m\u001b[0m\u001b[0m\n\u001b[0m",
      "\u001b[0;32m<ipython-input-11-d1c4a5e5561e>\u001b[0m in \u001b[0;36mtranverse\u001b[0;34m(head)\u001b[0m\n\u001b[1;32m      3\u001b[0m     \u001b[0mptr\u001b[0m \u001b[0;34m=\u001b[0m \u001b[0mhead\u001b[0m\u001b[0;34m\u001b[0m\u001b[0m\n\u001b[1;32m      4\u001b[0m     \u001b[0;32mwhile\u001b[0m \u001b[0mptr\u001b[0m\u001b[0;34m:\u001b[0m\u001b[0;34m\u001b[0m\u001b[0m\n\u001b[0;32m----> 5\u001b[0;31m         \u001b[0mtemp\u001b[0m\u001b[0;34m.\u001b[0m\u001b[0mappend\u001b[0m\u001b[0;34m(\u001b[0m\u001b[0mptr\u001b[0m\u001b[0;34m.\u001b[0m\u001b[0mval\u001b[0m\u001b[0;34m)\u001b[0m\u001b[0;34m\u001b[0m\u001b[0m\n\u001b[0m\u001b[1;32m      6\u001b[0m         \u001b[0mptr\u001b[0m \u001b[0;34m=\u001b[0m \u001b[0mptr\u001b[0m\u001b[0;34m.\u001b[0m\u001b[0mnext\u001b[0m\u001b[0;34m\u001b[0m\u001b[0m\n\u001b[1;32m      7\u001b[0m     \u001b[0;32mprint\u001b[0m \u001b[0mtemp\u001b[0m\u001b[0;34m\u001b[0m\u001b[0m\n",
      "\u001b[0;31mKeyboardInterrupt\u001b[0m: "
     ]
    }
   ],
   "source": [
    "test = [1,2,3,4,5]\n",
    "head = ListNode(None)\n",
    "ptr = head\n",
    "for i in test:\n",
    "    ptr.next = ListNode(i)\n",
    "    ptr = ptr.next\n",
    "ptr.next = None\n",
    "tranverse(head.next)\n",
    "result = Solution().reverseBetween(head.next, 2, 4)\n",
    "tranverse(result)"
   ]
  },
  {
   "cell_type": "code",
   "execution_count": 11,
   "metadata": {
    "collapsed": true
   },
   "outputs": [],
   "source": [
    "def tranverse(head):\n",
    "    temp = []\n",
    "    ptr = head\n",
    "    while ptr:\n",
    "        temp.append(ptr.val)\n",
    "        ptr = ptr.next\n",
    "    print temp"
   ]
  },
  {
   "cell_type": "code",
   "execution_count": null,
   "metadata": {
    "collapsed": true
   },
   "outputs": [],
   "source": []
  }
 ],
 "metadata": {
  "kernelspec": {
   "display_name": "Python 2",
   "language": "python",
   "name": "python2"
  },
  "language_info": {
   "codemirror_mode": {
    "name": "ipython",
    "version": 2
   },
   "file_extension": ".py",
   "mimetype": "text/x-python",
   "name": "python",
   "nbconvert_exporter": "python",
   "pygments_lexer": "ipython2",
   "version": "2.7.11"
  }
 },
 "nbformat": 4,
 "nbformat_minor": 0
}
