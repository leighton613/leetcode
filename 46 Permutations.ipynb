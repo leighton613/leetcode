{
 "cells": [
  {
   "cell_type": "markdown",
   "metadata": {},
   "source": [
    "Given a collection of distinct numbers, return all possible permutations.\n",
    "\n",
    "For example,\n",
    "`[1,2,3]` have the following permutations:\n",
    "\n",
    "    [\n",
    "      [1,2,3],\n",
    "      [1,3,2],\n",
    "      [2,1,3],\n",
    "      [2,3,1],\n",
    "      [3,1,2],\n",
    "      [3,2,1]\n",
    "    ]"
   ]
  },
  {
   "cell_type": "code",
   "execution_count": 14,
   "metadata": {
    "collapsed": true
   },
   "outputs": [],
   "source": [
    "'''69ms'''\n",
    "from itertools import permutations as p\n",
    "class Solution(object):\n",
    "    def permute(self, nums):\n",
    "        \"\"\"\n",
    "        :type nums: List[int]\n",
    "        :rtype: List[List[int]]\n",
    "        \"\"\"\n",
    "        ans = list(p(nums, len(nums)))\n",
    "        return [list(i) for i in ans]"
   ]
  },
  {
   "cell_type": "code",
   "execution_count": 11,
   "metadata": {
    "collapsed": true
   },
   "outputs": [],
   "source": [
    "'''62ms'''\n",
    "class Solution(object):\n",
    "    def permute(self, nums):\n",
    "        \"\"\"\n",
    "        :type nums: List[int]\n",
    "        :rtype: List[List[int]]\n",
    "        \"\"\"\n",
    "        ans = []\n",
    "        prefix = []\n",
    "        return self.recurPer(prefix, nums, ans)\n",
    "    \n",
    "    def recurPer(self, prefix, nums, ans):\n",
    "        # prefix += [nums.pop()]\n",
    "        if nums == []:\n",
    "            ans.append(prefix)\n",
    "        for i in range(len(nums)):\n",
    "            self.recurPer(prefix+[nums[i]], nums[:i]+nums[i+1:], ans)\n",
    "        \n",
    "        return ans\n",
    "            \n",
    "            \n",
    "        "
   ]
  },
  {
   "cell_type": "code",
   "execution_count": 17,
   "metadata": {
    "collapsed": false
   },
   "outputs": [
    {
     "data": {
      "text/plain": [
       "[[1, 2, 3], [1, 3, 2], [2, 1, 3], [2, 3, 1], [3, 1, 2], [3, 2, 1]]"
      ]
     },
     "execution_count": 17,
     "metadata": {},
     "output_type": "execute_result"
    }
   ],
   "source": [
    "Solution().permute([1,2,3])"
   ]
  }
 ],
 "metadata": {
  "kernelspec": {
   "display_name": "Python 2",
   "language": "python",
   "name": "python2"
  },
  "language_info": {
   "codemirror_mode": {
    "name": "ipython",
    "version": 2
   },
   "file_extension": ".py",
   "mimetype": "text/x-python",
   "name": "python",
   "nbconvert_exporter": "python",
   "pygments_lexer": "ipython2",
   "version": "2.7.11"
  }
 },
 "nbformat": 4,
 "nbformat_minor": 0
}
