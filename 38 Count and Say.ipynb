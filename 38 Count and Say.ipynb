{
 "cells": [
  {
   "cell_type": "markdown",
   "metadata": {},
   "source": [
    "The `count-and-say` sequence is the sequence of integers beginning as follows:\n",
    "`1, 11, 21, 1211, 111221, ...`\n",
    "\n",
    "- `1` is read off as `\"one 1\"` or `11`.\n",
    "- `11` is read off as `\"two 1s\"` or `21`.\n",
    "- `21` is read off as `\"one 2, then one 1\"` or `1211`.\n",
    "- Given an integer n, generate the nth sequence.\n",
    "\n",
    "Note: The sequence of integers will be represented as a string."
   ]
  },
  {
   "cell_type": "code",
   "execution_count": 53,
   "metadata": {
    "collapsed": true
   },
   "outputs": [],
   "source": [
    "'''\n",
    "45.08%\n",
    "'''\n",
    "class Solution(object):\n",
    "    def countAndSay(self, n):\n",
    "        \"\"\"\n",
    "        :type n: int\n",
    "        :rtype: str\n",
    "        \"\"\"\n",
    "        num_str = '1'\n",
    "        for i in xrange(n-1):\n",
    "            CntSay = [1,num_str[0]]\n",
    "            print i, num_str\n",
    "            for idx in xrange(1,len(num_str)):\n",
    "                if num_str[idx] == CntSay[-1]:\n",
    "                    CntSay[-2] += 1\n",
    "                else:\n",
    "                    CntSay.append(1)\n",
    "                    CntSay.append(num_str[idx])\n",
    "            num_str = ''.join([str(ele) for ele in CntSay])\n",
    "        return num_str"
   ]
  },
  {
   "cell_type": "code",
   "execution_count": 55,
   "metadata": {
    "collapsed": true
   },
   "outputs": [],
   "source": [
    "'''\n",
    "ref: https://leetcode.com/discuss/94246/5-lines-python-solution\n",
    "'''\n",
    "import itertools\n",
    "class Solution(object):\n",
    "    def countAndSay(self, n):\n",
    "        \"\"\"\n",
    "        :type n: int\n",
    "        :rtype: str\n",
    "        \"\"\"\n",
    "        seq = '1'\n",
    "        while n != 1:\n",
    "            seq = ''.join([str(len(list(g))) + k for k, g in itertools.groupby(seq)])\n",
    "            n -= 1\n",
    "        return seq"
   ]
  },
  {
   "cell_type": "code",
   "execution_count": 54,
   "metadata": {
    "collapsed": false,
    "scrolled": true
   },
   "outputs": [
    {
     "name": "stdout",
     "output_type": "stream",
     "text": [
      "0 1\n"
     ]
    },
    {
     "data": {
      "text/plain": [
       "'11'"
      ]
     },
     "execution_count": 54,
     "metadata": {},
     "output_type": "execute_result"
    }
   ],
   "source": [
    "Solution().countAndSay(2)"
   ]
  }
 ],
 "metadata": {
  "kernelspec": {
   "display_name": "Python 2",
   "language": "python",
   "name": "python2"
  },
  "language_info": {
   "codemirror_mode": {
    "name": "ipython",
    "version": 2
   },
   "file_extension": ".py",
   "mimetype": "text/x-python",
   "name": "python",
   "nbconvert_exporter": "python",
   "pygments_lexer": "ipython2",
   "version": "2.7.11"
  }
 },
 "nbformat": 4,
 "nbformat_minor": 0
}
