{
 "cells": [
  {
   "cell_type": "markdown",
   "metadata": {},
   "source": [
    "Given a string, find the length of the longest substring without repeating characters.\n",
    "\n",
    "#### Examples:\n",
    "\n",
    "- Given `\"abcabcbb\"`, the answer is `\"abc\"`, which the length is 3.\n",
    "\n",
    "- Given `\"bbbbb\"`, the answer is `\"b\"`, with the length of 1.\n",
    "\n",
    "- Given `\"pwwkew\"`, the answer is `\"wke\"`, with the length of 3. Note that the answer must be a substring, `\"pwke\"` is a subsequence and not a substring."
   ]
  },
  {
   "cell_type": "code",
   "execution_count": 11,
   "metadata": {
    "collapsed": true
   },
   "outputs": [],
   "source": [
    "'''\n",
    "dict[char] = index\n",
    "ISSUE: remove items with value smaller than a threshold\n",
    "2.87%\n",
    "'''\n",
    "\n",
    "class Solution(object):\n",
    "    def lengthOfLongestSubstring(self, s):\n",
    "        \"\"\"\n",
    "        :type s: str\n",
    "        :rtype: int\n",
    "        \"\"\"\n",
    "        mapping = {}\n",
    "        max_len = idx = 0\n",
    "        while idx < len(s):\n",
    "            if mapping.get(s[idx]) != None:\n",
    "                if len(mapping) > max_len: max_len = len(mapping)\n",
    "                old_idx = mapping[s[idx]]\n",
    "                mapping = {key: mapping[key] for key in mapping.keys() if mapping[key]>old_idx}\n",
    "            mapping[s[idx]] = idx\n",
    "            idx += 1\n",
    "        return len(mapping) if len(mapping) > max_len else max_len"
   ]
  },
  {
   "cell_type": "code",
   "execution_count": 12,
   "metadata": {
    "collapsed": false
   },
   "outputs": [
    {
     "data": {
      "text/plain": [
       "3"
      ]
     },
     "execution_count": 12,
     "metadata": {},
     "output_type": "execute_result"
    }
   ],
   "source": [
    "s = \"dvdf\"\n",
    "Solution().lengthOfLongestSubstring(s)"
   ]
  },
  {
   "cell_type": "code",
   "execution_count": 1,
   "metadata": {
    "collapsed": true
   },
   "outputs": [],
   "source": [
    "'''\n",
    "list, \"in list\" to search\n",
    "Hasn't submitted\n",
    "29.64%\n",
    "'''\n",
    "\n",
    "class Solution(object):\n",
    "    def lengthOfLongestSubstring(self, s):\n",
    "        \"\"\"\n",
    "        :type s: str\n",
    "        :rtype: int\n",
    "        \"\"\"\n",
    "        substr = []\n",
    "        max_len = 0\n",
    "        idx = 0\n",
    "        while idx < len(s): \n",
    "            if s[idx] in substr:\n",
    "                if len(substr) > max_len: max_len = len(substr)\n",
    "                old_idx = substr.index(s[idx])\n",
    "                substr = substr[old_idx+1:]\n",
    "            substr.append(s[idx])\n",
    "            idx += 1\n",
    "            # print \"index: \", idx, \"substr length: \", len(substr)\n",
    "        return len(substr) if len(substr) > max_len else max_len"
   ]
  },
  {
   "cell_type": "code",
   "execution_count": null,
   "metadata": {
    "collapsed": true
   },
   "outputs": [],
   "source": []
  }
 ],
 "metadata": {
  "kernelspec": {
   "display_name": "Python 2",
   "language": "python",
   "name": "python2"
  },
  "language_info": {
   "codemirror_mode": {
    "name": "ipython",
    "version": 2
   },
   "file_extension": ".py",
   "mimetype": "text/x-python",
   "name": "python",
   "nbconvert_exporter": "python",
   "pygments_lexer": "ipython2",
   "version": "2.7.11"
  }
 },
 "nbformat": 4,
 "nbformat_minor": 0
}
