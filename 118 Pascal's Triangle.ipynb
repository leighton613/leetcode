{
 "cells": [
  {
   "cell_type": "code",
   "execution_count": 1,
   "metadata": {
    "collapsed": true
   },
   "outputs": [],
   "source": [
    "# Given numRows, generate the first numRows of Pascal's triangle.\n"
   ]
  },
  {
   "cell_type": "code",
   "execution_count": 1,
   "metadata": {
    "collapsed": true
   },
   "outputs": [],
   "source": [
    "# 94.63% !\n",
    "\n",
    "class Solution(object):\n",
    "    def generate(self, numRows):\n",
    "        \"\"\"\n",
    "        :type numRows: int\n",
    "        :rtype: List[List[int]]\n",
    "        \"\"\"\n",
    "        ans = []\n",
    "        # no need to mention 0\n",
    "        \n",
    "        N = 1\n",
    "        while N <= numRows:\n",
    "            if N == 1:\n",
    "                ans.append([1])\n",
    "            elif N == 2:\n",
    "                ans.append([1,1])\n",
    "            else:\n",
    "                temp = [1]\n",
    "                for i in range(len(ans[-1])-1):\n",
    "                    temp.append(ans[-1][i]+ans[-1][i+1])\n",
    "                temp.append(1)\n",
    "                ans.append(temp)\n",
    "            \n",
    "            N += 1\n",
    "        return ans"
   ]
  },
  {
   "cell_type": "code",
   "execution_count": 3,
   "metadata": {
    "collapsed": false,
    "scrolled": true
   },
   "outputs": [
    {
     "data": {
      "text/plain": [
       "[[1], [1, 1], [1, 2, 1], [1, 3, 3, 1], [1, 4, 6, 4, 1]]"
      ]
     },
     "execution_count": 3,
     "metadata": {},
     "output_type": "execute_result"
    }
   ],
   "source": [
    "Solution().generate(5)"
   ]
  },
  {
   "cell_type": "code",
   "execution_count": 22,
   "metadata": {
    "collapsed": true
   },
   "outputs": [],
   "source": [
    "'''\n",
    "Another way is:\n",
    "    1. initialize all the 1s\n",
    "    2. change some of them to be sums\n",
    "'''\n",
    "class Solution(object):\n",
    "    def generate(self, numRows):\n",
    "        \"\"\"\n",
    "        :type numRows: int\n",
    "        :rtype: List[List[int]]\n",
    "        \"\"\"\n",
    "        ans = [[1]*(i+1) for i in range(numRows)]\n",
    "        for i in range(2, numRows):\n",
    "            for j in range(1,i):\n",
    "                ans[i][j] = ans[i-1][j-1] + ans[i-1][j]\n",
    "                # why index will NOT be out of range? if numRows = 0\n",
    "                # Cauz IFF numRows >= 3, the loop runs\n",
    "                # Smart\n",
    "        return ans\n",
    "   "
   ]
  },
  {
   "cell_type": "code",
   "execution_count": null,
   "metadata": {
    "collapsed": true
   },
   "outputs": [],
   "source": []
  }
 ],
 "metadata": {
  "kernelspec": {
   "display_name": "Python 2",
   "language": "python",
   "name": "python2"
  },
  "language_info": {
   "codemirror_mode": {
    "name": "ipython",
    "version": 2
   },
   "file_extension": ".py",
   "mimetype": "text/x-python",
   "name": "python",
   "nbconvert_exporter": "python",
   "pygments_lexer": "ipython2",
   "version": "2.7.11"
  }
 },
 "nbformat": 4,
 "nbformat_minor": 0
}
