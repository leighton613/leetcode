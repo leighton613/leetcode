{
 "cells": [
  {
   "cell_type": "markdown",
   "metadata": {},
   "source": [
    "There are a row of n houses, each house can be painted with one of the three colors: `red`, `blue` or `green`. The cost of painting each house with a certain color is different. You have to paint all the houses such that no two adjacent houses have the same color.\n",
    "\n",
    "The cost of painting each house with a certain color is represented by a `n x 3 cost matrix`. For example, `costs[0][0]` is the cost of painting house 0 with color red; `costs[1][2]` is the cost of painting house 1 with color green, and so on... **Find the minimum cost to paint all houses**.\n",
    "\n",
    "Note:\n",
    "All costs are positive integers."
   ]
  },
  {
   "cell_type": "code",
   "execution_count": 15,
   "metadata": {
    "collapsed": false
   },
   "outputs": [],
   "source": [
    "class Solution(object):\n",
    "    def minCost(self, costs):\n",
    "        \"\"\"\n",
    "        :type costs: List[List[int]]\n",
    "        :rtype: int\n",
    "        \"\"\"\n",
    "        if not costs: return 0\n",
    "        numHouse = len(costs)\n",
    "        numColor = len(costs[0])\n",
    "        colorList = [c for c in range(numColor)]\n",
    "        \n",
    "        costPrev = costs[0]                          # cost for house 0\n",
    "        costCurr = [0 for i in range(numColor)]\n",
    "        for h in range(1, numHouse):                 # for rest of houses\n",
    "            for c in range(numColor):                # for each color\n",
    "                restColorList = colorList[:c] + colorList[c+1:]\n",
    "                costCurr[c] = min([costPrev[rc] + costs[h][c] for rc in restColorList])\n",
    "                                                     # substructure\n",
    "            costPrev = costCurr\n",
    "            costCurr = [0 for i in range(numColor)]\n",
    "        return min(costPrev)\n",
    "        "
   ]
  },
  {
   "cell_type": "code",
   "execution_count": 16,
   "metadata": {
    "collapsed": false
   },
   "outputs": [
    {
     "data": {
      "text/plain": [
       "13"
      ]
     },
     "execution_count": 16,
     "metadata": {},
     "output_type": "execute_result"
    }
   ],
   "source": [
    "costs = [[20,18,4],[9,9,10]]\n",
    "Solution().minCost(costs)"
   ]
  }
 ],
 "metadata": {
  "kernelspec": {
   "display_name": "Python 2",
   "language": "python",
   "name": "python2"
  },
  "language_info": {
   "codemirror_mode": {
    "name": "ipython",
    "version": 2
   },
   "file_extension": ".py",
   "mimetype": "text/x-python",
   "name": "python",
   "nbconvert_exporter": "python",
   "pygments_lexer": "ipython2",
   "version": "2.7.11"
  }
 },
 "nbformat": 4,
 "nbformat_minor": 0
}
