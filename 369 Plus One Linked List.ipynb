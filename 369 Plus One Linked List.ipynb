{
 "cells": [
  {
   "cell_type": "markdown",
   "metadata": {},
   "source": [
    "Given a **non-negative** number represented as a singly linked list of digits, **plus one to the number**.\n",
    "\n",
    "The digits are stored such that the most significant digit is at the head of the list.\n",
    "\n",
    "Example:\n",
    "\n",
    "    Input:\n",
    "    1->2->3\n",
    "\n",
    "    Output:\n",
    "    1->2->4"
   ]
  },
  {
   "cell_type": "code",
   "execution_count": 22,
   "metadata": {
    "collapsed": true
   },
   "outputs": [],
   "source": [
    "# Definition for singly-linked list.\n",
    "\"\"\"\n",
    "32.41%\n",
    "tranverse twice\n",
    "\"\"\"\n",
    "\n",
    "class ListNode(object):\n",
    "    def __init__(self, x):\n",
    "        self.val = x\n",
    "        self.next = None\n",
    "\n",
    "class Solution(object):\n",
    "    def plusOne(self, head):\n",
    "        \"\"\"\n",
    "        :type head: ListNode\n",
    "        :rtype: ListNode\n",
    "        \"\"\"\n",
    "        numNine, allNine = self.tranAndCnt(head)\n",
    "        self.tranverse(head)\n",
    "    \n",
    "        if allNine:      # all nine, then add a new node\n",
    "            ptr = ListNode(1)\n",
    "            ptr.next = head\n",
    "            while head:\n",
    "                head.val = 0\n",
    "                head = head.next\n",
    "                \n",
    "            self.tranverse(ptr)\n",
    "            return ptr\n",
    "    \n",
    "        else:            # just update\n",
    "            fast = head\n",
    "            for i in range(numNine+1):\n",
    "                fast = fast.next\n",
    "                \n",
    "            slow = head\n",
    "            while fast:\n",
    "                fast = fast.next\n",
    "                slow = slow.next\n",
    "            \n",
    "            slow.val += 1\n",
    "            slow = slow.next\n",
    "            while slow:\n",
    "                slow.val = 0\n",
    "                slow = slow.next\n",
    "                \n",
    "            self.tranverse(head)\n",
    "            return head\n",
    "            \n",
    "    def tranAndCnt(self, head):\n",
    "        cntNine = 0\n",
    "        allNine = True\n",
    "        ptr = head\n",
    "        while ptr != None:\n",
    "            if ptr.val == 9:\n",
    "                cntNine += 1\n",
    "            else:\n",
    "                cntNine = 0\n",
    "                allNine = False\n",
    "            ptr = ptr.next\n",
    "        return cntNine, allNine\n",
    "    \n",
    "    def tranverse(self, head):\n",
    "        elements = []\n",
    "        while head:\n",
    "            elements.append(str(head.val))\n",
    "            head = head.next\n",
    "        print \"->\".join(elements)"
   ]
  },
  {
   "cell_type": "code",
   "execution_count": 40,
   "metadata": {
    "collapsed": true
   },
   "outputs": [],
   "source": [
    "\"\"\"\n",
    "71.15%\n",
    "recur, more space\n",
    "\"\"\"\n",
    "class ListNode(object):\n",
    "    def __init__(self, x):\n",
    "        self.val = x\n",
    "        self.next = None\n",
    "\n",
    "class Solution(object):\n",
    "    def plusOne(self, head):\n",
    "        \"\"\"\n",
    "        :type head: ListNode\n",
    "        :rtype: ListNode\n",
    "        \"\"\"   \n",
    "        self.tranverse(head)\n",
    "        carry = self.recursive(head)\n",
    "        if carry:\n",
    "            ptr = ListNode(carry)\n",
    "            ptr.next = head\n",
    "            head = ptr\n",
    "        \n",
    "        self.tranverse(head)\n",
    "        return head\n",
    "        \n",
    "    def recursive(self, head):\n",
    "        if head == None:\n",
    "            carry = 1\n",
    "            return carry\n",
    "        carry = self.recursive(head.next)\n",
    "        temp_sum = (head.val + carry)\n",
    "        carry, head.val = temp_sum // 10, temp_sum % 10\n",
    "        return carry\n",
    "        \n",
    "    def tranverse(self, head):\n",
    "        elements = []\n",
    "        while head:\n",
    "            elements.append(str(head.val))\n",
    "            head = head.next\n",
    "        print \"->\".join(elements)"
   ]
  },
  {
   "cell_type": "code",
   "execution_count": 38,
   "metadata": {
    "collapsed": true
   },
   "outputs": [],
   "source": [
    "head = ListNode(5)\n",
    "ptr = head\n",
    "for i in [1,2,4]:\n",
    "    ptr.next = ListNode(i)\n",
    "    ptr = ptr.next"
   ]
  },
  {
   "cell_type": "code",
   "execution_count": 39,
   "metadata": {
    "collapsed": false
   },
   "outputs": [
    {
     "name": "stdout",
     "output_type": "stream",
     "text": [
      "5->1->2->4\n",
      "5->1->2->5\n"
     ]
    },
    {
     "data": {
      "text/plain": [
       "<__main__.ListNode at 0x104b05f50>"
      ]
     },
     "execution_count": 39,
     "metadata": {},
     "output_type": "execute_result"
    }
   ],
   "source": [
    "Solution().plusOne(head)"
   ]
  }
 ],
 "metadata": {
  "kernelspec": {
   "display_name": "Python 2",
   "language": "python",
   "name": "python2"
  },
  "language_info": {
   "codemirror_mode": {
    "name": "ipython",
    "version": 2
   },
   "file_extension": ".py",
   "mimetype": "text/x-python",
   "name": "python",
   "nbconvert_exporter": "python",
   "pygments_lexer": "ipython2",
   "version": "2.7.11"
  }
 },
 "nbformat": 4,
 "nbformat_minor": 0
}
