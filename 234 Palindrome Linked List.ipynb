{
 "cells": [
  {
   "cell_type": "markdown",
   "metadata": {},
   "source": [
    "Given a singly linked list, determine if it is a palindrome.\n",
    "\n",
    "Follow up:\n",
    "Could you do it in O(n) time and O(1) space?"
   ]
  },
  {
   "cell_type": "code",
   "execution_count": null,
   "metadata": {
    "collapsed": true
   },
   "outputs": [],
   "source": [
    "'''\n",
    "tranverse to a python list\n",
    "O(n) space\n",
    "O(n) time \n",
    "2.86%\n",
    "'''\n",
    "# Definition for singly-linked list.\n",
    "# class ListNode(object):\n",
    "#     def __init__(self, x):\n",
    "#         self.val = x\n",
    "#         self.next = None\n",
    "\n",
    "class Solution(object):\n",
    "    def isPalindrome(self, head):\n",
    "        \"\"\"\n",
    "        :type head: ListNode\n",
    "        :rtype: bool\n",
    "        \"\"\"\n",
    "        temp = []\n",
    "        while head:\n",
    "            temp.append(head.val)\n",
    "            head = head.next\n",
    "        while len(temp) > 1 and temp[0] == temp[-1]:\n",
    "            temp.pop(0)\n",
    "            temp.pop()\n",
    "        if len(temp) <= 1: return True\n",
    "        return False"
   ]
  },
  {
   "cell_type": "code",
   "execution_count": null,
   "metadata": {
    "collapsed": true
   },
   "outputs": [],
   "source": [
    "'''\n",
    "Tranverse in a list\n",
    "list(reversed(.)) build-in function trick\n",
    "O(n) time\n",
    "O(n) space\n",
    "59%\n",
    "'''\n",
    "\n",
    "class Solution(object):\n",
    "    def isPalindrome(self, head):\n",
    "        \"\"\"\n",
    "        :type head: ListNode\n",
    "        :rtype: bool\n",
    "        \"\"\"\n",
    "        temp = []\n",
    "        while head:\n",
    "            temp.append(head.val)\n",
    "            head = head.next\n",
    "        if temp == list(reversed(temp)): return True\n",
    "        return False"
   ]
  },
  {
   "cell_type": "code",
   "execution_count": 13,
   "metadata": {
    "collapsed": false
   },
   "outputs": [],
   "source": [
    "'''\n",
    "O(n) time\n",
    "O(1) space\n",
    "59.74%\n",
    "'''\n",
    "\n",
    "class Solution(object):\n",
    "    def isPalindrome(self, head):\n",
    "        \"\"\"\n",
    "        :type head: ListNode\n",
    "        :rtype: bool\n",
    "        \"\"\"\n",
    "        # 0, 1 nodes\n",
    "        if head == None or head.next == None: return True\n",
    "        \n",
    "        # 2 nodes\n",
    "        elif head.next.next == None:\n",
    "            if head.val == head.next.val: return True\n",
    "            else: return False\n",
    "            \n",
    "        # 3 nodes\n",
    "        elif head.next.next.next == None:\n",
    "            if head.val == head.next.next.val: return True\n",
    "            else: return False\n",
    "            \n",
    "        # 4 nodes at least\n",
    "        else:\n",
    "            slow = head\n",
    "            fast = head.next\n",
    "            while fast.next and fast.next.next:\n",
    "                slow = slow.next\n",
    "                fast = fast.next.next\n",
    "            if fast.next == None:     # even\n",
    "                second = slow.next\n",
    "                slow.next = None\n",
    "            else:                     # odd\n",
    "                second = slow.next.next\n",
    "                slow.next = None\n",
    "\n",
    "            first = self.reverse(head)\n",
    "\n",
    "            # check same\n",
    "            while first and second:\n",
    "                if first.val != second.val:\n",
    "                    return False\n",
    "                first, second = first.next, second.next\n",
    "            return True\n",
    "    \n",
    "    def reverse(self, head):\n",
    "        # at least 3 nodes to reverse\n",
    "        prv, cur = head, head.next\n",
    "        while prv and cur:\n",
    "            nxt = cur.next\n",
    "            cur.next = prv\n",
    "            prv, cur = cur, nxt\n",
    "        return prv\n",
    "        \n",
    "        \n",
    "            "
   ]
  },
  {
   "cell_type": "code",
   "execution_count": null,
   "metadata": {
    "collapsed": true
   },
   "outputs": [],
   "source": []
  }
 ],
 "metadata": {
  "kernelspec": {
   "display_name": "Python 2",
   "language": "python",
   "name": "python2"
  },
  "language_info": {
   "codemirror_mode": {
    "name": "ipython",
    "version": 2
   },
   "file_extension": ".py",
   "mimetype": "text/x-python",
   "name": "python",
   "nbconvert_exporter": "python",
   "pygments_lexer": "ipython2",
   "version": "2.7.11"
  }
 },
 "nbformat": 4,
 "nbformat_minor": 0
}
