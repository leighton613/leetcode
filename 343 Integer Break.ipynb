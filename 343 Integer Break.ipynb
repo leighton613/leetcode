{
 "cells": [
  {
   "cell_type": "markdown",
   "metadata": {},
   "source": [
    "Given a positive integer n, break it into the sum of at least two positive integers and maximize the product of those integers. Return the maximum product you can get.\n",
    "\n",
    "For example, given `n = 2`, return `1 (2 = 1 + 1)`; given `n = 10`, return `36 (10 = 3 + 3 + 4)`.\n",
    "\n",
    "Note: You may assume that n is not less than 2 and not larger than 58."
   ]
  },
  {
   "cell_type": "code",
   "execution_count": 19,
   "metadata": {
    "collapsed": true
   },
   "outputs": [],
   "source": [
    "class Solution(object):\n",
    "    def integerBreak(self, n):\n",
    "        \"\"\"\n",
    "        :type n: int\n",
    "        :rtype: int\n",
    "        \"\"\"\n",
    "        maxProd = 0\n",
    "        for split in range(2,n+1):\n",
    "            prod = self.splitProd(n, split)\n",
    "            if prod > maxProd:\n",
    "                maxProd = prod\n",
    "        return maxProd\n",
    "    \n",
    "    def splitProd(self, n, split):\n",
    "        size = n // split\n",
    "        nLarge = n % split\n",
    "        breaks = [size for i in range(split-nLarge)] + [size+1 for i in range(nLarge)]\n",
    "        assert sum(breaks) == n\n",
    "        return reduce(lambda x,y: x*y, breaks)"
   ]
  },
  {
   "cell_type": "code",
   "execution_count": 20,
   "metadata": {
    "collapsed": false
   },
   "outputs": [
    {
     "data": {
      "text/plain": [
       "1549681956"
      ]
     },
     "execution_count": 20,
     "metadata": {},
     "output_type": "execute_result"
    }
   ],
   "source": [
    "Solution().integerBreak(58)"
   ]
  },
  {
   "cell_type": "markdown",
   "metadata": {},
   "source": [
    "`x` is the factor, `n` is the integer to break. \n",
    "To maximize $y = x^{(\\frac{n}{x})}$, the derivative is $y' = x^{(\\frac{n}{x})} * \\frac{n}{x^2} * (1-ln(x))$, which forces solution to be around `e`, **when `n` is large enough**. When n is small, the product will easily be influenced by the remains ($\\frac{n}{x}$ is not integer)\n",
    "\n",
    "**When n is mall**, like smaller than 10, we still can do brute-force search."
   ]
  }
 ],
 "metadata": {
  "kernelspec": {
   "display_name": "Python 2",
   "language": "python",
   "name": "python2"
  },
  "language_info": {
   "codemirror_mode": {
    "name": "ipython",
    "version": 2
   },
   "file_extension": ".py",
   "mimetype": "text/x-python",
   "name": "python",
   "nbconvert_exporter": "python",
   "pygments_lexer": "ipython2",
   "version": "2.7.11"
  }
 },
 "nbformat": 4,
 "nbformat_minor": 0
}
